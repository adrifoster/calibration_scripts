{
 "cells": [
  {
   "cell_type": "markdown",
   "id": "2366f1c4-8b12-48a9-b020-6b9be72645d9",
   "metadata": {},
   "source": [
    "# Calculate Global Whittaker Biomes"
   ]
  },
  {
   "cell_type": "code",
   "execution_count": 6,
   "id": "8ea47742-37af-4106-81d5-874dea1013aa",
   "metadata": {},
   "outputs": [],
   "source": [
    "from dask_jobqueue import PBSCluster\n",
    "from dask.distributed import Client\n",
    "import xarray as xr\n",
    "\n",
    "from calculate_whittaker_biomes import get_biome_map"
   ]
  },
  {
   "cell_type": "code",
   "execution_count": 3,
   "id": "2dd5469e-33b4-4d16-b901-4adfa61f68a9",
   "metadata": {},
   "outputs": [],
   "source": [
    "# Setup PBSCluster\n",
    "cluster = PBSCluster(\n",
    "    cores=1,                                     # The number of cores you want\n",
    "    memory='25GB',                               # Amount of memory\n",
    "    processes=1,                                 # How many processes\n",
    "    queue='casper',                              # The type of queue to utilize\n",
    "    local_directory='/glade/work/afoster',       # Use your local directory\n",
    "    resource_spec='select=1:ncpus=1:mem=25GB',   # Specify resources\n",
    "    account='P93300041',                         # Input your project ID here\n",
    "    walltime='02:00:00',                         # Amount of wall time\n",
    "    interface='ext')"
   ]
  },
  {
   "cell_type": "code",
   "execution_count": 4,
   "id": "f1669f5b-e919-409d-88b8-07441b9eed8e",
   "metadata": {},
   "outputs": [],
   "source": [
    "cluster.scale(2)\n",
    "client = Client(cluster)"
   ]
  },
  {
   "cell_type": "code",
   "execution_count": 7,
   "id": "ee798aa0-f9f5-478e-9b4e-98a8eeda3e2d",
   "metadata": {},
   "outputs": [],
   "source": [
    "clm_sim_dir = '/glade/campaign/cgd/tss/people/oleson/PPE/clm51_lmbirchwkattgen01ctsm51d006_2deg_GSWP3V1_nocrop_PPE2_hist/lnd/hist/'\n",
    "whit_shp = '/glade/work/afoster/FATES_calibration/CLM5PPE/pyth/whit/Whittaker_biomes.shp'\n",
    "whit_key = xr.open_dataset('/glade/work/afoster/FATES_calibration/CLM5PPE/pyth/whit/whitkey.nc')"
   ]
  },
  {
   "cell_type": "code",
   "execution_count": 8,
   "id": "3c8f697b-d65f-4c81-bf68-5c5374b67dbb",
   "metadata": {},
   "outputs": [],
   "source": [
    "biome = get_biome_map(clm_sim_dir, whit_shp, whit_key)"
   ]
  },
  {
   "cell_type": "code",
   "execution_count": 9,
   "id": "b9ed5c9d-ddfc-4389-a8b4-5cca6ad4de45",
   "metadata": {},
   "outputs": [
    {
     "name": "stderr",
     "output_type": "stream",
     "text": [
      "/glade/derecho/scratch/afoster/tmp/ipykernel_39653/3235923962.py:1: SerializationWarning: variable biome_name has data in the form of a dask array with dtype=object, which means it is being loaded into memory to determine a data type that can be safely stored on disk. To avoid this, coerce this variable to a fixed-size dtype with astype() before saving it.\n",
      "  biome.to_netcdf('/glade/u/home/afoster/FATES_Calibration/FATES_SP/observations/biome_2deg.nc')\n"
     ]
    }
   ],
   "source": [
    "biome.to_netcdf('/glade/u/home/afoster/FATES_Calibration/FATES_SP/observations/biome_2deg.nc')"
   ]
  },
  {
   "cell_type": "code",
   "execution_count": null,
   "id": "900097a9-38ba-45ab-aa63-9b990ced1fdf",
   "metadata": {},
   "outputs": [],
   "source": []
  }
 ],
 "metadata": {
  "kernelspec": {
   "display_name": "Python 3 (ipykernel)",
   "language": "python",
   "name": "python3"
  },
  "language_info": {
   "codemirror_mode": {
    "name": "ipython",
    "version": 3
   },
   "file_extension": ".py",
   "mimetype": "text/x-python",
   "name": "python",
   "nbconvert_exporter": "python",
   "pygments_lexer": "ipython3",
   "version": "3.10.13"
  }
 },
 "nbformat": 4,
 "nbformat_minor": 5
}
