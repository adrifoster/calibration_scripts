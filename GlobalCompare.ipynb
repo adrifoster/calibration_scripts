{
 "cells": [
  {
   "cell_type": "code",
   "execution_count": 28,
   "id": "1973eac4-c6ec-42c2-ae77-4588fd92aef0",
   "metadata": {},
   "outputs": [],
   "source": [
    "import os\n",
    "import glob\n",
    "\n",
    "import numpy as np\n",
    "import functools\n",
    "import xarray as xr\n",
    "import dask\n",
    "from dask_jobqueue import PBSCluster\n",
    "from dask.distributed import Client"
   ]
  },
  {
   "cell_type": "code",
   "execution_count": 29,
   "id": "565f74b6-26fc-4e30-9c8b-a77b6e0548c3",
   "metadata": {},
   "outputs": [
    {
     "name": "stderr",
     "output_type": "stream",
     "text": [
      "/glade/work/afoster/conda-envs/fates_calibration/lib/python3.11/site-packages/distributed/node.py:182: UserWarning: Port 8787 is already in use.\n",
      "Perhaps you already have a cluster running?\n",
      "Hosting the HTTP server on port 34711 instead\n",
      "  warnings.warn(\n"
     ]
    },
    {
     "data": {
      "text/html": [
       "<div>\n",
       "    <div style=\"width: 24px; height: 24px; background-color: #e1e1e1; border: 3px solid #9D9D9D; border-radius: 5px; position: absolute;\"> </div>\n",
       "    <div style=\"margin-left: 48px;\">\n",
       "        <h3 style=\"margin-bottom: 0px;\">Client</h3>\n",
       "        <p style=\"color: #9D9D9D; margin-bottom: 0px;\">Client-336f1045-efb9-11ef-9211-3cecef1aca46</p>\n",
       "        <table style=\"width: 100%; text-align: left;\">\n",
       "\n",
       "        <tr>\n",
       "        \n",
       "            <td style=\"text-align: left;\"><strong>Connection method:</strong> Cluster object</td>\n",
       "            <td style=\"text-align: left;\"><strong>Cluster type:</strong> dask_jobqueue.PBSCluster</td>\n",
       "        \n",
       "        </tr>\n",
       "\n",
       "        \n",
       "            <tr>\n",
       "                <td style=\"text-align: left;\">\n",
       "                    <strong>Dashboard: </strong> <a href=\"https://jupyterhub.hpc.ucar.edu/stable/user/afoster/proxy/34711/status\" target=\"_blank\">https://jupyterhub.hpc.ucar.edu/stable/user/afoster/proxy/34711/status</a>\n",
       "                </td>\n",
       "                <td style=\"text-align: left;\"></td>\n",
       "            </tr>\n",
       "        \n",
       "\n",
       "        </table>\n",
       "\n",
       "        \n",
       "\n",
       "        \n",
       "            <details>\n",
       "            <summary style=\"margin-bottom: 20px;\"><h3 style=\"display: inline;\">Cluster Info</h3></summary>\n",
       "            <div class=\"jp-RenderedHTMLCommon jp-RenderedHTML jp-mod-trusted jp-OutputArea-output\">\n",
       "    <div style=\"width: 24px; height: 24px; background-color: #e1e1e1; border: 3px solid #9D9D9D; border-radius: 5px; position: absolute;\">\n",
       "    </div>\n",
       "    <div style=\"margin-left: 48px;\">\n",
       "        <h3 style=\"margin-bottom: 0px; margin-top: 0px;\">PBSCluster</h3>\n",
       "        <p style=\"color: #9D9D9D; margin-bottom: 0px;\">ebc600a5</p>\n",
       "        <table style=\"width: 100%; text-align: left;\">\n",
       "            <tr>\n",
       "                <td style=\"text-align: left;\">\n",
       "                    <strong>Dashboard:</strong> <a href=\"https://jupyterhub.hpc.ucar.edu/stable/user/afoster/proxy/34711/status\" target=\"_blank\">https://jupyterhub.hpc.ucar.edu/stable/user/afoster/proxy/34711/status</a>\n",
       "                </td>\n",
       "                <td style=\"text-align: left;\">\n",
       "                    <strong>Workers:</strong> 0\n",
       "                </td>\n",
       "            </tr>\n",
       "            <tr>\n",
       "                <td style=\"text-align: left;\">\n",
       "                    <strong>Total threads:</strong> 0\n",
       "                </td>\n",
       "                <td style=\"text-align: left;\">\n",
       "                    <strong>Total memory:</strong> 0 B\n",
       "                </td>\n",
       "            </tr>\n",
       "            \n",
       "        </table>\n",
       "\n",
       "        <details>\n",
       "            <summary style=\"margin-bottom: 20px;\">\n",
       "                <h3 style=\"display: inline;\">Scheduler Info</h3>\n",
       "            </summary>\n",
       "\n",
       "            <div style=\"\">\n",
       "    <div>\n",
       "        <div style=\"width: 24px; height: 24px; background-color: #FFF7E5; border: 3px solid #FF6132; border-radius: 5px; position: absolute;\"> </div>\n",
       "        <div style=\"margin-left: 48px;\">\n",
       "            <h3 style=\"margin-bottom: 0px;\">Scheduler</h3>\n",
       "            <p style=\"color: #9D9D9D; margin-bottom: 0px;\">Scheduler-4f1b6114-4fa6-4a4b-b646-8ea02517fd77</p>\n",
       "            <table style=\"width: 100%; text-align: left;\">\n",
       "                <tr>\n",
       "                    <td style=\"text-align: left;\">\n",
       "                        <strong>Comm:</strong> tcp://128.117.208.96:42295\n",
       "                    </td>\n",
       "                    <td style=\"text-align: left;\">\n",
       "                        <strong>Workers:</strong> 0\n",
       "                    </td>\n",
       "                </tr>\n",
       "                <tr>\n",
       "                    <td style=\"text-align: left;\">\n",
       "                        <strong>Dashboard:</strong> <a href=\"https://jupyterhub.hpc.ucar.edu/stable/user/afoster/proxy/34711/status\" target=\"_blank\">https://jupyterhub.hpc.ucar.edu/stable/user/afoster/proxy/34711/status</a>\n",
       "                    </td>\n",
       "                    <td style=\"text-align: left;\">\n",
       "                        <strong>Total threads:</strong> 0\n",
       "                    </td>\n",
       "                </tr>\n",
       "                <tr>\n",
       "                    <td style=\"text-align: left;\">\n",
       "                        <strong>Started:</strong> Just now\n",
       "                    </td>\n",
       "                    <td style=\"text-align: left;\">\n",
       "                        <strong>Total memory:</strong> 0 B\n",
       "                    </td>\n",
       "                </tr>\n",
       "            </table>\n",
       "        </div>\n",
       "    </div>\n",
       "\n",
       "    <details style=\"margin-left: 48px;\">\n",
       "        <summary style=\"margin-bottom: 20px;\">\n",
       "            <h3 style=\"display: inline;\">Workers</h3>\n",
       "        </summary>\n",
       "\n",
       "        \n",
       "\n",
       "    </details>\n",
       "</div>\n",
       "\n",
       "        </details>\n",
       "    </div>\n",
       "</div>\n",
       "            </details>\n",
       "        \n",
       "\n",
       "    </div>\n",
       "</div>"
      ],
      "text/plain": [
       "<Client: 'tcp://128.117.208.96:42295' processes=0 threads=0, memory=0 B>"
      ]
     },
     "execution_count": 29,
     "metadata": {},
     "output_type": "execute_result"
    }
   ],
   "source": [
    "# Setup PBSCluster\n",
    "cluster = PBSCluster(\n",
    "    cores=1,                                                   # The number of cores you want\n",
    "    memory='25GB',                                             # Amount of memory\n",
    "    processes=1,                                               # How many processes\n",
    "    queue='casper',                                            # The type of queue to utilize\n",
    "    local_directory='/glade/work/afoster',                     # Use your local directory\n",
    "    resource_spec='select=1:ncpus=1:mem=25GB',                 # Specify resources\n",
    "    log_directory='/glade/derecho/scratch/afoster/dask_logs',  # log directory\n",
    "    account='P08010000',                                       # Input your project ID here\n",
    "    walltime='02:00:00',                                       # Amount of wall time\n",
    "    interface='ext')                                           # Interface to use\n",
    "\n",
    "cluster.scale(10)\n",
    "dask.config.set({\n",
    "    'distributed.dashboard.link': 'https://jupyterhub.hpc.ucar.edu/stable/user/{USER}/proxy/{port}/status'\n",
    "})\n",
    "client = Client(cluster)\n",
    "client"
   ]
  },
  {
   "cell_type": "code",
   "execution_count": 30,
   "id": "b4e6249a-5e9c-4f4b-96fa-557f7c847140",
   "metadata": {},
   "outputs": [],
   "source": [
    "#client.shutdown()"
   ]
  },
  {
   "cell_type": "code",
   "execution_count": 31,
   "id": "73458822-ee08-4b1e-8b58-bc4649323795",
   "metadata": {},
   "outputs": [],
   "source": [
    "def preprocess(ds, varset):\n",
    "    return ds[varset]\n",
    "\n",
    "def get_files(archive_dir, case_name):\n",
    "    return sorted(glob.glob(os.path.join(archive_dir, case_name, 'lnd', 'hist/') + \"*clm2.h0*.nc\"))\n",
    "\n",
    "def annual_mean(da, cf):\n",
    "\n",
    "    days_per_month = da['time.daysinmonth']\n",
    "    ann_mean = cf*(days_per_month*da).groupby('time.year').sum()\n",
    "    ann_mean.name = da.name\n",
    "\n",
    "    return ann_mean"
   ]
  },
  {
   "cell_type": "code",
   "execution_count": 32,
   "id": "13264150-6197-4d5f-807a-ae062d300405",
   "metadata": {},
   "outputs": [],
   "source": [
    "def get_ds(files, vars, fates=True):\n",
    "    ds = xr.open_mfdataset(files, combine='nested', concat_dim='time',\n",
    "                       preprocess=functools.partial(preprocess,\n",
    "                                                    varset=vars),\n",
    "                       parallel=True, autoclose=True)\n",
    "\n",
    "    ds['time'] = xr.cftime_range(str(2005), periods=len(ds.time), freq='MS')\n",
    "\n",
    "    if fates:\n",
    "        ds['GPP'] = ds['FATES_GPP']*ds['FATES_FRACTION']  # kg m-2 s-1\n",
    "        ds['GPP'].attrs['units'] = 'kg m-2 s-1'\n",
    "        ds['GPP'].attrs['long_name'] = ds['FATES_GPP'].attrs['long_name']\n",
    "    \n",
    "        ds['LAI'] = ds['FATES_LAI']*ds['FATES_FRACTION']  # kg m-2 s-1\n",
    "        ds['LAI'].attrs['units'] = 'm2 m-2'\n",
    "        ds['LAI'].attrs['long_name'] = ds['FATES_LAI'].attrs['long_name']\n",
    "    else:\n",
    "        ds['GPP'] = ds['FPSN']*1E-6*12.011/1000.0 # kg m-2 s-1\n",
    "        ds['GPP'].attrs['units'] = 'kg m-2 s-1'\n",
    "        ds['GPP'].attrs['long_name'] = ds['FPSN'].attrs['long_name']\n",
    "    \n",
    "        ds['LAI'] = ds['TLAI'] # m m-2 \n",
    "        ds['LAI'].attrs['units'] = ds['TLAI'].attrs['units']\n",
    "        ds['LAI'].attrs['long_name'] = ds['TLAI'].attrs['long_name']\n",
    "\n",
    "    sh = ds.FSH\n",
    "    le = ds.EFLX_LH_TOT\n",
    "    energy_threshold = 20\n",
    "    \n",
    "    sh = sh.where((sh > 0) & (le > 0) & ((le + sh) > energy_threshold))\n",
    "    le = le.where((sh > 0) & (le > 0) & ((le + sh) > energy_threshold))\n",
    "    ds['EF'] = le/(le + sh)\n",
    "    ds['EF'].attrs['units'] = 'unitless'\n",
    "    ds['EF'].attrs['long_name'] = 'Evaporative fraction'\n",
    "\n",
    "    ds['ASA'] = ds.FSR/ds.FSDS.where(ds.FSDS > 0)\n",
    "    ds['ASA'].attrs['units'] = 'unitless'\n",
    "    ds['ASA'].attrs['long_name'] = 'All sky albedo'\n",
    "    \n",
    "    ds['RLNS'] = ds.FLDS - ds.FIRE\n",
    "    ds['RLNS'].attrs['units'] = 'W m-2'\n",
    "    ds['RLNS'].attrs['long_name'] = 'surface net longwave radiation'\n",
    "    \n",
    "    ds['RN'] = ds.FLDS - ds.FIRE + ds.FSDS - ds.FSR\n",
    "    ds['RN'].attrs['units'] = 'W m-2'\n",
    "    ds['RN'].attrs['long_name'] = 'surface net radiation'\n",
    "    \n",
    "    ds['Temp'] = ds.TSA - 273.15\n",
    "    ds['Temp'].attrs['units'] = 'degrees C'\n",
    "    ds['Temp'].attrs['long_name'] = ds['TSA'].attrs['long_name']\n",
    "\n",
    "    return ds"
   ]
  },
  {
   "cell_type": "code",
   "execution_count": 33,
   "id": "b482b914-316b-4431-8b0d-e4877f57fe32",
   "metadata": {},
   "outputs": [],
   "source": [
    "def get_annual_ds(ds):\n",
    "    gpp = annual_mean(ds.GPP, 24*60*60).mean(dim='year')\n",
    "    lh = annual_mean(ds.EFLX_LH_TOT, 1/365).mean(dim='year')\n",
    "    sh = annual_mean(ds.FSH, 1/365).mean(dim='year')\n",
    "    ef = annual_mean(ds.EF, 1/365).mean(dim='year')\n",
    "    alb = annual_mean(ds.ASA, 1/365).mean(dim='year')\n",
    "    fsr = annual_mean(ds.FSR, 1/365).mean(dim='year')\n",
    "    fsa = annual_mean(ds.FSA, 1/365).mean(dim='year')\n",
    "    fire = annual_mean(ds.FIRE, 1/365).mean(dim='year')\n",
    "    rlns = annual_mean(ds.RLNS, 1/365).mean(dim='year')\n",
    "    rn = annual_mean(ds.RN, 1/365).mean(dim='year')\n",
    "    lai = annual_mean(ds.LAI, 1/365).mean(dim='year')\n",
    "    temp = annual_mean(ds.Temp, 1/365).mean(dim='year')\n",
    "    htop = annual_mean(ds.HTOP, 1/365).mean(dim='year')\n",
    "    tlai = annual_mean(ds.TLAI, 1/365).mean(dim='year')\n",
    "\n",
    "    ds = xr.merge([gpp, lh, sh, ef, alb, fsr, fsa, fire, rlns, rn, lai, temp, htop, tlai])\n",
    "    return ds"
   ]
  },
  {
   "cell_type": "code",
   "execution_count": 34,
   "id": "c4134b9d-7d02-43e9-b30c-ad545bbd44b7",
   "metadata": {},
   "outputs": [],
   "source": [
    "def get_diff(ds, var):\n",
    "\n",
    "    var_diff = ds[var].sel(version='pr') - ds[var].sel(version='master')\n",
    "    return var_diff"
   ]
  },
  {
   "cell_type": "code",
   "execution_count": 35,
   "id": "6b779b52-17e0-4911-a128-59314170d5be",
   "metadata": {},
   "outputs": [],
   "source": [
    "def get_rel_diff(ds, var):\n",
    "\n",
    "    var_old = ds[var].sel(version='master')\n",
    "    var_diff = ds[var].sel(version='pr') - ds[var].sel(version='master')\n",
    "    rel_diff = var_diff/var_old\n",
    "    return rel_diff"
   ]
  },
  {
   "cell_type": "code",
   "execution_count": 36,
   "id": "98ead6d0-8788-4fe1-81e4-325c2fd69344",
   "metadata": {},
   "outputs": [],
   "source": [
    "fsurdat = os.path.join('/glade/campaign/cesm/cesmdata/inputdata/lnd/',\n",
    "                       'clm2/surfdata_esmf/ctsm5.3.0/',\n",
    "                       'surfdata_1.9x2.5_hist_2000_16pfts_c240908.nc')\n",
    "surdat = xr.open_dataset(fsurdat)"
   ]
  },
  {
   "cell_type": "code",
   "execution_count": 65,
   "id": "6082baac-0917-48c3-85b4-6fdcda6c0459",
   "metadata": {},
   "outputs": [],
   "source": [
    "archive_dir = '/glade/derecho/scratch/afoster/archive'\n",
    "\n",
    "case_fates_master = 'ctsm60SP_fates_master'\n",
    "case_fates_pr = 'ctsm60SP_fates_pr_test2'\n",
    "case_bigleaf_master = 'ctsm60SP_bigleaf_master'\n",
    "case_bigleaf_pr = 'ctsm60SP_bigleaf_pr'\n",
    "\n",
    "data_vars_fates = ['FATES_GPP', 'FATES_FRACTION', 'QVEGE', 'QVEGT', 'EFLX_LH_TOT', 'FSH', 'QRUNOFF',\n",
    "             'SOILWATER_10CM', 'FSR', 'FSDS', 'FSA', 'FIRE', 'FLDS', 'RAIN',\n",
    "             'SNOW', 'H2OSNO', 'SNOWDP', 'TSA', 'landfrac', 'area', 'FATES_LAI',\n",
    "             'HTOP', 'TLAI']\n",
    "data_vars_bigleaf = ['FPSN', 'QVEGE', 'QVEGT', 'EFLX_LH_TOT', 'FSH', 'QRUNOFF',\n",
    "             'SOILWATER_10CM', 'FSR', 'FSDS', 'FSA', 'FIRE', 'FLDS', 'RAIN',\n",
    "             'SNOW', 'H2OSNO', 'SNOWDP', 'TSA', 'landfrac', 'area', 'TLAI']"
   ]
  },
  {
   "cell_type": "code",
   "execution_count": 66,
   "id": "60560470-34e6-48cd-9db0-d41f0d10b092",
   "metadata": {},
   "outputs": [],
   "source": [
    "files_fates_master = get_files(archive_dir, case_fates_master)\n",
    "files_bigleaf_master = get_files(archive_dir, case_bigleaf_master)\n",
    "files_fates_pr = get_files(archive_dir, case_fates_pr)\n",
    "files_bigleaf_pr = get_files(archive_dir, case_bigleaf_pr)"
   ]
  },
  {
   "cell_type": "code",
   "execution_count": 67,
   "id": "94c6e706-086c-4a1f-9a8d-317dac6245a4",
   "metadata": {},
   "outputs": [],
   "source": [
    "ds_fates_master = get_ds(files_fates_master, data_vars_fates)\n",
    "ds_bigleaf_master = get_ds(files_bigleaf_master, data_vars_bigleaf, fates=False)\n",
    "ds_fates_pr = get_ds(files_fates_pr, data_vars_fates)\n",
    "ds_bigleaf_pr = get_ds(files_bigleaf_pr, data_vars_bigleaf, fates=False)"
   ]
  },
  {
   "cell_type": "code",
   "execution_count": 68,
   "id": "10c1f13c-4650-4c68-ba4c-5d9b5ded3c5c",
   "metadata": {},
   "outputs": [],
   "source": [
    "all_fates = xr.concat([ds_fates_master, ds_fates_pr], dim='version')\n",
    "all_fates = all_fates.assign_coords(version=('version', ['master', 'pr']))\n",
    "all_bigleaf = xr.concat([ds_bigleaf_master, ds_bigleaf_pr], dim='version')\n",
    "all_bigleaf = all_bigleaf.assign_coords(version=('version', ['master', 'pr']))"
   ]
  },
  {
   "cell_type": "code",
   "execution_count": 69,
   "id": "63df936b-bd5b-41a9-b61b-74965272c058",
   "metadata": {},
   "outputs": [],
   "source": [
    "htop = annual_mean(all_fates.HTOP, 1/365)\n",
    "tlai = annual_mean(all_fates.TLAI, 1/365)"
   ]
  },
  {
   "cell_type": "code",
   "execution_count": 70,
   "id": "0ef3c270-4acd-4122-8074-5312b0fc747a",
   "metadata": {},
   "outputs": [],
   "source": [
    "all_fates_annual = get_annual_ds(all_fates)"
   ]
  },
  {
   "cell_type": "code",
   "execution_count": 71,
   "id": "61993385-7ca4-4a45-9481-d9c414e7ee67",
   "metadata": {},
   "outputs": [],
   "source": [
    "gpp_diff = get_diff(all_fates_annual, 'GPP')\n",
    "lh_diff = get_diff(all_fates_annual, 'EFLX_LH_TOT')\n",
    "sh_diff = get_diff(all_fates_annual, 'FSH')\n",
    "ef_diff = get_diff(all_fates_annual, 'EF')\n",
    "alb_diff = get_diff(all_fates_annual, 'ASA')\n",
    "fsr_diff = get_diff(all_fates_annual, 'FSR')\n",
    "fsa_diff = get_diff(all_fates_annual, 'FSA')\n",
    "fire_diff = get_diff(all_fates_annual, 'FIRE')\n",
    "rlns_diff = get_diff(all_fates_annual, 'RLNS')\n",
    "rn_diff = get_diff(all_fates_annual, 'RN')\n",
    "lai_diff = get_diff(all_fates_annual, 'TLAI')\n",
    "temp_diff = get_diff(all_fates_annual, 'Temp')"
   ]
  },
  {
   "cell_type": "code",
   "execution_count": 75,
   "id": "7c496924-8fa2-4029-aa04-f26fef2bd0b4",
   "metadata": {},
   "outputs": [
    {
     "data": {
      "text/plain": [
       "<matplotlib.collections.QuadMesh at 0x14aeb9ea6310>"
      ]
     },
     "execution_count": 75,
     "metadata": {},
     "output_type": "execute_result"
    },
    {
     "data": {
      "image/png": "[encoded data removed]",
      "text/plain": [
       "<Figure size 640x480 with 2 Axes>"
      ]
     },
     "metadata": {},
     "output_type": "display_data"
    }
   ],
   "source": [
    "lh_diff.plot()"
   ]
  },
  {
   "cell_type": "code",
   "execution_count": null,
   "id": "490c0e32-310d-489a-9e83-2c91aa248360",
   "metadata": {},
   "outputs": [],
   "source": []
  }
 ],
 "metadata": {
  "kernelspec": {
   "display_name": "Python [conda env:fates_calibration]",
   "language": "python",
   "name": "conda-env-fates_calibration-py"
  },
  "language_info": {
   "codemirror_mode": {
    "name": "ipython",
    "version": 3
   },
   "file_extension": ".py",
   "mimetype": "text/x-python",
   "name": "python",
   "nbconvert_exporter": "python",
   "pygments_lexer": "ipython3",
   "version": "3.11.10"
  }
 },
 "nbformat": 4,
 "nbformat_minor": 5
}
