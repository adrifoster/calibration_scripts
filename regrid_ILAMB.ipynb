{
 "cells": [
  {
   "cell_type": "markdown",
   "id": "7703c9fc-e369-401f-930b-99a3bbad2928",
   "metadata": {},
   "source": [
    "# Script to regrid ILAMB datasets to 2degree CLM-PPE grid\n",
    "- Updated Feb 24, 2023\n",
    "- Linnia Hawkins, lh3194@columbia.edu\n",
    "\n",
    "Requirements: xesmf https://xesmf.readthedocs.io/en/latest/index.html\n",
    "Conda env: xesmf_env"
   ]
  },
  {
   "cell_type": "code",
   "execution_count": 1,
   "id": "b3881706-e131-45f0-afa7-b173f6fc30bc",
   "metadata": {},
   "outputs": [],
   "source": [
    "%matplotlib inline\n",
    "import matplotlib.pyplot as plt\n",
    "import cartopy.crs as ccrs\n",
    "import numpy as np\n",
    "import glob\n",
    "import os\n",
    "import xarray as xr\n",
    "import xesmf as xe"
   ]
  },
  {
   "cell_type": "code",
   "execution_count": 2,
   "id": "167c3b1d-23a9-4f03-becb-90a842bc9055",
   "metadata": {},
   "outputs": [],
   "source": [
    "def regrid_ilamb(ds, variable, dataset, method=\"bilinear\"):\n",
    "    # ds needs to have dimensions labeled 'lat' and 'lon'\n",
    "\n",
    "    # Load target grid\n",
    "    ds_sp = xr.open_dataset('/glade/campaign/cgd/tss/people/oleson/PPE/' +\n",
    "                            'clm51_lmbirchwkattgen01ctsm51d006_2deg_GSWP3V1' +\n",
    "                            '_nocrop_PPE2_hist/lnd/hist/' +\n",
    "                            'clm51_lmbirchwkattgen01ctsm51d006_2deg_GSWP3V1_' +\n",
    "                            'nocrop_PPE2_hist.clm2.h0.2014-12.nc')\n",
    "    target_grid = ds_sp.TLAI.mean(dim='time')\n",
    "    target_grid['mask'] = ds_sp.landmask\n",
    "\n",
    "    regridder = xe.Regridder(ds, target_grid, method)\n",
    "    in_var = ds[variable]\n",
    "    in_var[\"mask\"] = xr.where(~np.isnan(in_var), 1, 0)\n",
    "    ds_out = regridder(in_var)\n",
    "    ds_out = ds_out*ds_sp.landmask\n",
    "\n",
    "    return ds_out"
   ]
  },
  {
   "cell_type": "code",
   "execution_count": 3,
   "id": "d67e6b02-b52c-42fd-892a-923716c45aea",
   "metadata": {},
   "outputs": [],
   "source": [
    "def regrid_dataset(dir, model, dataset, variable):\n",
    "\n",
    "    f = os.path.join(\"/glade/work/afoster/FATES_calibration/ILAMB_data/regridded\",\n",
    "                     f\"{model}_{variable}_regridded.nc\")\n",
    "    var = variable.lower()\n",
    "    ds = xr.open_dataset(os.path.join(dir, dataset))\n",
    "    dr_out = regrid_ilamb(ds, var, dataset)\n",
    "    dsout = xr.Dataset()\n",
    "    dsout[var] = dr_out\n",
    "    dsout[var].attrs = ds[var].attrs\n",
    "    dsout.to_netcdf(f)"
   ]
  },
  {
   "cell_type": "code",
   "execution_count": 4,
   "id": "d4fa1e1c-03e7-4100-a291-a63ad735a29e",
   "metadata": {},
   "outputs": [],
   "source": [
    "# ILAMB directory\n",
    "ILAMB_dir = '/glade/work/afoster/FATES_calibration/ILAMB_data'"
   ]
  },
  {
   "cell_type": "code",
   "execution_count": 7,
   "id": "9d4797e2-5496-4f85-8f09-ce8932ef19e6",
   "metadata": {},
   "outputs": [],
   "source": [
    "model = 'CERES'\n",
    "var = 'albedo'\n",
    "file = f\"/glade/work/afoster/FATES_calibration/ILAMB_data/{model}_{var}.nc\"\n",
    "regrid_dataset(ILAMB_dir, model, file, var)"
   ]
  },
  {
   "cell_type": "code",
   "execution_count": 6,
   "id": "62f83631-a79a-45e3-b7aa-2c86802e0741",
   "metadata": {},
   "outputs": [],
   "source": [
    "for file in os.listdir(ILAMB_dir):\n",
    "    sep = file.split('_')\n",
    "    if len(sep) > 1:\n",
    "        if '.nc' in sep[1]:\n",
    "            regrid_dataset(ILAMB_dir, sep[0], file, sep[1].replace('.nc', ''))"
   ]
  },
  {
   "cell_type": "code",
   "execution_count": null,
   "id": "501bce7c-6db5-40f0-95c5-76d7f48373e9",
   "metadata": {},
   "outputs": [],
   "source": []
  }
 ],
 "metadata": {
  "kernelspec": {
   "display_name": "Python [conda env:ml_analysis]",
   "language": "python",
   "name": "conda-env-ml_analysis-py"
  },
  "language_info": {
   "codemirror_mode": {
    "name": "ipython",
    "version": 3
   },
   "file_extension": ".py",
   "mimetype": "text/x-python",
   "name": "python",
   "nbconvert_exporter": "python",
   "pygments_lexer": "ipython3",
   "version": "3.11.7"
  }
 },
 "nbformat": 4,
 "nbformat_minor": 5
}
