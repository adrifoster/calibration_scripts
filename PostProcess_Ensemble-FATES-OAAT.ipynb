{
 "cells": [
  {
   "cell_type": "code",
   "execution_count": 76,
   "id": "dd996c79-50a0-4ff7-b0c2-e5589c3ebbbe",
   "metadata": {},
   "outputs": [],
   "source": [
    "import os\n",
    "import numpy as np\n",
    "import xarray as xr\n",
    "import cftime\n",
    "import pandas as pd\n",
    "import glob\n",
    "from datetime import date\n",
    "import functools\n",
    "import dask\n",
    "from dask_jobqueue import PBSCluster\n",
    "from dask.distributed import Client"
   ]
  },
  {
   "cell_type": "code",
   "execution_count": 77,
   "id": "19dbe560-1f5c-4aa2-9138-0d135b2df56d",
   "metadata": {},
   "outputs": [
    {
     "name": "stderr",
     "output_type": "stream",
     "text": [
      "/glade/work/afoster/miniconda3/envs/analysis/lib/python3.8/site-packages/distributed/node.py:160: UserWarning: Port 8787 is already in use.\n",
      "Perhaps you already have a cluster running?\n",
      "Hosting the HTTP server on port 42087 instead\n",
      "  warnings.warn(\n"
     ]
    }
   ],
   "source": [
    "# Setup PBSCluster\n",
    "cluster = PBSCluster(\n",
    "    cores=1,                                      # The number of cores you want\n",
    "    memory='10GB',                                # Amount of memory\n",
    "    processes=1,                                  # How many processes\n",
    "    queue='casper',                               # The type of queue to utilize (/glade/u/apps/dav/opt/usr/bin/execcasper)\n",
    "    local_directory='/glade/work/afoster',        # Use your local directory\n",
    "    resource_spec='select=1:ncpus=1:mem=10GB',    # Specify resources\n",
    "    project='P93300041',                          # Input your project ID here\n",
    "    walltime='02:00:00',                          # Amount of wall time\n",
    "    interface='ext',                              # Interface to use\n",
    ")"
   ]
  },
  {
   "cell_type": "code",
   "execution_count": 78,
   "id": "212f1fc9-1025-48f5-8f0c-b36b09f2cce2",
   "metadata": {},
   "outputs": [],
   "source": [
    "cluster.scale(2)"
   ]
  },
  {
   "cell_type": "code",
   "execution_count": 79,
   "id": "a7a31f90-14b3-4983-b6c8-52462ba86996",
   "metadata": {},
   "outputs": [],
   "source": [
    "client = Client(cluster)"
   ]
  },
  {
   "cell_type": "code",
   "execution_count": 80,
   "id": "4c414e19-3420-497e-8bad-05f5f4d4b5ac",
   "metadata": {},
   "outputs": [],
   "source": [
    "def preprocess(ds, varset):\n",
    "    return ds[data_vars]"
   ]
  },
  {
   "cell_type": "code",
   "execution_count": 81,
   "id": "73a79a21-37ba-4cae-9e7c-11d1ba02d6d6",
   "metadata": {},
   "outputs": [],
   "source": [
    "def postprocess(top_dir, histdir, data_vars, postp_dir):\n",
    "    \n",
    "    files = sorted(glob.glob(os.path.join(top_dir, histdir, 'lnd', 'hist/') + \"*clm2.h0*.nc\"))\n",
    "    \n",
    "    ds = xr.open_mfdataset(files, combine='nested', concat_dim='time', preprocess=functools.partial(preprocess, varset=data_vars),\n",
    "                            parallel=True, autoclose=True)\n",
    "    \n",
    "    ds['time']   = xr.cftime_range(str(2005), periods=12*60, freq='MS') #fix time bug\n",
    "    ds = ds.sel(time=slice(\"2055-01-01\", \"2064-12-31\"))\n",
    "    ds['time']   = xr.cftime_range(str(2005), periods=12*10, freq='MS')\n",
    "    \n",
    "    ## calculate some variables\n",
    "    ds['ASA'] = ds.FSR/ds.FSDS.where(ds.FSDS>0)\n",
    "    ds['ASA'].attrs['units'] = 'unitless'\n",
    "    ds['ASA'].attrs['long_name'] = 'All sky albedo'\n",
    "    \n",
    "    ds['GPP'] = ds['FATES_GPP']*ds['FATES_FRACTION'] # kg m-2 s-1\n",
    "    ds['GPP'].attrs['units'] = ds['FATES_GPP'].attrs['units']\n",
    "    ds['GPP'].attrs['long_name'] = ds['FATES_GPP'].attrs['long_name']\n",
    "    \n",
    "    ds['Temp'] = ds.TSA-273.15\n",
    "    ds['Temp'].attrs['units'] = 'degrees C'\n",
    "    ds['Temp'].attrs['long_name'] = ds['TSA'].attrs['long_name']\n",
    "    \n",
    "    ds0 = xr.open_dataset(files[0])\n",
    "    extras = ['grid1d_lat','grid1d_lon']\n",
    "    for extra in extras:\n",
    "        ds[extra]=ds0[extra]\n",
    "    \n",
    "    key = os.path.basename(files[0]).split('_')[-1].split('.')[0]\n",
    "    this_member = param_key[param_key.ensemble_member == key]\n",
    "\n",
    "    ds['param'] = this_member.param.values\n",
    "    ds['minmax'] = this_member.minmax.values\n",
    "        \n",
    "    ds.attrs['Date'] = str(date.today())\n",
    "    ds.attrs['Author'] = 'afoster@ucar.edu'\n",
    "    ds.attrs['Original'] = files[0]\n",
    "    \n",
    "    out_file = os.path.join(postp_dir, files[0].split('/')[-1].split('.')[0]+'.nc')\n",
    "    ds.to_netcdf(out_file)\n",
    "    "
   ]
  },
  {
   "cell_type": "code",
   "execution_count": 82,
   "id": "5d09106b-21f3-4281-af24-2960d8c39cc1",
   "metadata": {},
   "outputs": [],
   "source": [
    "param_file = '/glade/work/afoster/FATES_calibration/FATES_SP_OAAT/FATES_SP_OAAT_param_key.csv' \n",
    "param_key = pd.read_csv(param_file)\n",
    "param_key['ensemble_member'] = param_key.key.str.split('_', expand=True)[2]"
   ]
  },
  {
   "cell_type": "code",
   "execution_count": 83,
   "id": "563afa18-6449-4a71-9bd8-0de87fdf80db",
   "metadata": {},
   "outputs": [],
   "source": [
    "data_vars = ['FATES_GPP', 'EFLX_LH_TOT', 'FSR', 'FSDS', 'QRUNOFF', 'FATES_FRACTION', 'SNOWDP', \n",
    "             'SOILWATER_10CM', 'TV', 'FATES_LAI', 'TWS', 'FSH', 'QVEGE', 'TG', 'TSA', 'RAIN', 'SNOW', \n",
    "            'TBOT']"
   ]
  },
  {
   "cell_type": "code",
   "execution_count": 84,
   "id": "edac6cbe-dad1-4bd5-a902-9ea6df6a1ad1",
   "metadata": {},
   "outputs": [],
   "source": [
    "top_dir = '/glade/derecho/scratch/afoster/FATES_SP_OAAT/archive'\n",
    "postp_dir = '/glade/work/afoster/FATES_calibration/FATES_SP_OAAT/hist/'\n",
    "dirs = sorted(os.listdir(top_dir))"
   ]
  },
  {
   "cell_type": "code",
   "execution_count": 87,
   "id": "aa1399d2-f986-42f3-b9a9-426960214be1",
   "metadata": {},
   "outputs": [],
   "source": [
    "for histdir in dirs:\n",
    "    postprocess(top_dir, histdir, data_vars, postp_dir)"
   ]
  },
  {
   "cell_type": "code",
   "execution_count": null,
   "id": "ad8a66ff-2aa5-4228-b4a6-a3793bc2ccbf",
   "metadata": {},
   "outputs": [],
   "source": []
  }
 ],
 "metadata": {
  "kernelspec": {
   "display_name": "Python [conda env:miniconda3-analysis]",
   "language": "python",
   "name": "conda-env-miniconda3-analysis-py"
  },
  "language_info": {
   "codemirror_mode": {
    "name": "ipython",
    "version": 3
   },
   "file_extension": ".py",
   "mimetype": "text/x-python",
   "name": "python",
   "nbconvert_exporter": "python",
   "pygments_lexer": "ipython3",
   "version": "3.8.12"
  }
 },
 "nbformat": 4,
 "nbformat_minor": 5
}
