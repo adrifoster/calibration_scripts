{
 "cells": [
  {
   "cell_type": "markdown",
   "id": "1bd83631-73ea-41da-8f3f-e5f1913ad981",
   "metadata": {},
   "source": [
    "# FATES SP LH analysis"
   ]
  },
  {
   "cell_type": "code",
   "execution_count": null,
   "id": "14ddf99d-4d18-4a59-9051-482c56c334e8",
   "metadata": {},
   "outputs": [],
   "source": [
    "import os\n",
    "import xarray as xr\n",
    "import pandas as pd\n",
    "import dask\n",
    "import numpy as np\n",
    "import matplotlib\n",
    "import matplotlib.pyplot as plt\n",
    "from dask_jobqueue import PBSCluster\n",
    "from dask.distributed import Client\n",
    "import cartopy.crs as ccrs\n",
    "import cartopy.feature as cfeature\n",
    "from cartopy.util import add_cyclic_point\n",
    "import copy\n",
    "import functools"
   ]
  },
  {
   "cell_type": "markdown",
   "id": "9aa8df00-e2bd-4536-b7de-b5da7f95cad2",
   "metadata": {},
   "source": [
    "## PBS Cluster Setup"
   ]
  },
  {
   "cell_type": "code",
   "execution_count": null,
   "id": "b44fdfb2-6374-491d-8fff-dd6817a14c9c",
   "metadata": {},
   "outputs": [],
   "source": [
    "# Setup PBSCluster\n",
    "cluster = PBSCluster(\n",
    "    cores=1,                                      # The number of cores you want\n",
    "    memory='25GB',                                # Amount of memory\n",
    "    processes=1,                                  # How many processes\n",
    "    queue='casper',                               # The type of queue to utilize (/glade/u/apps/dav/opt/usr/bin/execcasper)\n",
    "    local_directory='/glade/work/afoster',        # Use your local directory\n",
    "    resource_spec='select=1:ncpus=1:mem=25GB',    # Specify resources\n",
    "    project='P93300041',                          # Input your project ID here\n",
    "    walltime='04:00:00',                          # Amount of wall time\n",
    "    interface='ext',                              # Interface to use\n",
    ")"
   ]
  },
  {
   "cell_type": "code",
   "execution_count": null,
   "id": "d035473b-21bd-4b28-809e-8ef257041f37",
   "metadata": {},
   "outputs": [],
   "source": [
    "cluster.scale(30)"
   ]
  },
  {
   "cell_type": "code",
   "execution_count": null,
   "id": "76944bf3-c313-440f-9232-edcab2559db1",
   "metadata": {},
   "outputs": [],
   "source": [
    "dask.config.set({'distributed.dashboard.link':'https://jupyterhub.hpc.ucar.edu/stable/user/{USER}/proxy/{port}/status'})"
   ]
  },
  {
   "cell_type": "code",
   "execution_count": null,
   "id": "d2d20148-4a82-4d00-aa32-2338e24774e4",
   "metadata": {},
   "outputs": [],
   "source": [
    "client = Client(cluster)"
   ]
  },
  {
   "cell_type": "markdown",
   "id": "fecb397d-152e-48a2-ab2c-38a794ed3216",
   "metadata": {},
   "source": [
    "## Helper Functions"
   ]
  },
  {
   "cell_type": "code",
   "execution_count": null,
   "id": "c7451e16-913c-496e-aeb6-376a3736d763",
   "metadata": {},
   "outputs": [],
   "source": [
    "def find_files(fstring, topdir, paramkey):\n",
    "    \n",
    "    params = sorted(np.unique(paramkey.param))\n",
    "    \n",
    "    all_files = []\n",
    "    for param in params:\n",
    "        keys = paramkey[paramkey.param == param]['key'].values\n",
    "        if len(keys) == 1:\n",
    "            keys = [keys[0], 'FATES_OAAT_000']\n",
    "        files = [os.path.join(topdir, f\"{fstring}_{key}.nc\") for key in keys]\n",
    "        all_files.append(files)\n",
    "    \n",
    "    return all_files"
   ]
  },
  {
   "cell_type": "code",
   "execution_count": null,
   "id": "df4be653-4085-43f6-a580-e51a57257592",
   "metadata": {},
   "outputs": [],
   "source": [
    "def get_ensemble(files, whittaker_ds):\n",
    "\n",
    "    ## read in dataset and attach other info\n",
    "    ds = xr.open_mfdataset(files, combine='nested', concat_dim=['param', 'minmax'], parallel=True)\n",
    "    \n",
    "    ds['biome'] = whittaker_ds.biome\n",
    "    ds['biome_name'] = whittaker_ds.biome_name\n",
    "    \n",
    "    return ds"
   ]
  },
  {
   "cell_type": "code",
   "execution_count": null,
   "id": "7f6e18a2-f321-4a19-ab57-6fec94f1952c",
   "metadata": {},
   "outputs": [],
   "source": [
    "def get_map(ds, da):\n",
    "    \n",
    "    thedir  = '/glade/u/home/forrest/ppe_representativeness/output_v4/'\n",
    "    thefile = 'clusters.clm51_PPEn02ctsm51d021_2deg_GSWP3V1_leafbiomassesai_PPE3_hist.annual+sd.400.nc'\n",
    "    sg = xr.open_dataset(thedir+thefile)\n",
    "    \n",
    "    ds = ds.isel(param=0).isel(minmax=0)\n",
    "    out = np.zeros(sg.cclass.shape) + np.nan\n",
    "    for c,(o,a) in enumerate(sg.rcent_coords):\n",
    "        i = np.arange(400)[\n",
    "            (abs(ds.grid1d_lat - a) < 0.1) &\n",
    "            (abs(ds.grid1d_lon - o) < 0.1)]\n",
    "        out[sg.cclass == c + 1] = i\n",
    "    cclass = out.copy()\n",
    "    cclass[np.isnan(out)] = 0\n",
    "\n",
    "    sgmap = xr.Dataset()\n",
    "    sgmap['cclass'] = xr.DataArray(cclass.astype(int), dims=['lat','lon'])\n",
    "    sgmap['notnan'] = xr.DataArray(~np.isnan(out), dims=['lat','lon'])\n",
    "    sgmap['lat'] = sg.lat\n",
    "    sgmap['lon'] = sg.lon\n",
    "    \n",
    "    damap = da.sel(gridcell=sgmap.cclass).where(sgmap.notnan).compute()\n",
    "    \n",
    "    return damap"
   ]
  },
  {
   "cell_type": "code",
   "execution_count": null,
   "id": "3c8a8149-ffd2-47bc-be09-5bffd45ddba0",
   "metadata": {},
   "outputs": [],
   "source": [
    "def plot_fig(da, vmin, vmax, cmap_name, cbar_title, plot_title):\n",
    "    \n",
    "    fig = plt.figure(figsize=(13, 6))\n",
    "    ax = fig.add_subplot(1, 1, 1, projection=ccrs.Robinson())\n",
    "    ax.set_extent([-180,180,-56,85], crs=ccrs.PlateCarree())\n",
    "    ax.add_feature(cfeature.COASTLINE)\n",
    "    ax.add_feature(cfeature.OCEAN, facecolor='#CCFEFF')\n",
    "    ax.add_feature(cfeature.LAKES, facecolor='#CCFEFF')\n",
    "    ax.add_feature(cfeature.LAND, facecolor='lightgray')\n",
    "    ax.add_feature(cfeature.RIVERS, edgecolor='#CCFEFF')\n",
    "\n",
    "    cmap = copy.copy(plt.get_cmap(cmap_name, 21))\n",
    "    cf = ax.pcolormesh(da.lon, da.lat, da.values,\n",
    "                       vmin=vmin, vmax=vmax,\n",
    "                       transform=ccrs.PlateCarree(), cmap=cmap);\n",
    "\n",
    "    cb = plt.colorbar(cf)\n",
    "    cb.ax.set_title(cbar_title)\n",
    "    ax.set_title(plot_title);"
   ]
  },
  {
   "cell_type": "code",
   "execution_count": null,
   "id": "e6e103f6-8f8b-40c2-b685-353249a53865",
   "metadata": {},
   "outputs": [],
   "source": [
    "def month_wts(nyears):\n",
    "    days_pm  = [31,28,31,30,31,30,31,31,30,31,30,31]\n",
    "    return xr.DataArray(np.tile(days_pm,nyears),dims='time')"
   ]
  },
  {
   "cell_type": "code",
   "execution_count": null,
   "id": "3df4227a-cea4-41fc-b3c8-d67031fce227",
   "metadata": {},
   "outputs": [],
   "source": [
    "def top_n(da, nx):\n",
    "    ''' return top_n by param effect '''\n",
    "    dx = abs(da.sel(minmax='max') - da.sel(minmax='min'))\n",
    "    ix = dx.argsort()[-nx:].values\n",
    "    x = da.isel(param=ix)\n",
    "    return x"
   ]
  },
  {
   "cell_type": "code",
   "execution_count": null,
   "id": "2757024a-8b72-45b9-a81f-909863eed1e0",
   "metadata": {},
   "outputs": [],
   "source": [
    "def ensemble_means(ds, data_var, domain, cfs, land_area):\n",
    "    \n",
    "    annual_means = annual_mean(area_mean(ds, data_var, domain, cfs, land_area))\n",
    "    \n",
    "    # average/iav\n",
    "    average_vals  = annual_means.mean(dim='year') \n",
    "    interannual_mean = annual_means.std(dim='year')\n",
    "    \n",
    "    # save the reduced data\n",
    "    out = xr.Dataset()\n",
    "    out[f'{data_var}_mean'] = average_vals\n",
    "    out[f'{data_var}_mean'].attrs= {'units':units[data_var],\n",
    "                                 'long_name':ds[data_var].attrs['long_name']}\n",
    "    out[f'{data_var}_iav']  = interannual_mean\n",
    "    out[f'{data_var}_iav'].attrs= {'units':units[data_var],\n",
    "                                'long_name':ds[data_var].attrs['long_name']}\n",
    "    out['param']  = ds.param\n",
    "    out['minmax'] = ds.minmax\n",
    "    \n",
    "    return out"
   ]
  },
  {
   "cell_type": "code",
   "execution_count": null,
   "id": "2f6c6f67-096b-4677-bf56-b9510c60bd67",
   "metadata": {},
   "outputs": [],
   "source": [
    "def rank_plot(da, xdef, nx):\n",
    "\n",
    "    x = top_n(da, nx)\n",
    "    \n",
    "    fig=plt.figure()\n",
    "    ax=fig.add_subplot()\n",
    "    ax.plot([xdef, xdef], [0, nx-1], 'k:', label='default')\n",
    "    ax.scatter(x.sel(minmax='min'), range(nx), marker='o', facecolors='none', edgecolors='r', label='low-val')\n",
    "    ax.plot(x.sel(minmax='max'),range(nx),'ro',label='high-val')\n",
    "\n",
    "    params = x.param\n",
    "    for i in range(nx):\n",
    "        xsel = x.sel(param=params[i])\n",
    "        xsel_min = xsel.sel(minmax='min')\n",
    "        xsel_max = xsel.sel(minmax='max')\n",
    "        ax.plot([xsel_min, xsel_max], [i, i], 'r')\n",
    "    ax.set_yticks(range(nx))\n",
    "    ax.set_yticklabels([p for p in x.param.values]);"
   ]
  },
  {
   "cell_type": "code",
   "execution_count": null,
   "id": "644fd54f-34a0-4b27-869d-4fa065e71cb3",
   "metadata": {},
   "outputs": [],
   "source": [
    "def annual_mean(da):\n",
    "    cf1, cf2 = cfs[da.name].values()\n",
    "    \n",
    "    days_per_month = da['time.daysinmonth']\n",
    "    ann_mean = cf1*(days_per_month*da).groupby('time.year').sum().compute()\n",
    "    ann_mean.name = da.name\n",
    "    return ann_mean"
   ]
  },
  {
   "cell_type": "code",
   "execution_count": null,
   "id": "fe9acdd9-87f7-47af-956d-c703ead113c0",
   "metadata": {},
   "outputs": [],
   "source": [
    "def area_mean(ds, data_var, domain, cfs, land_area):\n",
    "    '''\n",
    "    Calculate area mean for data_var across gridcells, either globally or by biome\n",
    "    ds:        dataset\n",
    "    data_var:  data variable\n",
    "    domain:   'global' or 'biome'\n",
    "    cfs:       unit conversion factors\n",
    "    land_area: land area dataset\n",
    "    '''\n",
    "    \n",
    "    ## update conversion factor if need be\n",
    "    cf1, cf2 = cfs[data_var].values()\n",
    "    if cf2 == 'intrinsic':\n",
    "        if domain == 'global':\n",
    "            cf2 = 1/land_area.sum()\n",
    "        else:\n",
    "            cf2 = 1/land_area.groupby(ds.biome).sum()\n",
    "            \n",
    "    # weight by landarea\n",
    "    area_weighted = land_area*ds[data_var]\n",
    "            \n",
    "    # sort out domain groupings\n",
    "    area_weighted['biome'] = ds.biome\n",
    "    area_weighted = area_weighted.swap_dims({'gridcell':'biome'})\n",
    "    if domain =='global': \n",
    "        grid = 1+0*area_weighted.biome  #every gridcell is in biome 1\n",
    "    else: \n",
    "        grid = area_weighted.biome\n",
    "    \n",
    "    # calculate area mean\n",
    "    area_mean = cf2*area_weighted.groupby(grid).sum()\n",
    "    \n",
    "    if domain =='global': \n",
    "        area_mean = area_mean.mean(dim='biome')  # get rid of gridcell dimension \n",
    "        \n",
    "    area_mean.name = data_var\n",
    "        \n",
    "    return area_mean"
   ]
  },
  {
   "cell_type": "code",
   "execution_count": null,
   "id": "87862b10-9260-4048-93d3-e7b0cac4edd5",
   "metadata": {},
   "outputs": [],
   "source": [
    "def get_all_vars(data_vars, ds, cfs, land_area, domain):\n",
    "    all_vars = []\n",
    "    for data_var in data_vars:\n",
    "        means = ensemble_means(ds, data_var, domain, cfs, land_area)\n",
    "        all_vars.append(means)\n",
    "    \n",
    "    all_means = xr.merge(all_vars)\n",
    "    \n",
    "    df = all_means.to_dataframe()\n",
    "    \n",
    "    return df"
   ]
  },
  {
   "cell_type": "code",
   "execution_count": null,
   "id": "a81d60ce-43c9-4fb9-84da-334b67c3ac44",
   "metadata": {},
   "outputs": [],
   "source": [
    "def plot_param_effect(ds, var, parameter):\n",
    "    ## get annual mean\n",
    "    da = ds[var].sel(param=parameter)\n",
    "    mean_da = annual_mean(da).mean(dim='year')\n",
    "    \n",
    "    # map to whole earth\n",
    "    da_map = get_map(ds, mean_da)\n",
    "    \n",
    "    ## difference \n",
    "    dsDiff = da_map.isel(minmax=1) - da_map.isel(minmax=0)\n",
    "    \n",
    "    # get cmap limits\n",
    "    vval = abs(dsDiff).max().values.round(1)\n",
    "    \n",
    "    ## plot difference\n",
    "    plot_fig(dsDiff, -1*vval, vval, 'bwr_r', f\"{var} [{units[var]}]\", f\"Effect of {parameter} on {var}\")\n",
    "    plt.savefig(f\"figs/{var}_{parameter}.png\")"
   ]
  },
  {
   "cell_type": "markdown",
   "id": "e0e5bbd3-ebea-4887-8624-dd00fbb35a61",
   "metadata": {},
   "source": [
    "## Parameter values and directory names"
   ]
  },
  {
   "cell_type": "code",
   "execution_count": null,
   "id": "acdd9075-2ecf-4451-849f-5dc3678e04ef",
   "metadata": {},
   "outputs": [],
   "source": [
    "# fetch the parameter information, including parameter names and their key values\n",
    "paramkey_file = '/glade/work/afoster/FATES_calibration/FATES_SP_OAAT/FATES_SP_OAAT_param_key.csv' \n",
    "paramkey = pd.read_csv(paramkey_file)\n",
    "params = sorted(np.unique(paramkey.param))"
   ]
  },
  {
   "cell_type": "code",
   "execution_count": null,
   "id": "201c9be6-31de-4068-8712-0b9653514c63",
   "metadata": {},
   "outputs": [],
   "source": [
    "# fetch the sparsegrid landarea - needed for unit conversion\n",
    "land_area_file = '/glade/work/afoster/FATES_calibration/CLM5PPE/postp/sparsegrid_landarea.nc'\n",
    "land_area = xr.open_dataset(land_area_file).landarea  #km2"
   ]
  },
  {
   "cell_type": "code",
   "execution_count": null,
   "id": "c717f93f-8ac5-4194-b1e8-5c816f24ed5a",
   "metadata": {},
   "outputs": [],
   "source": [
    "## whittaker biomes\n",
    "whit = xr.open_dataset('/glade/work/afoster/FATES_calibration/CLM5PPE/pyth/whit/whitkey.nc')"
   ]
  },
  {
   "cell_type": "code",
   "execution_count": null,
   "id": "7a9a40a3-d21c-45f3-8ef7-dc6467288750",
   "metadata": {},
   "outputs": [],
   "source": [
    "topdir = '/glade/work/afoster/FATES_calibration/FATES_SP_OAAT/hist'\n",
    "fstring = \"ctsm51FATES_SP_OAAT_SatPhen_derecho_2000\""
   ]
  },
  {
   "cell_type": "code",
   "execution_count": null,
   "id": "59a4ce94-4ebf-4190-84f7-5491d40d1dbb",
   "metadata": {},
   "outputs": [],
   "source": [
    "data_vars = ['GPP', 'EFLX_LH_TOT', 'ASA', 'SOILWATER_10CM', 'FSH', 'Temp']"
   ]
  },
  {
   "cell_type": "code",
   "execution_count": null,
   "id": "83236c23-df10-42f4-895e-9815de668fc0",
   "metadata": {},
   "outputs": [],
   "source": [
    "#conversion factors\n",
    "cfs={'GPP': {'cf1':24*60*60,'cf2':1e-6},\n",
    "    'EFLX_LH_TOT': {'cf1':1/2.5e6*24*60*60,'cf2':1e-9},\n",
    "    'ASA': {'cf1':1/365,'cf2':'intrinsic'},\n",
    "    'SOILWATER_10CM': {'cf1':1/365,'cf2':1e-9},\n",
    "    'FSH': {'cf1':1/365,'cf2':'intrinsic'},\n",
    "    'Temp': {'cf1':1/365,'cf2':'intrinsic'}}\n",
    "units={'GPP':'PgC/yr',\n",
    "      'EFLX_LH_TOT': 'TtH2O/yr',\n",
    "      'ASA': '0-1',\n",
    "      'SOILWATER_10CM': 'TtH2O',\n",
    "      'FSH': 'W/m2',\n",
    "      'Temp': 'degrees C'}"
   ]
  },
  {
   "cell_type": "markdown",
   "id": "d9f7d031-4749-4c74-9a9d-03d81dc72ef4",
   "metadata": {},
   "source": [
    "## Test all variables"
   ]
  },
  {
   "cell_type": "code",
   "execution_count": null,
   "id": "31c3e057-612a-496b-8443-fa795efc10c1",
   "metadata": {},
   "outputs": [],
   "source": [
    "files = find_files(fstring, topdir, paramkey)"
   ]
  },
  {
   "cell_type": "code",
   "execution_count": null,
   "id": "036ec7ee-4b91-4f04-8ee2-cf1c1b06f6ce",
   "metadata": {},
   "outputs": [],
   "source": [
    "ds = get_ensemble(files[1:], whit)"
   ]
  },
  {
   "cell_type": "code",
   "execution_count": null,
   "id": "60f748a2-58d1-4350-bfa6-8655f3430819",
   "metadata": {},
   "outputs": [],
   "source": [
    "ds_def = xr.open_dataset(files[0][0])\n",
    "ds_def['biome'] = whit.biome\n",
    "ds_def['biome_name'] = whit.biome_name"
   ]
  },
  {
   "cell_type": "code",
   "execution_count": null,
   "id": "7146152b-9225-4d99-aad7-f0647fb20f71",
   "metadata": {},
   "outputs": [],
   "source": [
    "global_df = get_all_vars(data_vars, ds, cfs, land_area, 'global')\n",
    "global_df.to_csv('global_means.csv')"
   ]
  },
  {
   "cell_type": "code",
   "execution_count": null,
   "id": "229cb432-076d-41d2-bd16-d36860db177f",
   "metadata": {},
   "outputs": [],
   "source": [
    "biome_df = get_all_vars(data_vars, ds, cfs, land_area, 'biome')\n",
    "biome_df.to_csv('biome_means.csv')"
   ]
  },
  {
   "cell_type": "code",
   "execution_count": null,
   "id": "d5ea1da0-aa50-463e-a0cd-64ee2336cc04",
   "metadata": {},
   "outputs": [],
   "source": [
    "global_def = get_all_vars(data_vars, ds_def, cfs, land_area, 'global')\n",
    "biome_def = get_all_vars(data_vars, ds_def, cfs, land_area, 'biome')\n",
    "global_def.to_csv('global_default.csv')\n",
    "biome_def.to_csv('biome_default.csv')"
   ]
  },
  {
   "cell_type": "markdown",
   "id": "ed122d1b-312e-4a4f-b03e-fb1c0823c240",
   "metadata": {},
   "source": [
    "## Do some mapping"
   ]
  },
  {
   "cell_type": "code",
   "execution_count": null,
   "id": "d101cf88-428d-4d30-8c05-4c12944fb662",
   "metadata": {},
   "outputs": [],
   "source": [
    "params = [\"fates_leaf_vcmax25top\", \"fates_leaf_theta_cj_c3\", \"fates_leaf_stomatal_intercept\", \"fates_rad_leaf_clumping_index\",\n",
    "          \"fates_maintresp_leaf_atkin2017_baserate\", \"fates_allom_fnrt_prof_b\", \"fates_leaf_theta_cj_c4\",\n",
    "          \"fates_rad_leaf_xl\", \"fates_rad_stem_rhovis\", \"fates_nonhydro_smpsc\", \"fates_leaf_stomatal_slope_medlyn\", \"fates_stoich_nitr\",\n",
    "          \"fates_rad_leaf_rhonir\", \"fates_rad_leaf_taunir\", \"fates_turb_leaf_diameter\", \"fates_leaf_photo_temp_acclim_timescale\",\n",
    "          \"fates_rad_stem_rhonir\", \"fates_nonhydro_smpso\", \"fates_rad_stem_tauvis\", \"fates_leaf_slatop\", \"fates_rad_leaf_rhovis\",\n",
    "          \"fates_allom_fnrt_prof_a\", \"fates_rad_leaf_tauvis\", \"fates_turb_z0mr\", \"fates_turb_displar\", \"fates_rad_stem_taunir\",\n",
    "          \"fates_allom_d2ca_coefficient_max\", \"fates_allom_crown_depth_frac\", \"fates_allom_d2bl2\", \"fates_allom_dbh_maxheight\",\n",
    "          \"fates_leaf_photo_temp_acclim_thome_time\", \"fates_allom_d2h2\", \"fates_allom_blca_expnt_diff\", \"fates_leaf_slamax\",\n",
    "          \"fates_allom_d2h1\", \"fates_allom_d2h3\"] "
   ]
  },
  {
   "cell_type": "code",
   "execution_count": null,
   "id": "17f780da-67bc-49c8-919b-407d8b8ba2b8",
   "metadata": {},
   "outputs": [],
   "source": [
    "parameter = 'fates_leaf_vcmax25top'\n",
    "dvars = ['GPP', 'EFLX_LH_TOT', 'SOILWATER_10CM', 'FSH']"
   ]
  },
  {
   "cell_type": "code",
   "execution_count": null,
   "id": "621ba7f0-07a3-4922-a924-a6c4b30c5841",
   "metadata": {},
   "outputs": [],
   "source": [
    "params[23]"
   ]
  },
  {
   "cell_type": "code",
   "execution_count": null,
   "id": "243c1be1-f0ff-4a80-900c-1b9a92c3bd36",
   "metadata": {},
   "outputs": [],
   "source": [
    "for parameter in params[23:]:\n",
    "    for var in dvars:\n",
    "        plot_param_effect(ds, var, parameter)"
   ]
  },
  {
   "cell_type": "code",
   "execution_count": null,
   "id": "0ab7444a-a4d2-435c-b9bd-3f3960d44a4b",
   "metadata": {},
   "outputs": [],
   "source": []
  }
 ],
 "metadata": {
  "kernelspec": {
   "display_name": "Python [conda env:ml_analysis]",
   "language": "python",
   "name": "conda-env-ml_analysis-py"
  },
  "language_info": {
   "codemirror_mode": {
    "name": "ipython",
    "version": 3
   },
   "file_extension": ".py",
   "mimetype": "text/x-python",
   "name": "python",
   "nbconvert_exporter": "python",
   "pygments_lexer": "ipython3",
   "version": "3.11.7"
  }
 },
 "nbformat": 4,
 "nbformat_minor": 5
}
