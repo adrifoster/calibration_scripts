{
 "cells": [
  {
   "cell_type": "code",
   "execution_count": 1,
   "id": "e91ae370-0f54-4d65-b730-d67b7b07f724",
   "metadata": {},
   "outputs": [],
   "source": [
    "import os\n",
    "\n",
    "import matplotlib.pyplot as plt\n",
    "import numpy as np\n",
    "import pandas as pd\n",
    "import xarray as xr\n",
    "from scipy.stats import qmc"
   ]
  },
  {
   "cell_type": "code",
   "execution_count": 2,
   "id": "06cff7bf-629f-4d59-86bd-00ba0e643c4b",
   "metadata": {},
   "outputs": [],
   "source": [
    "def make_param_list(param_data, out_file):\n",
    "    \n",
    "    df_list = []\n",
    "    for parameter in param_data.data_vars:\n",
    "        dims = [dim for dim in param_data[parameter].dims]\n",
    "        attrs = param_data[parameter].attrs\n",
    "        df = pd.DataFrame({'parameter_name': [parameter],\n",
    "                          'coord': [dims],\n",
    "                          })\n",
    "        for attr in attrs:\n",
    "            df[attr] = attrs[attr]\n",
    "        df_list.append(df)\n",
    "    param_df = pd.concat(df_list)\n",
    "    param_df.to_csv(out_file)\n",
    "\n",
    "    return param_df"
   ]
  },
  {
   "cell_type": "code",
   "execution_count": 3,
   "id": "0099fec5-a2b1-46d9-b021-08a6a35b1e43",
   "metadata": {},
   "outputs": [],
   "source": [
    "def get_percentage_change(param_change):\n",
    "\n",
    "    return float(param_change.replace('percent', ''))"
   ]
  },
  {
   "cell_type": "code",
   "execution_count": 4,
   "id": "dce9b647-d0d0-432f-a2e8-acc2f82f7f5d",
   "metadata": {},
   "outputs": [],
   "source": [
    "def get_param_value(change_str, default_value, param_list_file,\n",
    "                    parameter, type):\n",
    "    \n",
    "    if change_str == 'pft':\n",
    "        pft_values = pd.read_excel(param_list_file,\n",
    "                                   parameter.replace(\"fates_\", \"\"))\n",
    "        param_value = pft_values[type].values\n",
    "    \n",
    "    elif 'percent' in change_str:\n",
    "        percent_change = get_percentage_change(change_str)\n",
    "        if type == 'param_min':\n",
    "            param_value = default_value - np.abs(default_value*(percent_change/100.0))\n",
    "        else:\n",
    "            param_value = default_value + np.abs(default_value*(percent_change/100.0))\n",
    "    else:\n",
    "        numeric_value = float(change_str)\n",
    "        if default_value.size == 1:\n",
    "            param_value = numeric_value\n",
    "        else:\n",
    "            param_value = np.full_like(default_value, numeric_value)\n",
    "\n",
    "    if default_value.size == 1:\n",
    "        if default_value == -999.9:\n",
    "            param_value = -999.9\n",
    "    else:\n",
    "        param_value[default_value == -999.9] = -999.9\n",
    "\n",
    "    return param_value"
   ]
  },
  {
   "cell_type": "code",
   "execution_count": 5,
   "id": "bafeed73-23de-48e5-875c-6d83e6834a70",
   "metadata": {},
   "outputs": [],
   "source": [
    "def make_oaat_parameter_file(param_list, default_value, default_param_data,\n",
    "                             param_list_file, parameter, type, param_dir,\n",
    "                             param_prefix, suffix):\n",
    "    \n",
    "    change_str = str(param_list[type].values[0])\n",
    "    param_value = get_param_value(change_str, default_value,\n",
    "                                  param_list_file, parameter, type)\n",
    "    ds = default_param_data.copy(deep=False)\n",
    "    ds[parameter].values = param_value\n",
    "    ds.to_netcdf(os.path.join(param_dir,\n",
    "                             f\"{param_prefix}_{suffix}.nc\"))"
   ]
  },
  {
   "cell_type": "code",
   "execution_count": 6,
   "id": "18e3cdc3-f572-41fd-98f6-006d02991378",
   "metadata": {},
   "outputs": [],
   "source": [
    "def create_oaat_param_ensemble(param_list, param_list_file, default_param_data, param_dir, param_prefix):\n",
    "    \n",
    "    parameters = np.unique(param_list.fates_parameter_name)\n",
    "    \n",
    "    oaat_key_list = []\n",
    "    ens = 1\n",
    "    for parameter in parameters:\n",
    "        \n",
    "        sub = param_list[param_list.fates_parameter_name == parameter]\n",
    "        default_value = default_param_data[parameter].values\n",
    "        \n",
    "        make_oaat_parameter_file(sub, default_value, default_param_data,\n",
    "                                 param_list_file, parameter, 'param_min',\n",
    "                                 param_dir, param_prefix, str(ens).zfill(3))\n",
    "        df = pd.DataFrame({'ensemble': [str(ens).zfill(3)],\n",
    "                           'type': ['min'],\n",
    "                           'parameter_name': [parameter],\n",
    "                          })\n",
    "        oaat_key_list.append(df)\n",
    "        ens += 1\n",
    "        \n",
    "        make_oaat_parameter_file(sub, default_value, default_param_data,\n",
    "                                 param_list_file, parameter, 'param_max', param_dir,\n",
    "                                 param_prefix, str(ens).zfill(3))\n",
    "        df = pd.DataFrame({'ensemble': [str(ens).zfill(3)],\n",
    "                   'type': ['max'],\n",
    "                    'parameter_name': [parameter],\n",
    "                  })\n",
    "        oaat_key_list.append(df)\n",
    "        ens += 1\n",
    "    oaat_key = pd.concat(oaat_key_list)\n",
    "    oaat_key.to_csv(os.path.join(param_dir, 'fates_oaat_key.csv'))\n",
    "\n",
    "    file_names = [f\"{param_prefix}_{ens}\" for ens in oaat_key.ensemble.values]\n",
    "    with open(os.path.join(param_dir, 'FATES_OAAT.txt'), 'w') as f:\n",
    "        for line in file_names:\n",
    "            f.write(f\"{line}\\n\")"
   ]
  },
  {
   "cell_type": "code",
   "execution_count": 7,
   "id": "81044807-71b8-41a4-9195-f05cdc3bdc68",
   "metadata": {},
   "outputs": [],
   "source": [
    "def get_lh_values(value, param_list, param_list_file, param, default_value):\n",
    "    \n",
    "    sub = param_list[param_list.fates_parameter_name == param]\n",
    "    change_str_min = str(sub['param_min'].values[0])\n",
    "    change_str_max = str(sub['param_max'].values[0])\n",
    "\n",
    "    min_value = get_param_value(change_str_min, default_value,\n",
    "                                  param_list_file, param, 'param_min')\n",
    "    max_value = get_param_value(change_str_max, default_value,\n",
    "                                  param_list_file, param, 'param_max')\n",
    "\n",
    "    new_value = unnormalize(value, min_value, max_value)\n",
    "\n",
    "    return new_value"
   ]
  },
  {
   "cell_type": "code",
   "execution_count": 8,
   "id": "f8676054-b4de-4d2e-a846-79b32d8b34a5",
   "metadata": {},
   "outputs": [],
   "source": [
    "def create_lh_param_ensemble(params, num_sample, default_param_data,\n",
    "                             param_list, param_list_file, keep_pfts=[]):\n",
    "\n",
    "    num_params = len(params)\n",
    "    sampler = qmc.LatinHypercube(d=num_params)\n",
    "    lh_sample = sampler.random(n=num_sample)\n",
    "    \n",
    "    for i, sample in enumerate(lh_sample):\n",
    "        \n",
    "        ds = default_param_data.copy(deep=False)\n",
    "        \n",
    "        for j, value in enumerate(sample):\n",
    "            if params[j] == 'smpsc_delta':\n",
    "                if 'fates_nonhydro_smpso' in params:\n",
    "                    default_smpso = default_param_data['fates_nonhydro_smpso'].values\n",
    "                    k = params.index('fates_nonhydro_smpso')\n",
    "                    smpso_value = get_lh_values(sample[k], param_list, param_list_file, 'fates_nonhydro_smpso',\n",
    "                                                default_smpso)\n",
    "                else:\n",
    "                    smpso_value = default_param_data['fates_nonhydro_smpso'].values\n",
    "                \n",
    "                smpsc_delta = get_lh_values(value, param_list, param_list_file, params[j], np.array([189000]))\n",
    "                new_value = smpso_value - smpsc_delta\n",
    "                if len(keep_pfts) > 0:\n",
    "                    default_value = default_param_data['fates_nonhydro_smpsc'].values\n",
    "                    for pft in keep_pfts:\n",
    "                        new_value[pft-1] = default_value[pft-1]\n",
    "                ds['fates_nonhydro_smpsc'].values = new_value\n",
    "            \n",
    "            else:\n",
    "                default_value = default_param_data[params[j]].values\n",
    "                new_value = get_lh_values(value, param_list, param_list_file, params[j], default_value)\n",
    "\n",
    "                dims = [dim for dim in default_param_data[params[j]].dims]\n",
    "                if len(keep_pfts) > 0 and 'fates_pft' in dims:\n",
    "                    for pft in keep_pfts:\n",
    "                        if len(dims) == 2:\n",
    "                            new_value[0, pft-1] = default_value[0, pft-1]\n",
    "                        else:\n",
    "                            new_value[pft-1] = default_value[pft-1]\n",
    "                ds[params[j]].values = new_value\n",
    "        ds.to_netcdf(os.path.join(param_dir, f\"{param_prefix}_{str(i+1).zfill(3)}.nc\"))\n",
    "    \n",
    "    lh_key = pd.DataFrame(lh_sample)\n",
    "    lh_key.columns = params\n",
    "    lh_key['ensemble'] = [f\"FATES_LH_{str(ens).zfill(3)}\" for ens in np.arange(1, num_sample+1)]\n",
    "    \n",
    "    return lh_key"
   ]
  },
  {
   "cell_type": "code",
   "execution_count": 9,
   "id": "9425a7c8-f135-49c6-908a-7bd8f85849ed",
   "metadata": {},
   "outputs": [],
   "source": [
    "def normalize(value, min_value, max_value):\n",
    "    return (value - min_value)/(max_value - min_value)"
   ]
  },
  {
   "cell_type": "code",
   "execution_count": 10,
   "id": "e3692afa-9e06-4c2f-97d0-1d1505ff4503",
   "metadata": {},
   "outputs": [],
   "source": [
    "def unnormalize(value, min_value, max_value):\n",
    "    return (max_value - min_value)*value + min_value"
   ]
  },
  {
   "cell_type": "code",
   "execution_count": 11,
   "id": "d4bfa5cf-bcc0-4682-88b3-36a8841b3d5a",
   "metadata": {},
   "outputs": [],
   "source": [
    "param_dir = '/glade/work/afoster/FATES_calibration/parameter_files'\n",
    "fates_param_name = \"fates_params_default_sci.1.78.3._api.36.1.0.nc\"\n",
    "param_list_name = \"param_list_sci.1.78.3_api.36.1.0.xls\""
   ]
  },
  {
   "cell_type": "code",
   "execution_count": 12,
   "id": "29ec738e-8b35-477c-bd07-9df692b4112d",
   "metadata": {},
   "outputs": [],
   "source": [
    "default_param_file = os.path.join(param_dir, fates_param_name)\n",
    "param_list_file = os.path.join(param_dir, param_list_name)\n",
    "\n",
    "default_param_data = xr.open_dataset(default_param_file, decode_cf=False)\n",
    "param_list = pd.read_excel(param_list_file, sheet_name=0)"
   ]
  },
  {
   "cell_type": "code",
   "execution_count": null,
   "id": "23521910-0cee-45bf-a6ff-73b687e6e0e9",
   "metadata": {},
   "outputs": [],
   "source": [
    "# param_dir = '/glade/work/afoster/FATES_calibration/parameter_files/fates_param_oaat'\n",
    "# param_prefix = 'FATES_OAAT'\n",
    "# create_oaat_param_ensemble(param_list, param_list_file, default_param_data,\n",
    "#                            param_dir, param_prefix)"
   ]
  },
  {
   "cell_type": "code",
   "execution_count": 16,
   "id": "8ae3e05c-16e5-4363-83af-0b32418d6b8b",
   "metadata": {},
   "outputs": [],
   "source": [
    "param_dir = '/glade/work/afoster/FATES_calibration/parameter_files/fates_param_lh_leaf'\n",
    "param_prefix = 'FATES_LH'"
   ]
  },
  {
   "cell_type": "code",
   "execution_count": 14,
   "id": "d2bfb312-1eaa-45ff-b1c8-7bd2b3b5211f",
   "metadata": {},
   "outputs": [
    {
     "data": {
      "text/plain": [
       "10"
      ]
     },
     "execution_count": 14,
     "metadata": {},
     "output_type": "execute_result"
    }
   ],
   "source": [
    "num_sample = 500\n",
    "# params_to_cal = [\"fates_leaf_vcmax25top\", \"fates_rad_leaf_clumping_index\",\n",
    "#                  \"smpsc_delta\", \"fates_nonhydro_smpso\", \"fates_leafn_vert_scaler_coeff2\",\n",
    "#                  \"fates_leaf_stomatal_intercept\", \"fates_leaf_stomatal_slope_medlyn\",\n",
    "#                  \"fates_leafn_vert_scaler_coeff1\", \"fates_maintresp_leaf_atkin2017_baserate\",\n",
    "#                  \"fates_turb_leaf_diameter\"]\n",
    "\n",
    "params_to_cal = [\"fates_leaf_jmaxha\", \"fates_leaf_jmaxhd\", \"fates_leaf_jmaxse\",\n",
    "                 \"fates_leaf_stomatal_intercept\", \"fates_leaf_stomatal_slope_medlyn\",\n",
    "                 \"fates_leaf_theta_cj_c3\", \"fates_leaf_vcmax25top\", \"fates_leaf_vcmaxha\",\n",
    "                 \"fates_leaf_vcmaxhd\", \"fates_leaf_vcmaxse\"]\n",
    "len(params_to_cal)"
   ]
  },
  {
   "cell_type": "code",
   "execution_count": 18,
   "id": "350d9006-6da4-4890-a416-5812fd38a54e",
   "metadata": {},
   "outputs": [],
   "source": [
    "lh_key = create_lh_param_ensemble(params_to_cal, num_sample, default_param_data,\n",
    "                                  param_list, param_list_file)"
   ]
  },
  {
   "cell_type": "code",
   "execution_count": 19,
   "id": "c6433208-09e1-469f-91c2-ed9076b388d5",
   "metadata": {},
   "outputs": [],
   "source": [
    "lh_key.to_csv(os.path.join(param_dir, 'fates_lh_key_leaf.csv'), index=False)"
   ]
  },
  {
   "cell_type": "code",
   "execution_count": 20,
   "id": "10238de8-c673-4094-bead-f8919baaffd0",
   "metadata": {},
   "outputs": [],
   "source": [
    "ensembles = lh_key.ensemble.values\n",
    "with open(os.path.join(param_dir, 'FATES_LH.txt'), 'w') as f:\n",
    "    for ensemble in ensembles:\n",
    "        f.write(f\"{ensemble}\\n\")"
   ]
  },
  {
   "cell_type": "code",
   "execution_count": null,
   "id": "19838ea8-a3c6-4e4e-8756-7335b043a9e1",
   "metadata": {},
   "outputs": [],
   "source": []
  }
 ],
 "metadata": {
  "kernelspec": {
   "display_name": "Python [conda env:fates_calibration]",
   "language": "python",
   "name": "conda-env-fates_calibration-py"
  },
  "language_info": {
   "codemirror_mode": {
    "name": "ipython",
    "version": 3
   },
   "file_extension": ".py",
   "mimetype": "text/x-python",
   "name": "python",
   "nbconvert_exporter": "python",
   "pygments_lexer": "ipython3",
   "version": "3.11.10"
  }
 },
 "nbformat": 4,
 "nbformat_minor": 5
}
