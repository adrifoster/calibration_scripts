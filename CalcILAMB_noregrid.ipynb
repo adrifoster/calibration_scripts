{
 "cells": [
  {
   "cell_type": "markdown",
   "id": "e4805c39-ce78-4795-9b84-4b50197e96b8",
   "metadata": {},
   "source": [
    "# Observational Datasets"
   ]
  },
  {
   "cell_type": "code",
   "execution_count": 1,
   "id": "0698f0d2-29ed-47f8-8b9e-1fa30b11603b",
   "metadata": {
    "scrolled": true
   },
   "outputs": [],
   "source": [
    "import os\n",
    "import copy\n",
    "from datetime import date\n",
    "\n",
    "import xarray as xr\n",
    "import pandas as pd\n",
    "import numpy as np\n",
    "import dask\n",
    "import glob\n",
    "\n",
    "from dask_jobqueue import PBSCluster\n",
    "from dask.distributed import Client\n",
    "\n",
    "import cartopy.crs as ccrs\n",
    "import cartopy.feature as cfeature\n",
    "\n",
    "import matplotlib\n",
    "import matplotlib.pyplot as plt"
   ]
  },
  {
   "cell_type": "markdown",
   "id": "cbb48f82-b4a3-4605-8da0-de43a6c2e45a",
   "metadata": {},
   "source": [
    "## PBS Cluster Setup"
   ]
  },
  {
   "cell_type": "code",
   "execution_count": 2,
   "id": "054108ba-40ce-40b5-b8b9-6a193667a4a3",
   "metadata": {},
   "outputs": [
    {
     "name": "stderr",
     "output_type": "stream",
     "text": [
      "/glade/work/afoster/conda-envs/ml_analysis/lib/python3.11/site-packages/dask_jobqueue/pbs.py:82: FutureWarning: project has been renamed to account as this kwarg was used wit -A option. You are still using it (please also check config files). If you did not set account yet, project will be respected for now, but it will be removed in a future release. If you already set account, project is ignored and you can remove it.\n",
      "  warnings.warn(warn, FutureWarning)\n",
      "/glade/work/afoster/conda-envs/ml_analysis/lib/python3.11/site-packages/distributed/node.py:182: UserWarning: Port 8787 is already in use.\n",
      "Perhaps you already have a cluster running?\n",
      "Hosting the HTTP server on port 36921 instead\n",
      "  warnings.warn(\n"
     ]
    }
   ],
   "source": [
    "# Setup PBSCluster\n",
    "cluster = PBSCluster(\n",
    "    cores=1,                                     # The number of cores you want\n",
    "    memory='25GB',                               # Amount of memory\n",
    "    processes=1,                                 # How many processes\n",
    "    queue='casper',                              # The type of queue to utilize\n",
    "    local_directory='/glade/work/afoster',       # Use your local directory\n",
    "    resource_spec='select=1:ncpus=1:mem=25GB',   # Specify resources\n",
    "    project='P93300041',                         # Input your project ID here\n",
    "    walltime='04:00:00',                         # Amount of wall time\n",
    "    interface='ext',                             # Interface to use\n",
    ")"
   ]
  },
  {
   "cell_type": "code",
   "execution_count": 3,
   "id": "f70eec6c-32da-43bc-9c4d-b9321548b1d3",
   "metadata": {},
   "outputs": [
    {
     "name": "stderr",
     "output_type": "stream",
     "text": [
      "/glade/work/afoster/conda-envs/ml_analysis/lib/python3.11/site-packages/dask_jobqueue/pbs.py:82: FutureWarning: project has been renamed to account as this kwarg was used wit -A option. You are still using it (please also check config files). If you did not set account yet, project will be respected for now, but it will be removed in a future release. If you already set account, project is ignored and you can remove it.\n",
      "  warnings.warn(warn, FutureWarning)\n"
     ]
    }
   ],
   "source": [
    "cluster.scale(10)"
   ]
  },
  {
   "cell_type": "code",
   "execution_count": 4,
   "id": "e3f6a584-85f7-45ae-bb1a-32a31b038844",
   "metadata": {},
   "outputs": [],
   "source": [
    "client = Client(cluster)"
   ]
  },
  {
   "cell_type": "markdown",
   "id": "8f2ff79b-4ae5-4bbe-a4af-2c2809fc3aad",
   "metadata": {},
   "source": [
    "## Helper Functions"
   ]
  },
  {
   "cell_type": "code",
   "execution_count": 5,
   "id": "09662eb9-3560-46d2-8eb1-3aa6f2454d99",
   "metadata": {},
   "outputs": [],
   "source": [
    "def month_wts(nyears):\n",
    "    days_pm = [31, 28, 31, 30, 31, 30, 31, 31, 30, 31, 30, 31]\n",
    "    return xr.DataArray(np.tile(days_pm, nyears), dims='time')"
   ]
  },
  {
   "cell_type": "code",
   "execution_count": 6,
   "id": "8912e345-b21a-452b-bf19-bfab27efd15c",
   "metadata": {},
   "outputs": [],
   "source": [
    "def adjust_lon(ds, lon_name):\n",
    "\n",
    "    # Adjust lon values to make sure they are within (-180, 180)\n",
    "    ds['_longitude_adjusted'] = xr.where(\n",
    "        ds[lon_name] > 180,\n",
    "        ds[lon_name] - 360,\n",
    "        ds[lon_name])\n",
    "\n",
    "    # reassign the new coords to as the main lon coords\n",
    "    # and sort DataArray using new coordinate values\n",
    "    ds = (\n",
    "        ds\n",
    "        .swap_dims({lon_name: '_longitude_adjusted'})\n",
    "        .sel(**{'_longitude_adjusted': sorted(ds._longitude_adjusted)})\n",
    "        .drop_vars(lon_name))\n",
    "\n",
    "    ds = ds.rename({'_longitude_adjusted': lon_name})\n",
    "\n",
    "    return ds"
   ]
  },
  {
   "cell_type": "code",
   "execution_count": 7,
   "id": "5dfbcd5e-0c96-4561-aaf5-09b59a6dcb6e",
   "metadata": {},
   "outputs": [],
   "source": [
    "def get_annual_obs(ds, var, cf, mask):\n",
    "\n",
    "    ds_updated = ds.sel(time=slice('2005-01-01', '2014-12-31'))\n",
    "\n",
    "    nyears = len(np.unique(ds_updated['time.year']))\n",
    "\n",
    "    mask_interp = mask.interp(lat=ds_updated['lat'], lon=ds_updated['lon'])\n",
    "\n",
    "    # calculate annual values\n",
    "    annual = cf*(ds_updated[var]*month_wts(nyears)).groupby('time.year').sum()\n",
    "\n",
    "    annual = annual.where(mask_interp == 1.0)\n",
    "\n",
    "    return annual"
   ]
  },
  {
   "cell_type": "code",
   "execution_count": 28,
   "id": "c2d6620b-b32f-4766-ac6c-2f967f1bff27",
   "metadata": {},
   "outputs": [],
   "source": [
    "def CellAreas(lat, lon, lat_bnds=None, lon_bnds=None):\n",
    "    \"\"\"Given arrays of latitude and longitude, return cell areas in square meters.\n",
    "\n",
    "    Parameters\n",
    "    ----------\n",
    "    lat : numpy.ndarray\n",
    "        a 1D array of latitudes which represent cell centroids\n",
    "    lon : numpy.ndarray\n",
    "        a 1D array of longitudes which represent cell centroids\n",
    "\n",
    "    Returns\n",
    "    -------\n",
    "    areas : numpy.ndarray\n",
    "        a 2D array of cell areas in [m2]\n",
    "    \"\"\"\n",
    "    earth_rad = 6.371e6\n",
    "\n",
    "    if lat_bnds is not None and lon_bnds is not None:\n",
    "        return earth_rad**2 * np.outer(\n",
    "            (\n",
    "                np.sin(lat_bnds[:, 1] * np.pi / 180.0)\n",
    "                - np.sin(lat_bnds[:, 0] * np.pi / 180.0)\n",
    "            ),\n",
    "            (lon_bnds[:, 1] - lon_bnds[:, 0]) * np.pi / 180.0,\n",
    "        )\n",
    "\n",
    "    x = np.zeros(lon.size + 1)\n",
    "    x[1:-1] = 0.5 * (lon[1:] + lon[:-1])\n",
    "    x[0] = lon[0] - 0.5 * (lon[1] - lon[0])\n",
    "    x[-1] = lon[-1] + 0.5 * (lon[-1] - lon[-2])\n",
    "    if x.max() > 181:\n",
    "        x -= 180\n",
    "    x = x.clip(-180, 180)\n",
    "    x *= np.pi / 180.0\n",
    "\n",
    "    y = np.zeros(lat.size + 1)\n",
    "    y[1:-1] = 0.5 * (lat[1:] + lat[:-1])\n",
    "    y[0] = lat[0] - 0.5 * (lat[1] - lat[0])\n",
    "    y[-1] = lat[-1] + 0.5 * (lat[-1] - lat[-2])\n",
    "    y = y.clip(-90, 90)\n",
    "    y *= np.pi / 180.0\n",
    "\n",
    "    dx = earth_rad * (x[1:] - x[:-1])\n",
    "    dy = earth_rad * (np.sin(y[1:]) - np.sin(y[:-1]))\n",
    "    areas = np.outer(dx, dy).T\n",
    "\n",
    "    return areas"
   ]
  },
  {
   "cell_type": "markdown",
   "id": "a48c2aba-bfd0-4b37-bb02-b3c4307d0914",
   "metadata": {},
   "source": [
    "## Observations"
   ]
  },
  {
   "cell_type": "code",
   "execution_count": 50,
   "id": "e0dc1c7d-0a17-4a0e-b2b4-ff4b9d29ef5e",
   "metadata": {},
   "outputs": [],
   "source": [
    "ds_sp = xr.open_dataset('/glade/campaign/cgd/tss/people/oleson/CLM_LAND_ONLY_RELEASE/CLM5/clm50_cesm201R_1deg_GSWP3V1_phsoff_hist/lnd/proc/tseries/month_1/clm50_cesm201R_1deg_GSWP3V1_phsoff_hist.clm2.h0.ELAI.185001-201412.nc')\n",
    "mask = adjust_lon(ds_sp.landmask, 'lon')"
   ]
  },
  {
   "cell_type": "code",
   "execution_count": 9,
   "id": "bc4a6239-6b56-4439-9ff3-dfe8a3072db4",
   "metadata": {},
   "outputs": [],
   "source": [
    "dir = '/glade/campaign/cesm/community/lmwg/diag/ILAMB/DATA'\n",
    "outdir = '/glade/work/afoster/FATES_calibration/ILAMB_data'"
   ]
  },
  {
   "cell_type": "markdown",
   "id": "ad85e762-f230-472e-9982-d5ef84710d9a",
   "metadata": {},
   "source": [
    "### GPP"
   ]
  },
  {
   "cell_type": "code",
   "execution_count": 49,
   "id": "5cd23223-83ac-452f-83fd-15ba2851d0db",
   "metadata": {},
   "outputs": [
    {
     "ename": "PermissionError",
     "evalue": "[Errno 13] Permission denied: '/glade/work/afoster/FATES_calibration/ILAMB_data/FLUXCOM_GPP.nc'",
     "output_type": "error",
     "traceback": [
      "\u001b[0;31m---------------------------------------------------------------------------\u001b[0m",
      "\u001b[0;31mKeyError\u001b[0m                                  Traceback (most recent call last)",
      "File \u001b[0;32m/glade/work/afoster/conda-envs/ml_analysis/lib/python3.11/site-packages/xarray/backends/file_manager.py:211\u001b[0m, in \u001b[0;36mCachingFileManager._acquire_with_cache_info\u001b[0;34m(self, needs_lock)\u001b[0m\n\u001b[1;32m    210\u001b[0m \u001b[38;5;28;01mtry\u001b[39;00m:\n\u001b[0;32m--> 211\u001b[0m     file \u001b[38;5;241m=\u001b[39m \u001b[38;5;28;43mself\u001b[39;49m\u001b[38;5;241;43m.\u001b[39;49m\u001b[43m_cache\u001b[49m\u001b[43m[\u001b[49m\u001b[38;5;28;43mself\u001b[39;49m\u001b[38;5;241;43m.\u001b[39;49m\u001b[43m_key\u001b[49m\u001b[43m]\u001b[49m\n\u001b[1;32m    212\u001b[0m \u001b[38;5;28;01mexcept\u001b[39;00m \u001b[38;5;167;01mKeyError\u001b[39;00m:\n",
      "File \u001b[0;32m/glade/work/afoster/conda-envs/ml_analysis/lib/python3.11/site-packages/xarray/backends/lru_cache.py:56\u001b[0m, in \u001b[0;36mLRUCache.__getitem__\u001b[0;34m(self, key)\u001b[0m\n\u001b[1;32m     55\u001b[0m \u001b[38;5;28;01mwith\u001b[39;00m \u001b[38;5;28mself\u001b[39m\u001b[38;5;241m.\u001b[39m_lock:\n\u001b[0;32m---> 56\u001b[0m     value \u001b[38;5;241m=\u001b[39m \u001b[38;5;28;43mself\u001b[39;49m\u001b[38;5;241;43m.\u001b[39;49m\u001b[43m_cache\u001b[49m\u001b[43m[\u001b[49m\u001b[43mkey\u001b[49m\u001b[43m]\u001b[49m\n\u001b[1;32m     57\u001b[0m     \u001b[38;5;28mself\u001b[39m\u001b[38;5;241m.\u001b[39m_cache\u001b[38;5;241m.\u001b[39mmove_to_end(key)\n",
      "\u001b[0;31mKeyError\u001b[0m: [<class 'netCDF4._netCDF4.Dataset'>, ('/glade/work/afoster/FATES_calibration/ILAMB_data/FLUXCOM_GPP.nc',), 'a', (('clobber', True), ('diskless', False), ('format', 'NETCDF4'), ('persist', False)), '74d3c372-7f7e-4bf1-8b6d-0a2ff422e2d9']",
      "\nDuring handling of the above exception, another exception occurred:\n",
      "\u001b[0;31mPermissionError\u001b[0m                           Traceback (most recent call last)",
      "Cell \u001b[0;32mIn[49], line 22\u001b[0m\n\u001b[1;32m     20\u001b[0m fluxcom_gpp\u001b[38;5;241m.\u001b[39mattrs[\u001b[38;5;124m'\u001b[39m\u001b[38;5;124mDate\u001b[39m\u001b[38;5;124m'\u001b[39m] \u001b[38;5;241m=\u001b[39m \u001b[38;5;28mstr\u001b[39m(date\u001b[38;5;241m.\u001b[39mtoday())\n\u001b[1;32m     21\u001b[0m fluxcom_gpp\u001b[38;5;241m.\u001b[39mattrs[\u001b[38;5;124m'\u001b[39m\u001b[38;5;124mAuthor\u001b[39m\u001b[38;5;124m'\u001b[39m] \u001b[38;5;241m=\u001b[39m \u001b[38;5;124m'\u001b[39m\u001b[38;5;124mafoster@ucar.edu\u001b[39m\u001b[38;5;124m'\u001b[39m\n\u001b[0;32m---> 22\u001b[0m \u001b[43mfluxcom_gpp\u001b[49m\u001b[38;5;241;43m.\u001b[39;49m\u001b[43mto_netcdf\u001b[49m\u001b[43m(\u001b[49m\u001b[43mos\u001b[49m\u001b[38;5;241;43m.\u001b[39;49m\u001b[43mpath\u001b[49m\u001b[38;5;241;43m.\u001b[39;49m\u001b[43mjoin\u001b[49m\u001b[43m(\u001b[49m\u001b[43moutdir\u001b[49m\u001b[43m,\u001b[49m\u001b[43m \u001b[49m\u001b[38;5;124;43m'\u001b[39;49m\u001b[38;5;124;43mFLUXCOM_GPP.nc\u001b[39;49m\u001b[38;5;124;43m'\u001b[39;49m\u001b[43m)\u001b[49m\u001b[43m)\u001b[49m\n",
      "File \u001b[0;32m/glade/work/afoster/conda-envs/ml_analysis/lib/python3.11/site-packages/xarray/core/dataset.py:2303\u001b[0m, in \u001b[0;36mDataset.to_netcdf\u001b[0;34m(self, path, mode, format, group, engine, encoding, unlimited_dims, compute, invalid_netcdf)\u001b[0m\n\u001b[1;32m   2300\u001b[0m     encoding \u001b[38;5;241m=\u001b[39m {}\n\u001b[1;32m   2301\u001b[0m \u001b[38;5;28;01mfrom\u001b[39;00m \u001b[38;5;21;01mxarray\u001b[39;00m\u001b[38;5;21;01m.\u001b[39;00m\u001b[38;5;21;01mbackends\u001b[39;00m\u001b[38;5;21;01m.\u001b[39;00m\u001b[38;5;21;01mapi\u001b[39;00m \u001b[38;5;28;01mimport\u001b[39;00m to_netcdf\n\u001b[0;32m-> 2303\u001b[0m \u001b[38;5;28;01mreturn\u001b[39;00m \u001b[43mto_netcdf\u001b[49m\u001b[43m(\u001b[49m\u001b[43m  \u001b[49m\u001b[38;5;66;43;03m# type: ignore  # mypy cannot resolve the overloads:(\u001b[39;49;00m\n\u001b[1;32m   2304\u001b[0m \u001b[43m    \u001b[49m\u001b[38;5;28;43mself\u001b[39;49m\u001b[43m,\u001b[49m\n\u001b[1;32m   2305\u001b[0m \u001b[43m    \u001b[49m\u001b[43mpath\u001b[49m\u001b[43m,\u001b[49m\n\u001b[1;32m   2306\u001b[0m \u001b[43m    \u001b[49m\u001b[43mmode\u001b[49m\u001b[38;5;241;43m=\u001b[39;49m\u001b[43mmode\u001b[49m\u001b[43m,\u001b[49m\n\u001b[1;32m   2307\u001b[0m \u001b[43m    \u001b[49m\u001b[38;5;28;43mformat\u001b[39;49m\u001b[38;5;241;43m=\u001b[39;49m\u001b[38;5;28;43mformat\u001b[39;49m\u001b[43m,\u001b[49m\n\u001b[1;32m   2308\u001b[0m \u001b[43m    \u001b[49m\u001b[43mgroup\u001b[49m\u001b[38;5;241;43m=\u001b[39;49m\u001b[43mgroup\u001b[49m\u001b[43m,\u001b[49m\n\u001b[1;32m   2309\u001b[0m \u001b[43m    \u001b[49m\u001b[43mengine\u001b[49m\u001b[38;5;241;43m=\u001b[39;49m\u001b[43mengine\u001b[49m\u001b[43m,\u001b[49m\n\u001b[1;32m   2310\u001b[0m \u001b[43m    \u001b[49m\u001b[43mencoding\u001b[49m\u001b[38;5;241;43m=\u001b[39;49m\u001b[43mencoding\u001b[49m\u001b[43m,\u001b[49m\n\u001b[1;32m   2311\u001b[0m \u001b[43m    \u001b[49m\u001b[43munlimited_dims\u001b[49m\u001b[38;5;241;43m=\u001b[39;49m\u001b[43munlimited_dims\u001b[49m\u001b[43m,\u001b[49m\n\u001b[1;32m   2312\u001b[0m \u001b[43m    \u001b[49m\u001b[43mcompute\u001b[49m\u001b[38;5;241;43m=\u001b[39;49m\u001b[43mcompute\u001b[49m\u001b[43m,\u001b[49m\n\u001b[1;32m   2313\u001b[0m \u001b[43m    \u001b[49m\u001b[43mmultifile\u001b[49m\u001b[38;5;241;43m=\u001b[39;49m\u001b[38;5;28;43;01mFalse\u001b[39;49;00m\u001b[43m,\u001b[49m\n\u001b[1;32m   2314\u001b[0m \u001b[43m    \u001b[49m\u001b[43minvalid_netcdf\u001b[49m\u001b[38;5;241;43m=\u001b[39;49m\u001b[43minvalid_netcdf\u001b[49m\u001b[43m,\u001b[49m\n\u001b[1;32m   2315\u001b[0m \u001b[43m\u001b[49m\u001b[43m)\u001b[49m\n",
      "File \u001b[0;32m/glade/work/afoster/conda-envs/ml_analysis/lib/python3.11/site-packages/xarray/backends/api.py:1298\u001b[0m, in \u001b[0;36mto_netcdf\u001b[0;34m(dataset, path_or_file, mode, format, group, engine, encoding, unlimited_dims, compute, multifile, invalid_netcdf)\u001b[0m\n\u001b[1;32m   1294\u001b[0m     \u001b[38;5;28;01melse\u001b[39;00m:\n\u001b[1;32m   1295\u001b[0m         \u001b[38;5;28;01mraise\u001b[39;00m \u001b[38;5;167;01mValueError\u001b[39;00m(\n\u001b[1;32m   1296\u001b[0m             \u001b[38;5;124mf\u001b[39m\u001b[38;5;124m\"\u001b[39m\u001b[38;5;124munrecognized option \u001b[39m\u001b[38;5;124m'\u001b[39m\u001b[38;5;124minvalid_netcdf\u001b[39m\u001b[38;5;124m'\u001b[39m\u001b[38;5;124m for engine \u001b[39m\u001b[38;5;132;01m{\u001b[39;00mengine\u001b[38;5;132;01m}\u001b[39;00m\u001b[38;5;124m\"\u001b[39m\n\u001b[1;32m   1297\u001b[0m         )\n\u001b[0;32m-> 1298\u001b[0m store \u001b[38;5;241m=\u001b[39m \u001b[43mstore_open\u001b[49m\u001b[43m(\u001b[49m\u001b[43mtarget\u001b[49m\u001b[43m,\u001b[49m\u001b[43m \u001b[49m\u001b[43mmode\u001b[49m\u001b[43m,\u001b[49m\u001b[43m \u001b[49m\u001b[38;5;28;43mformat\u001b[39;49m\u001b[43m,\u001b[49m\u001b[43m \u001b[49m\u001b[43mgroup\u001b[49m\u001b[43m,\u001b[49m\u001b[43m \u001b[49m\u001b[38;5;241;43m*\u001b[39;49m\u001b[38;5;241;43m*\u001b[39;49m\u001b[43mkwargs\u001b[49m\u001b[43m)\u001b[49m\n\u001b[1;32m   1300\u001b[0m \u001b[38;5;28;01mif\u001b[39;00m unlimited_dims \u001b[38;5;129;01mis\u001b[39;00m \u001b[38;5;28;01mNone\u001b[39;00m:\n\u001b[1;32m   1301\u001b[0m     unlimited_dims \u001b[38;5;241m=\u001b[39m dataset\u001b[38;5;241m.\u001b[39mencoding\u001b[38;5;241m.\u001b[39mget(\u001b[38;5;124m\"\u001b[39m\u001b[38;5;124munlimited_dims\u001b[39m\u001b[38;5;124m\"\u001b[39m, \u001b[38;5;28;01mNone\u001b[39;00m)\n",
      "File \u001b[0;32m/glade/work/afoster/conda-envs/ml_analysis/lib/python3.11/site-packages/xarray/backends/netCDF4_.py:407\u001b[0m, in \u001b[0;36mNetCDF4DataStore.open\u001b[0;34m(cls, filename, mode, format, group, clobber, diskless, persist, lock, lock_maker, autoclose)\u001b[0m\n\u001b[1;32m    401\u001b[0m kwargs \u001b[38;5;241m=\u001b[39m \u001b[38;5;28mdict\u001b[39m(\n\u001b[1;32m    402\u001b[0m     clobber\u001b[38;5;241m=\u001b[39mclobber, diskless\u001b[38;5;241m=\u001b[39mdiskless, persist\u001b[38;5;241m=\u001b[39mpersist, \u001b[38;5;28mformat\u001b[39m\u001b[38;5;241m=\u001b[39m\u001b[38;5;28mformat\u001b[39m\n\u001b[1;32m    403\u001b[0m )\n\u001b[1;32m    404\u001b[0m manager \u001b[38;5;241m=\u001b[39m CachingFileManager(\n\u001b[1;32m    405\u001b[0m     netCDF4\u001b[38;5;241m.\u001b[39mDataset, filename, mode\u001b[38;5;241m=\u001b[39mmode, kwargs\u001b[38;5;241m=\u001b[39mkwargs\n\u001b[1;32m    406\u001b[0m )\n\u001b[0;32m--> 407\u001b[0m \u001b[38;5;28;01mreturn\u001b[39;00m \u001b[38;5;28;43mcls\u001b[39;49m\u001b[43m(\u001b[49m\u001b[43mmanager\u001b[49m\u001b[43m,\u001b[49m\u001b[43m \u001b[49m\u001b[43mgroup\u001b[49m\u001b[38;5;241;43m=\u001b[39;49m\u001b[43mgroup\u001b[49m\u001b[43m,\u001b[49m\u001b[43m \u001b[49m\u001b[43mmode\u001b[49m\u001b[38;5;241;43m=\u001b[39;49m\u001b[43mmode\u001b[49m\u001b[43m,\u001b[49m\u001b[43m \u001b[49m\u001b[43mlock\u001b[49m\u001b[38;5;241;43m=\u001b[39;49m\u001b[43mlock\u001b[49m\u001b[43m,\u001b[49m\u001b[43m \u001b[49m\u001b[43mautoclose\u001b[49m\u001b[38;5;241;43m=\u001b[39;49m\u001b[43mautoclose\u001b[49m\u001b[43m)\u001b[49m\n",
      "File \u001b[0;32m/glade/work/afoster/conda-envs/ml_analysis/lib/python3.11/site-packages/xarray/backends/netCDF4_.py:354\u001b[0m, in \u001b[0;36mNetCDF4DataStore.__init__\u001b[0;34m(self, manager, group, mode, lock, autoclose)\u001b[0m\n\u001b[1;32m    352\u001b[0m \u001b[38;5;28mself\u001b[39m\u001b[38;5;241m.\u001b[39m_group \u001b[38;5;241m=\u001b[39m group\n\u001b[1;32m    353\u001b[0m \u001b[38;5;28mself\u001b[39m\u001b[38;5;241m.\u001b[39m_mode \u001b[38;5;241m=\u001b[39m mode\n\u001b[0;32m--> 354\u001b[0m \u001b[38;5;28mself\u001b[39m\u001b[38;5;241m.\u001b[39mformat \u001b[38;5;241m=\u001b[39m \u001b[38;5;28;43mself\u001b[39;49m\u001b[38;5;241;43m.\u001b[39;49m\u001b[43mds\u001b[49m\u001b[38;5;241m.\u001b[39mdata_model\n\u001b[1;32m    355\u001b[0m \u001b[38;5;28mself\u001b[39m\u001b[38;5;241m.\u001b[39m_filename \u001b[38;5;241m=\u001b[39m \u001b[38;5;28mself\u001b[39m\u001b[38;5;241m.\u001b[39mds\u001b[38;5;241m.\u001b[39mfilepath()\n\u001b[1;32m    356\u001b[0m \u001b[38;5;28mself\u001b[39m\u001b[38;5;241m.\u001b[39mis_remote \u001b[38;5;241m=\u001b[39m is_remote_uri(\u001b[38;5;28mself\u001b[39m\u001b[38;5;241m.\u001b[39m_filename)\n",
      "File \u001b[0;32m/glade/work/afoster/conda-envs/ml_analysis/lib/python3.11/site-packages/xarray/backends/netCDF4_.py:416\u001b[0m, in \u001b[0;36mNetCDF4DataStore.ds\u001b[0;34m(self)\u001b[0m\n\u001b[1;32m    414\u001b[0m \u001b[38;5;129m@property\u001b[39m\n\u001b[1;32m    415\u001b[0m \u001b[38;5;28;01mdef\u001b[39;00m \u001b[38;5;21mds\u001b[39m(\u001b[38;5;28mself\u001b[39m):\n\u001b[0;32m--> 416\u001b[0m     \u001b[38;5;28;01mreturn\u001b[39;00m \u001b[38;5;28;43mself\u001b[39;49m\u001b[38;5;241;43m.\u001b[39;49m\u001b[43m_acquire\u001b[49m\u001b[43m(\u001b[49m\u001b[43m)\u001b[49m\n",
      "File \u001b[0;32m/glade/work/afoster/conda-envs/ml_analysis/lib/python3.11/site-packages/xarray/backends/netCDF4_.py:410\u001b[0m, in \u001b[0;36mNetCDF4DataStore._acquire\u001b[0;34m(self, needs_lock)\u001b[0m\n\u001b[1;32m    409\u001b[0m \u001b[38;5;28;01mdef\u001b[39;00m \u001b[38;5;21m_acquire\u001b[39m(\u001b[38;5;28mself\u001b[39m, needs_lock\u001b[38;5;241m=\u001b[39m\u001b[38;5;28;01mTrue\u001b[39;00m):\n\u001b[0;32m--> 410\u001b[0m \u001b[43m    \u001b[49m\u001b[38;5;28;43;01mwith\u001b[39;49;00m\u001b[43m \u001b[49m\u001b[38;5;28;43mself\u001b[39;49m\u001b[38;5;241;43m.\u001b[39;49m\u001b[43m_manager\u001b[49m\u001b[38;5;241;43m.\u001b[39;49m\u001b[43macquire_context\u001b[49m\u001b[43m(\u001b[49m\u001b[43mneeds_lock\u001b[49m\u001b[43m)\u001b[49m\u001b[43m \u001b[49m\u001b[38;5;28;43;01mas\u001b[39;49;00m\u001b[43m \u001b[49m\u001b[43mroot\u001b[49m\u001b[43m:\u001b[49m\n\u001b[1;32m    411\u001b[0m \u001b[43m        \u001b[49m\u001b[43mds\u001b[49m\u001b[43m \u001b[49m\u001b[38;5;241;43m=\u001b[39;49m\u001b[43m \u001b[49m\u001b[43m_nc4_require_group\u001b[49m\u001b[43m(\u001b[49m\u001b[43mroot\u001b[49m\u001b[43m,\u001b[49m\u001b[43m \u001b[49m\u001b[38;5;28;43mself\u001b[39;49m\u001b[38;5;241;43m.\u001b[39;49m\u001b[43m_group\u001b[49m\u001b[43m,\u001b[49m\u001b[43m \u001b[49m\u001b[38;5;28;43mself\u001b[39;49m\u001b[38;5;241;43m.\u001b[39;49m\u001b[43m_mode\u001b[49m\u001b[43m)\u001b[49m\n\u001b[1;32m    412\u001b[0m     \u001b[38;5;28;01mreturn\u001b[39;00m ds\n",
      "File \u001b[0;32m/glade/work/afoster/conda-envs/ml_analysis/lib/python3.11/contextlib.py:137\u001b[0m, in \u001b[0;36m_GeneratorContextManager.__enter__\u001b[0;34m(self)\u001b[0m\n\u001b[1;32m    135\u001b[0m \u001b[38;5;28;01mdel\u001b[39;00m \u001b[38;5;28mself\u001b[39m\u001b[38;5;241m.\u001b[39margs, \u001b[38;5;28mself\u001b[39m\u001b[38;5;241m.\u001b[39mkwds, \u001b[38;5;28mself\u001b[39m\u001b[38;5;241m.\u001b[39mfunc\n\u001b[1;32m    136\u001b[0m \u001b[38;5;28;01mtry\u001b[39;00m:\n\u001b[0;32m--> 137\u001b[0m     \u001b[38;5;28;01mreturn\u001b[39;00m \u001b[38;5;28mnext\u001b[39m(\u001b[38;5;28mself\u001b[39m\u001b[38;5;241m.\u001b[39mgen)\n\u001b[1;32m    138\u001b[0m \u001b[38;5;28;01mexcept\u001b[39;00m \u001b[38;5;167;01mStopIteration\u001b[39;00m:\n\u001b[1;32m    139\u001b[0m     \u001b[38;5;28;01mraise\u001b[39;00m \u001b[38;5;167;01mRuntimeError\u001b[39;00m(\u001b[38;5;124m\"\u001b[39m\u001b[38;5;124mgenerator didn\u001b[39m\u001b[38;5;124m'\u001b[39m\u001b[38;5;124mt yield\u001b[39m\u001b[38;5;124m\"\u001b[39m) \u001b[38;5;28;01mfrom\u001b[39;00m \u001b[38;5;28;01mNone\u001b[39;00m\n",
      "File \u001b[0;32m/glade/work/afoster/conda-envs/ml_analysis/lib/python3.11/site-packages/xarray/backends/file_manager.py:199\u001b[0m, in \u001b[0;36mCachingFileManager.acquire_context\u001b[0;34m(self, needs_lock)\u001b[0m\n\u001b[1;32m    196\u001b[0m \u001b[38;5;129m@contextlib\u001b[39m\u001b[38;5;241m.\u001b[39mcontextmanager\n\u001b[1;32m    197\u001b[0m \u001b[38;5;28;01mdef\u001b[39;00m \u001b[38;5;21macquire_context\u001b[39m(\u001b[38;5;28mself\u001b[39m, needs_lock\u001b[38;5;241m=\u001b[39m\u001b[38;5;28;01mTrue\u001b[39;00m):\n\u001b[1;32m    198\u001b[0m \u001b[38;5;250m    \u001b[39m\u001b[38;5;124;03m\"\"\"Context manager for acquiring a file.\"\"\"\u001b[39;00m\n\u001b[0;32m--> 199\u001b[0m     file, cached \u001b[38;5;241m=\u001b[39m \u001b[38;5;28;43mself\u001b[39;49m\u001b[38;5;241;43m.\u001b[39;49m\u001b[43m_acquire_with_cache_info\u001b[49m\u001b[43m(\u001b[49m\u001b[43mneeds_lock\u001b[49m\u001b[43m)\u001b[49m\n\u001b[1;32m    200\u001b[0m     \u001b[38;5;28;01mtry\u001b[39;00m:\n\u001b[1;32m    201\u001b[0m         \u001b[38;5;28;01myield\u001b[39;00m file\n",
      "File \u001b[0;32m/glade/work/afoster/conda-envs/ml_analysis/lib/python3.11/site-packages/xarray/backends/file_manager.py:217\u001b[0m, in \u001b[0;36mCachingFileManager._acquire_with_cache_info\u001b[0;34m(self, needs_lock)\u001b[0m\n\u001b[1;32m    215\u001b[0m     kwargs \u001b[38;5;241m=\u001b[39m kwargs\u001b[38;5;241m.\u001b[39mcopy()\n\u001b[1;32m    216\u001b[0m     kwargs[\u001b[38;5;124m\"\u001b[39m\u001b[38;5;124mmode\u001b[39m\u001b[38;5;124m\"\u001b[39m] \u001b[38;5;241m=\u001b[39m \u001b[38;5;28mself\u001b[39m\u001b[38;5;241m.\u001b[39m_mode\n\u001b[0;32m--> 217\u001b[0m file \u001b[38;5;241m=\u001b[39m \u001b[38;5;28;43mself\u001b[39;49m\u001b[38;5;241;43m.\u001b[39;49m\u001b[43m_opener\u001b[49m\u001b[43m(\u001b[49m\u001b[38;5;241;43m*\u001b[39;49m\u001b[38;5;28;43mself\u001b[39;49m\u001b[38;5;241;43m.\u001b[39;49m\u001b[43m_args\u001b[49m\u001b[43m,\u001b[49m\u001b[43m \u001b[49m\u001b[38;5;241;43m*\u001b[39;49m\u001b[38;5;241;43m*\u001b[39;49m\u001b[43mkwargs\u001b[49m\u001b[43m)\u001b[49m\n\u001b[1;32m    218\u001b[0m \u001b[38;5;28;01mif\u001b[39;00m \u001b[38;5;28mself\u001b[39m\u001b[38;5;241m.\u001b[39m_mode \u001b[38;5;241m==\u001b[39m \u001b[38;5;124m\"\u001b[39m\u001b[38;5;124mw\u001b[39m\u001b[38;5;124m\"\u001b[39m:\n\u001b[1;32m    219\u001b[0m     \u001b[38;5;66;03m# ensure file doesn't get overridden when opened again\u001b[39;00m\n\u001b[1;32m    220\u001b[0m     \u001b[38;5;28mself\u001b[39m\u001b[38;5;241m.\u001b[39m_mode \u001b[38;5;241m=\u001b[39m \u001b[38;5;124m\"\u001b[39m\u001b[38;5;124ma\u001b[39m\u001b[38;5;124m\"\u001b[39m\n",
      "File \u001b[0;32msrc/netCDF4/_netCDF4.pyx:2469\u001b[0m, in \u001b[0;36mnetCDF4._netCDF4.Dataset.__init__\u001b[0;34m()\u001b[0m\n",
      "File \u001b[0;32msrc/netCDF4/_netCDF4.pyx:2028\u001b[0m, in \u001b[0;36mnetCDF4._netCDF4._ensure_nc_success\u001b[0;34m()\u001b[0m\n",
      "\u001b[0;31mPermissionError\u001b[0m: [Errno 13] Permission denied: '/glade/work/afoster/FATES_calibration/ILAMB_data/FLUXCOM_GPP.nc'"
     ]
    }
   ],
   "source": [
    "# FLUXCOM\n",
    "fluxcom_file = os.path.join(dir, 'gpp', 'FLUXCOM', 'gpp.nc')\n",
    "fluxcom = xr.open_dataset(fluxcom_file)\n",
    "fluxcom = fluxcom.where(fluxcom.gpp < 500)\n",
    "lons = fluxcom.lon.values\n",
    "lats = np.array(sorted(fluxcom.lat.values))\n",
    "areas = CellAreas(lats, lons)\n",
    "\n",
    "fluxcom_gpp = get_annual_obs(fluxcom, 'gpp', 1/1000.00, mask).mean(dim='year')\n",
    "fluxcom_gpp = fluxcom_gpp.to_dataset(name='gpp')\n",
    "\n",
    "fluxcom_gpp['land_area'] = xr.DataArray(areas, coords={\"lat\": lats, \"lon\": lons})\n",
    "fluxcom_gpp['land_area'].attrs['units'] = 'm2'\n",
    "fluxcom_gpp['land_area'].attrs['long_name'] = 'land area'\n",
    "\n",
    "fluxcom_gpp['gpp'].attrs['units'] = 'kgC m-2 yr-1'\n",
    "fluxcom_gpp['gpp'].attrs['long_name'] = 'gross primary production'\n",
    "\n",
    "fluxcom_gpp.attrs['Original'] = fluxcom_file\n",
    "fluxcom_gpp.attrs['Date'] = str(date.today())\n",
    "fluxcom_gpp.attrs['Author'] = 'afoster@ucar.edu'\n",
    "fluxcom_gpp.to_netcdf(os.path.join(outdir, 'FLUXCOM_GPP.nc'))"
   ]
  },
  {
   "cell_type": "code",
   "execution_count": 47,
   "id": "9896b781-3acc-4402-a302-d938665c1fd4",
   "metadata": {},
   "outputs": [
    {
     "data": {
      "text/plain": [
       "<matplotlib.collections.QuadMesh at 0x1488dcf93890>"
      ]
     },
     "execution_count": 47,
     "metadata": {},
     "output_type": "execute_result"
    },
    {
     "data": {
      "image/png": "[encoded data removed]",
      "text/plain": [
       "<Figure size 640x480 with 2 Axes>"
      ]
     },
     "metadata": {},
     "output_type": "display_data"
    }
   ],
   "source": [
    "fluxcom_gpp.land_area.plot()"
   ]
  },
  {
   "cell_type": "code",
   "execution_count": null,
   "id": "0449a0b6-25ff-4ae6-9708-42d7e9ab1315",
   "metadata": {},
   "outputs": [],
   "source": [
    "# WECANN\n",
    "wecann_file = os.path.join(dir, 'gpp', 'WECANN', 'gpp.nc')\n",
    "wecann = xr.open_dataset(wecann_file)\n",
    "wecann = wecann.where(wecann.gpp < 500)\n",
    "\n",
    "wecann_gpp = get_annual_obs(wecann, 'gpp', 1/1000.0, mask).mean(dim='year')\n",
    "wecann_gpp = wecann_gpp.to_dataset(name='gpp')\n",
    "\n",
    "wecann_gpp['gpp'].attrs['units'] = 'kgC m-2 yr-1'\n",
    "wecann_gpp['gpp'].attrs['long_name'] = 'gross primary production'\n",
    "\n",
    "wecann_gpp.attrs['Original'] = wecann_file\n",
    "wecann_gpp.attrs['Date'] = str(date.today())\n",
    "wecann_gpp.attrs['Author'] = 'afoster@ucar.edu'\n",
    "wecann_gpp.to_netcdf(os.path.join(outdir, 'WECANN_GPP.nc'))"
   ]
  },
  {
   "cell_type": "code",
   "execution_count": null,
   "id": "8f7419c2-74fe-4e71-85cd-eb026d23f67c",
   "metadata": {},
   "outputs": [],
   "source": [
    "# GBAF\n",
    "gbaf_file = os.path.join(dir, 'gpp', 'GBAF', 'gpp_0.5x0.5.nc')\n",
    "gbaf = xr.open_dataset(gbaf_file)\n",
    "\n",
    "gbaf_gpp = get_annual_obs(gbaf, 'gpp', 60.0*60.0*24.0, mask).mean(dim='year')\n",
    "gbaf_gpp = gbaf_gpp.to_dataset(name='gpp')\n",
    "\n",
    "gbaf_gpp['gpp'].attrs['units'] = 'kgC m-2 yr-1'\n",
    "gbaf_gpp['gpp'].attrs['long_name'] = 'gross primary production'\n",
    "\n",
    "gbaf_gpp.attrs['Original'] = gbaf_file\n",
    "gbaf_gpp.attrs['Date'] = str(date.today())\n",
    "gbaf_gpp.attrs['Author'] = 'afoster@ucar.edu'\n",
    "gbaf_gpp.to_netcdf(os.path.join(outdir, 'GBAF_GPP.nc'))"
   ]
  },
  {
   "cell_type": "markdown",
   "id": "b095141c-efff-4842-b1ff-219333406486",
   "metadata": {
    "jp-MarkdownHeadingCollapsed": true
   },
   "source": [
    "### LAI"
   ]
  },
  {
   "cell_type": "code",
   "execution_count": null,
   "id": "518a43ab-4f9a-41f1-9f0c-551a8c58af1b",
   "metadata": {},
   "outputs": [],
   "source": [
    "# MODIS\n",
    "modis_file = os.path.join(dir, 'lai', 'MODIS', 'lai_0.5x0.5.nc')\n",
    "modis = xr.open_dataset(modis_file)\n",
    "\n",
    "modis_lai = get_annual_obs(modis, 'lai', 1/365, mask).mean(dim='year')\n",
    "modis_lai = modis_lai.to_dataset(name='lai')\n",
    "\n",
    "modis_lai['lai'].attrs['units'] = 'm2 m-2'\n",
    "modis_lai['lai'].attrs['long_name'] = 'leaf area index'\n",
    "\n",
    "modis_lai.attrs['Original'] = modis_file\n",
    "modis_lai.attrs['Date'] = str(date.today())\n",
    "modis_lai.attrs['Author'] = 'afoster@ucar.edu'\n",
    "modis_lai.to_netcdf(os.path.join(outdir, 'MODIS_LAI.nc'))"
   ]
  },
  {
   "cell_type": "code",
   "execution_count": null,
   "id": "9dd7f8b8-dc91-4c63-8a0e-0cb7171c5e72",
   "metadata": {},
   "outputs": [],
   "source": [
    "# AVHRR\n",
    "avhrr_file = os.path.join(dir, 'lai', 'AVHRR', 'lai_0.5x0.5.nc')\n",
    "avhrr = xr.open_dataset(avhrr_file)\n",
    "\n",
    "avhrr_lai = get_annual_obs(avhrr, 'lai', 1/365, mask).mean(dim='year')\n",
    "avhrr_lai = avhrr_lai.to_dataset(name='lai')\n",
    "\n",
    "avhrr_lai['lai'].attrs['units'] = 'm2 m-2'\n",
    "avhrr_lai['lai'].attrs['long_name'] = 'leaf area index'\n",
    "\n",
    "avhrr_lai.attrs['Original'] = avhrr_file\n",
    "avhrr_lai.attrs['Date'] = str(date.today())\n",
    "avhrr_lai.attrs['Author'] = 'afoster@ucar.edu'\n",
    "avhrr_lai.to_netcdf(os.path.join(outdir, 'AVHRR_LAI.nc'))"
   ]
  },
  {
   "cell_type": "code",
   "execution_count": null,
   "id": "9f8e4805-9dfe-401d-b82c-ca836a0ec199",
   "metadata": {},
   "outputs": [],
   "source": [
    "# AVH15C1\n",
    "avh1_file = os.path.join(dir, 'lai', 'AVH15C1', 'lai.nc')\n",
    "avh1 = xr.open_dataset(avh1_file)\n",
    "\n",
    "avh1_lai = get_annual_obs(avh1, 'lai', 1/365, mask).mean(dim='year')\n",
    "avh1_lai = avh1_lai.to_dataset(name='lai')\n",
    "\n",
    "avh1_lai['lai'].attrs['units'] = 'm2 m-2'\n",
    "avh1_lai['lai'].attrs['long_name'] = 'leaf area index'\n",
    "\n",
    "avh1_lai.attrs['Original'] = avh1_file\n",
    "avh1_lai.attrs['Date'] = str(date.today())\n",
    "avh1_lai.attrs['Author'] = 'afoster@ucar.edu'\n",
    "avh1_lai.to_netcdf(os.path.join(outdir, 'AVH15C1_LAI.nc'))"
   ]
  },
  {
   "cell_type": "markdown",
   "id": "ed10090c-6b12-4d61-94a7-616766d76ade",
   "metadata": {
    "jp-MarkdownHeadingCollapsed": true
   },
   "source": [
    "### ET"
   ]
  },
  {
   "cell_type": "code",
   "execution_count": null,
   "id": "9f8c8f8a-c184-404f-93cc-6ccf50d9e12b",
   "metadata": {},
   "outputs": [],
   "source": [
    "# FLUXCOM\n",
    "fluxcom_file = os.path.join(dir, 'hfls', 'FLUXCOM', 'le.nc')\n",
    "fluxcom = xr.open_dataset(fluxcom_file)\n",
    "\n",
    "fluxcom_et = get_annual_obs(fluxcom, 'le', 1/2.5e6*24*60*60, mask).mean(dim='year')\n",
    "fluxcom_et = fluxcom_et.to_dataset(name='et')\n",
    "\n",
    "fluxcom_et['et'].attrs['units'] = 'kgH2O m-2 yr-1'\n",
    "fluxcom_et['et'].attrs['long_name'] = 'evapotranspiration flux'\n",
    "\n",
    "fluxcom_et.attrs['Original'] = fluxcom_file\n",
    "fluxcom_et.attrs['Date'] = str(date.today())\n",
    "fluxcom_et.attrs['Author'] = 'afoster@ucar.edu'\n",
    "fluxcom_et.to_netcdf(os.path.join(outdir, 'FLUXCOM_ET.nc'))"
   ]
  },
  {
   "cell_type": "code",
   "execution_count": null,
   "id": "4d1e8f51-3969-483e-bee4-d6918612594f",
   "metadata": {},
   "outputs": [],
   "source": [
    "# DOLCE\n",
    "dolce_file = os.path.join(dir, 'evspsbl', 'DOLCE', 'DOLCE.nc')\n",
    "dolce = xr.open_dataset(dolce_file)\n",
    "\n",
    "dolce_et = get_annual_obs(dolce, 'hfls', 1/2.5e6*24*60*60, mask).mean(dim='year')\n",
    "dolce_et = dolce_et.to_dataset(name='et')\n",
    "\n",
    "dolce_et['et'].attrs['units'] = 'kgH2O m-2 yr-1'\n",
    "dolce_et['et'].attrs['long_name'] = 'evapotranspiration flux'\n",
    "\n",
    "dolce_et.attrs['Original'] = dolce_file\n",
    "dolce_et.attrs['Date'] = str(date.today())\n",
    "dolce_et.attrs['Author'] = 'afoster@ucar.edu'\n",
    "dolce_et.to_netcdf(os.path.join(outdir, 'DOLCE_ET.nc'))"
   ]
  },
  {
   "cell_type": "code",
   "execution_count": null,
   "id": "c14d5fbc-a3e0-4b30-9738-bb6fe112afd8",
   "metadata": {},
   "outputs": [],
   "source": [
    "# CLASS\n",
    "class_file = os.path.join(dir, 'hfls', 'CLASS', 'hfls.nc')\n",
    "class_dat = xr.open_dataset(class_file)\n",
    "\n",
    "class_et = get_annual_obs(class_dat, 'hfls', 1/2.5e6*24*60*60, mask).mean(dim='year')\n",
    "class_et = class_et.to_dataset(name='et')\n",
    "\n",
    "class_et['et'].attrs['units'] = 'kgH2O m-2 yr-1'\n",
    "class_et['et'].attrs['long_name'] = 'evapotranspiration flux'\n",
    "\n",
    "class_et.attrs['Original'] = class_file\n",
    "class_et.attrs['Date'] = str(date.today())\n",
    "class_et.attrs['Author'] = 'afoster@ucar.edu'\n",
    "class_et.to_netcdf(os.path.join(outdir, 'CLASS_ET.nc'))"
   ]
  },
  {
   "cell_type": "code",
   "execution_count": null,
   "id": "975a9596-3679-45c1-94de-9543e310a610",
   "metadata": {},
   "outputs": [],
   "source": [
    "# WECANN\n",
    "wecann_file = os.path.join(dir, 'hfls', 'WECANN', 'hfls.nc')\n",
    "wecann = xr.open_dataset(wecann_file)\n",
    "wecann = wecann.where(wecann.hfls < 500)\n",
    "\n",
    "wecann_et = get_annual_obs(wecann, 'hfls', 1/2.5e6*24*60*60, mask).mean(dim='year')\n",
    "wecann_et = wecann_et.to_dataset(name='et')\n",
    "\n",
    "wecann_et['et'].attrs['units'] = 'kgH2O m-2 yr-1'\n",
    "wecann_et['et'].attrs['long_name'] = 'evapotranspiration flux'\n",
    "\n",
    "wecann_et.attrs['Original'] = wecann_file\n",
    "wecann_et.attrs['Date'] = str(date.today())\n",
    "wecann_et.attrs['Author'] = 'afoster@ucar.edu'\n",
    "wecann_et.to_netcdf(os.path.join(outdir, 'WECANN_ET.nc'))"
   ]
  },
  {
   "cell_type": "code",
   "execution_count": null,
   "id": "f5610e97-f464-4ae7-bd38-3912a75b357a",
   "metadata": {},
   "outputs": [],
   "source": [
    "# GBAF\n",
    "gbaf_file = os.path.join(dir, 'le', 'GBAF', 'le_0.5x0.5.nc')\n",
    "gbaf = xr.open_dataset(gbaf_file)\n",
    "\n",
    "gbaf_et = get_annual_obs(gbaf, 'le', 1/2.5e6*24*60*60, mask).mean(dim='year')\n",
    "gbaf_et = gbaf_et.to_dataset(name='et')\n",
    "\n",
    "gbaf_et['et'].attrs['units'] = 'kgH2O m-2 yr-1'\n",
    "gbaf_et['et'].attrs['long_name'] = 'evapotranspiration flux'\n",
    "\n",
    "gbaf_et.attrs['Original'] = gbaf_file\n",
    "gbaf_et.attrs['Date'] = str(date.today())\n",
    "gbaf_et.attrs['Author'] = 'afoster@ucar.edu'\n",
    "gbaf_et.to_netcdf(os.path.join(outdir, 'GBAF_ET.nc'))"
   ]
  },
  {
   "cell_type": "markdown",
   "id": "af67aec2-de18-4e92-bac7-64433cff84ce",
   "metadata": {
    "jp-MarkdownHeadingCollapsed": true
   },
   "source": [
    "### Runoff"
   ]
  },
  {
   "cell_type": "code",
   "execution_count": null,
   "id": "66d402c0-14a5-4686-b44d-a642f8f1cc4d",
   "metadata": {},
   "outputs": [],
   "source": [
    "# LORA\n",
    "lora_file = os.path.join(dir, 'mrro', 'LORA', 'LORA.nc')\n",
    "lora = xr.open_dataset(lora_file)\n",
    "\n",
    "lora_mrro = get_annual_obs(lora, 'mrro', 24*60*60/365, mask).mean(dim='year')\n",
    "lora_mrro = lora_mrro.to_dataset(name='mrro')\n",
    "\n",
    "lora_mrro['mrro'].attrs['units'] = 'mm day-1'\n",
    "lora_mrro['mrro'].attrs['long_name'] = 'surface runoff'\n",
    "\n",
    "lora_mrro.attrs['Original'] = lora_file\n",
    "lora_mrro.attrs['Date'] = str(date.today())\n",
    "lora_mrro.attrs['Author'] = 'afoster@ucar.edu'\n",
    "lora_mrro.to_netcdf(os.path.join(outdir, 'LORA_MRRO.nc'))"
   ]
  },
  {
   "cell_type": "code",
   "execution_count": null,
   "id": "3f2d466b-4f34-4881-99fb-7ce3a4fe508b",
   "metadata": {},
   "outputs": [],
   "source": [
    "# CLASS\n",
    "class_file = os.path.join(dir, 'mrro', 'CLASS', 'mrro.nc')\n",
    "class_dat = xr.open_dataset(class_file)\n",
    "\n",
    "class_mrro = get_annual_obs(class_dat, 'mrro', 24*60*60/365, mask).mean(dim='year')\n",
    "class_mrro = class_mrro.to_dataset(name='mrro')\n",
    "\n",
    "class_mrro['mrro'].attrs['units'] = 'mm day-1'\n",
    "class_mrro['mrro'].attrs['long_name'] = 'surface runoff'\n",
    "\n",
    "class_mrro.attrs['Original'] = class_file\n",
    "class_mrro.attrs['Date'] = str(date.today())\n",
    "class_mrro.attrs['Author'] = 'afoster@ucar.edu'\n",
    "class_mrro.to_netcdf(os.path.join(outdir, 'CLASS_MRRO.nc'))"
   ]
  },
  {
   "cell_type": "markdown",
   "id": "0399f930-f0bc-4952-8d35-72697cf7db63",
   "metadata": {
    "jp-MarkdownHeadingCollapsed": true
   },
   "source": [
    "### SH"
   ]
  },
  {
   "cell_type": "code",
   "execution_count": null,
   "id": "5b01d54a-2b4c-4505-a551-6ecf2ca6b073",
   "metadata": {},
   "outputs": [],
   "source": [
    "# FLUXCOM\n",
    "fluxcom_file = os.path.join(dir, 'hfss', 'FLUXCOM', 'sh.nc')\n",
    "fluxcom = xr.open_dataset(fluxcom_file)\n",
    "\n",
    "fluxcom_sh = get_annual_obs(fluxcom, 'sh', 1/365, mask).mean(dim='year')\n",
    "fluxcom_sh = fluxcom_sh.to_dataset(name='sh')\n",
    "\n",
    "fluxcom_sh['sh'].attrs['units'] = 'W m-2'\n",
    "fluxcom_sh['sh'].attrs['long_name'] = 'sensible heat flux'\n",
    "\n",
    "fluxcom_sh.attrs['Original'] = fluxcom_file\n",
    "fluxcom_sh.attrs['Date'] = str(date.today())\n",
    "fluxcom_sh.attrs['Author'] = 'afoster@ucar.edu'\n",
    "fluxcom_sh.to_netcdf(os.path.join(outdir, 'FLUXCOM_SH.nc'))"
   ]
  },
  {
   "cell_type": "code",
   "execution_count": null,
   "id": "310f3e67-b438-4d3b-8bce-c7dcb3ec81b9",
   "metadata": {},
   "outputs": [],
   "source": [
    "# CLASS\n",
    "class_file = os.path.join(dir, 'hfss', 'CLASS', 'hfss.nc')\n",
    "class_dat = xr.open_dataset(class_file)\n",
    "\n",
    "class_sh = get_annual_obs(class_dat, 'hfss', 1/365, mask).mean(dim='year')\n",
    "class_sh = class_sh.to_dataset(name='sh')\n",
    "\n",
    "class_sh['sh'].attrs['units'] = 'W m-2'\n",
    "class_sh['sh'].attrs['long_name'] = 'sensible heat flux'\n",
    "\n",
    "class_sh.attrs['Original'] = class_file\n",
    "class_sh.attrs['Date'] = str(date.today())\n",
    "class_sh.attrs['Author'] = 'afoster@ucar.edu'\n",
    "\n",
    "class_sh.to_netcdf(os.path.join(outdir, 'CLASS_SH.nc'))"
   ]
  },
  {
   "cell_type": "code",
   "execution_count": null,
   "id": "c2655ce0-150a-4966-add0-9f98519a49fb",
   "metadata": {},
   "outputs": [],
   "source": [
    "# WECANN\n",
    "wecann_file = os.path.join(dir, 'hfss', 'WECANN', 'hfss.nc')\n",
    "wecann = xr.open_dataset(wecann_file)\n",
    "wecann = wecann.where(wecann.hfss < 500)\n",
    "\n",
    "wecann_sh = get_annual_obs(wecann, 'hfss', 1/365, mask).mean(dim='year')\n",
    "wecann_sh = wecann_sh.to_dataset(name='sh')\n",
    "\n",
    "wecann_sh['sh'].attrs['units'] = 'W m-2'\n",
    "wecann_sh['sh'].attrs['long_name'] = 'sensible heat flux'\n",
    "\n",
    "wecann_sh.attrs['Original'] = wecann_file\n",
    "wecann_sh.attrs['Date'] = str(date.today())\n",
    "wecann_sh.attrs['Author'] = 'afoster@ucar.edu'\n",
    "wecann_sh.to_netcdf(os.path.join(outdir, 'WECANN_SH.nc'))"
   ]
  },
  {
   "cell_type": "code",
   "execution_count": null,
   "id": "10a58142-6d35-4c69-8c6a-2b4433f7d54f",
   "metadata": {},
   "outputs": [],
   "source": [
    "# GBAF\n",
    "gbaf_file = os.path.join(dir, 'sh', 'GBAF', 'sh_0.5x0.5.nc')\n",
    "gbaf = xr.open_dataset(gbaf_file)\n",
    "gbaf = gbaf.where(gbaf.sh < 500)\n",
    "\n",
    "gbaf_sh = get_annual_obs(gbaf, 'sh', 1/365, mask).mean(dim='year')\n",
    "gbaf_sh = gbaf_sh.to_dataset(name='sh')\n",
    "\n",
    "gbaf_sh['sh'].attrs['units'] = 'W m-2'\n",
    "gbaf_sh['sh'].attrs['long_name'] = 'sensible heat flux'\n",
    "\n",
    "gbaf_sh.attrs['Original'] = gbaf_file\n",
    "gbaf_sh.attrs['Date'] = str(date.today())\n",
    "gbaf_sh.attrs['Author'] = 'afoster@ucar.edu'\n",
    "gbaf_sh.to_netcdf(os.path.join(outdir, 'GBAF_SH.nc'))"
   ]
  },
  {
   "cell_type": "markdown",
   "id": "4a276fde-7764-4ec7-be55-c8f1041e609a",
   "metadata": {
    "jp-MarkdownHeadingCollapsed": true
   },
   "source": [
    "### Evaporative Fraction"
   ]
  },
  {
   "cell_type": "code",
   "execution_count": null,
   "id": "62017907-411e-4842-be67-5a4279807f74",
   "metadata": {},
   "outputs": [],
   "source": [
    "def evapfrac(sh, le, energy_threshold):\n",
    "    sh = sh.where((sh > 0) & (le > 0) & ((le + sh) > energy_threshold))\n",
    "    le = le.where((sh > 0) & (le > 0) & ((le + sh) > energy_threshold))\n",
    "    ef = le/(le + sh)\n",
    "    return ef"
   ]
  },
  {
   "cell_type": "code",
   "execution_count": null,
   "id": "734c57cb-9cdc-4e73-859c-6d7b9f8f7282",
   "metadata": {},
   "outputs": [],
   "source": [
    "# FLUXCOM\n",
    "fluxcom_le_file = os.path.join(dir, 'hfls', 'FLUXCOM', 'le.nc')\n",
    "fluxcom_sh_file = os.path.join(dir, 'hfss', 'FLUXCOM', 'sh.nc')\n",
    "fluxcom = xr.open_dataset(fluxcom_le_file)\n",
    "fluxcom_le = get_annual_obs(fluxcom, 'le', 1/365, mask).mean(dim='year')\n",
    "\n",
    "fluxcom_ef = evapfrac(fluxcom_sh.sh, fluxcom_le, 20)\n",
    "fluxcom_ef = fluxcom_ef.to_dataset(name='ef')\n",
    "\n",
    "fluxcom_ef['ef'].attrs['units'] = '0-1'\n",
    "fluxcom_ef['ef'].attrs['long_name'] = 'evaporative fraction (latent heat flux/(latent heat flux + sensible heat flux))'\n",
    "\n",
    "fluxcom_ef.attrs['Original'] = fluxcom_le_file + ', ' + fluxcom_sh_file\n",
    "fluxcom_ef.attrs['Date'] = str(date.today())\n",
    "fluxcom_ef.attrs['Author'] = 'afoster@ucar.edu'\n",
    "fluxcom_ef.to_netcdf(os.path.join(outdir, 'FLUXCOM_EF.nc'))"
   ]
  },
  {
   "cell_type": "code",
   "execution_count": null,
   "id": "77cac360-176d-43fa-afb9-088bbc3b4670",
   "metadata": {},
   "outputs": [],
   "source": [
    "# CLASS\n",
    "class_le_file = os.path.join(dir, 'hfls', 'CLASS', 'hfls.nc')\n",
    "class_sh_file = os.path.join(dir, 'hfss', 'CLASS', 'hfss.nc')\n",
    "class_dat = xr.open_dataset(class_le_file)\n",
    "class_le = get_annual_obs(class_dat, 'hfls', 1/365, mask).mean(dim='year')\n",
    "\n",
    "class_ef = evapfrac(class_sh.sh, class_le, 20)\n",
    "class_ef = class_ef.to_dataset(name='ef')\n",
    "\n",
    "class_ef['ef'].attrs['units'] = '0-1'\n",
    "class_ef['ef'].attrs['long_name'] = 'evaporative fraction (latent heat flux/(latent heat flux + sensible heat flux))'\n",
    "\n",
    "class_ef.attrs['Original'] = class_le_file + ', ' + class_sh_file\n",
    "class_ef.attrs['Date'] = str(date.today())\n",
    "class_ef.attrs['Author'] = 'afoster@ucar.edu'\n",
    "class_ef.to_netcdf(os.path.join(outdir, 'CLASS_EF.nc'))"
   ]
  },
  {
   "cell_type": "code",
   "execution_count": null,
   "id": "34befe03-1cda-48ba-a8e3-7a10abac81af",
   "metadata": {},
   "outputs": [],
   "source": [
    "# WECANN\n",
    "wecann_le_file = os.path.join(dir, 'hfls', 'WECANN', 'hfls.nc')\n",
    "wecann_sh_file = os.path.join(dir, 'hfss', 'WECANN', 'hfss.nc')\n",
    "wecann_dat = xr.open_dataset(wecann_le_file)\n",
    "wecann_le = get_annual_obs(wecann_dat, 'hfls', 1/365, mask).mean(dim='year')\n",
    "\n",
    "wecann_ef = evapfrac(wecann_sh.sh, wecann_le, 20)\n",
    "wecann_ef = wecann_ef.to_dataset(name='ef')\n",
    "\n",
    "wecann_ef['ef'].attrs['units'] = '0-1'\n",
    "wecann_ef['ef'].attrs['long_name'] = 'evaporative fraction (latent heat flux/(latent heat flux + sensible heat flux))'\n",
    "\n",
    "wecann_ef.attrs['Original'] = wecann_le_file + ', ' + wecann_sh_file\n",
    "wecann_ef.attrs['Date'] = str(date.today())\n",
    "wecann_ef.attrs['Author'] = 'afoster@ucar.edu'\n",
    "wecann_ef.to_netcdf(os.path.join(outdir, 'WECANN_EF.nc'))"
   ]
  },
  {
   "cell_type": "code",
   "execution_count": null,
   "id": "592e1352-8207-49b8-9999-8cb730daede9",
   "metadata": {},
   "outputs": [],
   "source": [
    "# GBAF\n",
    "gbaf_sh_file = os.path.join(dir, 'sh', 'GBAF', 'sh_0.5x0.5.nc')\n",
    "gbaf_le_file = os.path.join(dir, 'le', 'GBAF', 'le_0.5x0.5.nc')\n",
    "gbaf = xr.open_dataset(gbaf_le_file)\n",
    "gbaf_le = get_annual_obs(gbaf, 'le', 1/365, mask).mean(dim='year')\n",
    "\n",
    "gbaf_ef = evapfrac(gbaf_sh.sh, gbaf_le, 20)\n",
    "gbaf_ef = gbaf_ef.to_dataset(name='ef')\n",
    "\n",
    "gbaf_ef['ef'].attrs['units'] = '0-1'\n",
    "gbaf_ef['ef'].attrs['long_name'] = 'evaporative fraction (latent heat flux/(latent heat flux + sensible heat flux))'\n",
    "\n",
    "gbaf_ef.attrs['Original'] = gbaf_le_file + ', ' + gbaf_sh_file\n",
    "gbaf_ef.attrs['Date'] = str(date.today())\n",
    "gbaf_ef.attrs['Author'] = 'afoster@ucar.edu'\n",
    "gbaf_ef.to_netcdf(os.path.join(outdir, 'GBAF_EF.nc'))"
   ]
  },
  {
   "cell_type": "markdown",
   "id": "92ff64b0-71d8-4b77-a740-5a9c1638183d",
   "metadata": {
    "jp-MarkdownHeadingCollapsed": true
   },
   "source": [
    "### Surface Soil Moisture"
   ]
  },
  {
   "cell_type": "code",
   "execution_count": null,
   "id": "abe9cf2e-e242-462c-805a-44b6ad9d3db8",
   "metadata": {},
   "outputs": [],
   "source": [
    "# WangMao\n",
    "wangmao_file = os.path.join(dir, 'mrsos', 'WangMao', 'mrsos_olc.nc')\n",
    "wangmao = xr.open_dataset(wangmao_file)\n",
    "wangmao = wangmao.where(wangmao.mrsos < 500)\n",
    "\n",
    "wangmao_sw = get_annual_obs(wangmao, 'mrsos', 1/365, mask).mean(dim='year')\n",
    "wangmao_sw = wangmao_sw.to_dataset(name='sw')\n",
    "\n",
    "wangmao_sw['sw'].attrs['units'] = 'kg m-2'\n",
    "wangmao_sw['sw'].attrs['long_name'] = 'surface soil moisture'\n",
    "\n",
    "wangmao_sw.attrs['Original'] = wangmao_file\n",
    "wangmao_sw.attrs['Date'] = str(date.today())\n",
    "wangmao_sw.attrs['Author'] = 'afoster@ucar.edu'\n",
    "wangmao_sw.to_netcdf(os.path.join(outdir, 'WangMao_SW.nc'))"
   ]
  },
  {
   "cell_type": "markdown",
   "id": "707a17db-fc9c-4d1e-9557-651167d9daae",
   "metadata": {},
   "source": [
    "### Albedo"
   ]
  },
  {
   "cell_type": "code",
   "execution_count": 37,
   "id": "6399adf4-f370-47a3-b10d-70011de8196d",
   "metadata": {},
   "outputs": [
    {
     "data": {
      "image/png": "[encoded data removed]",
      "text/plain": [
       "<Figure size 640x480 with 2 Axes>"
      ]
     },
     "metadata": {},
     "output_type": "display_data"
    }
   ],
   "source": [
    "# CERESed4.2\n",
    "ceres_file = os.path.join(dir, 'albedo', 'CERESed4.2', 'albedo.nc')\n",
    "ceres_albedo = get_annual_obs(adjust_lon(ceres, 'lon'), 'albedo', 1/365, mask).mean(dim='year')\n",
    "ceres_albedo = ceres_albedo.to_dataset(name='albedo')\n",
    "\n",
    "ceres_albedo['albedo'].attrs['units'] = '0-1'\n",
    "ceres_albedo['albedo'].attrs['long_name'] = 'all sky albedo'\n",
    "\n",
    "ceres_albedo.attrs['Original'] = ceres_file\n",
    "ceres_albedo.attrs['Date'] = str(date.today())\n",
    "ceres_albedo.attrs['Author'] = 'afoster@ucar.edu'\n",
    "ceres_albedo.to_netcdf(os.path.join(outdir, 'CERES_albedo.nc'))"
   ]
  },
  {
   "cell_type": "code",
   "execution_count": null,
   "id": "6fe4a448-6854-4542-abd7-00c0fe59eeae",
   "metadata": {},
   "outputs": [],
   "source": [
    "# GEWEX.SRB\n",
    "gewex_file = os.path.join(dir, 'albedo', 'GEWEX.SRB', 'albedo_0.5x0.5.nc')\n",
    "gewex = xr.open_dataset(gewex_file)\n",
    "gewex = gewex.where(gewex.albedo <= 1.0)\n",
    "gewex = gewex.where(gewex.albedo >= 0.0)\n",
    "\n",
    "gewex_albedo = get_annual_obs(gewex, 'albedo', 1/365, mask).mean(dim='year')\n",
    "gewex_albedo = gewex_albedo.to_dataset(name='albedo')\n",
    "\n",
    "gewex_albedo['albedo'].attrs['units'] = '0-1'\n",
    "gewex_albedo['albedo'].attrs['long_name'] = 'all sky albedo'\n",
    "\n",
    "gewex_albedo.attrs['Original'] = gewex_file\n",
    "gewex_albedo.attrs['Date'] = str(date.today())\n",
    "gewex_albedo.attrs['Author'] = 'afoster@ucar.edu'\n",
    "gewex_albedo.to_netcdf(os.path.join(outdir, 'GEWEX_albedo.nc'))"
   ]
  },
  {
   "cell_type": "markdown",
   "id": "8e5589b8-5707-4030-b3fa-3b63121ed29f",
   "metadata": {},
   "source": [
    "### Surface Upward SW Radiation"
   ]
  },
  {
   "cell_type": "code",
   "execution_count": null,
   "id": "84a92b20-c2d0-47d3-aca1-39081471f4e2",
   "metadata": {},
   "outputs": [],
   "source": [
    "# CERESed4.1\n",
    "ceres_file = os.path.join(dir, 'rsus', 'CERESed4.1', 'rsus.nc')\n",
    "ceres = xr.open_dataset(ceres_file)\n",
    "\n",
    "ceres_fsr = get_annual_obs(ceres, 'rsus', 1/365, mask).mean(dim='year')\n",
    "ceres_fsr = ceres_fsr.to_dataset(name='fsr')\n",
    "\n",
    "ceres_fsr['fsr'].attrs['units'] = 'W m-2'\n",
    "ceres_fsr['fsr'].attrs['long_name'] = 'surface upward shortwave radiation flux'\n",
    "\n",
    "ceres_fsr.attrs['Original'] = ceres_file\n",
    "ceres_fsr.attrs['Date'] = str(date.today())\n",
    "ceres_fsr.attrs['Author'] = 'afoster@ucar.edu'\n",
    "ceres_fsr.to_netcdf(os.path.join(outdir, 'CERES_FSR.nc'))"
   ]
  },
  {
   "cell_type": "code",
   "execution_count": null,
   "id": "782a239a-c7c4-4a57-af76-fe2bcedfac08",
   "metadata": {},
   "outputs": [],
   "source": [
    "# GEWEX.SRB\n",
    "gewex_file = os.path.join(dir, 'rsus', 'GEWEX.SRB', 'rsus_0.5x0.5.nc')\n",
    "gewex = xr.open_dataset(gewex_file)\n",
    "\n",
    "gewex_fsr = get_annual_obs(gewex, 'rsus', 1/365, mask).mean(dim='year')\n",
    "gewex_fsr = gewex_fsr.to_dataset(name='fsr')\n",
    "\n",
    "gewex_fsr['fsr'].attrs['units'] = 'W m-2'\n",
    "gewex_fsr['fsr'].attrs['long_name'] = 'surface upward shortwave radiation flux'\n",
    "\n",
    "gewex_fsr.attrs['Original'] = gewex_file\n",
    "gewex_fsr.attrs['Date'] = str(date.today())\n",
    "gewex_fsr.attrs['Author'] = 'afoster@ucar.edu'\n",
    "gewex_fsr.to_netcdf(os.path.join(outdir, 'GEWEX_FSR.nc'))"
   ]
  },
  {
   "cell_type": "markdown",
   "id": "e2b61114-f41e-4c3e-bfb5-71dd35726068",
   "metadata": {},
   "source": [
    "### Surface Net SW Radiation"
   ]
  },
  {
   "cell_type": "code",
   "execution_count": null,
   "id": "edd0a860-e316-4875-8b2a-c1e6b6c2debd",
   "metadata": {},
   "outputs": [],
   "source": [
    "# CERESed4.1\n",
    "ceres_file = os.path.join(dir, 'rsns', 'CERESed4.1', 'rsns.nc')\n",
    "ceres = xr.open_dataset(ceres_file)\n",
    "\n",
    "ceres_fsa = get_annual_obs(ceres, 'rsns', 1/365, mask).mean(dim='year')\n",
    "ceres_fsa = ceres_fsa.to_dataset(name='fsa')\n",
    "\n",
    "ceres_fsa['fsa'].attrs['units'] = 'W m-2'\n",
    "ceres_fsa['fsa'].attrs['long_name'] = 'surface net shortwave radiation flux'\n",
    "\n",
    "ceres_fsa.attrs['Original'] = ceres_file\n",
    "ceres_fsa.attrs['Date'] = str(date.today())\n",
    "ceres_fsa.attrs['Author'] = 'afoster@ucar.edu'\n",
    "ceres_fsa.to_netcdf(os.path.join(outdir, 'CERES_FSA.nc'))"
   ]
  },
  {
   "cell_type": "code",
   "execution_count": null,
   "id": "1f0f8145-ed2d-4a89-a576-c89581633761",
   "metadata": {},
   "outputs": [],
   "source": [
    "# GEWEX.SRB\n",
    "gewex_file = os.path.join(dir, 'rsns', 'GEWEX.SRB', 'rsns_0.5x0.5.nc')\n",
    "gewex = xr.open_dataset(gewex_file)\n",
    "\n",
    "gewex_fsa = get_annual_obs(gewex, 'rsns', 1/365, mask).mean(dim='year')\n",
    "gewex_fsa = gewex_fsa.to_dataset(name='fsa')\n",
    "\n",
    "gewex_fsa['fsa'].attrs['units'] = 'W m-2'\n",
    "gewex_fsa['fsa'].attrs['long_name'] = 'surface net shortwave radiation flux'\n",
    "\n",
    "gewex_fsa.attrs['Original'] = gewex_file\n",
    "gewex_fsa.attrs['Date'] = str(date.today())\n",
    "gewex_fsa.attrs['Author'] = 'afoster@ucar.edu'\n",
    "gewex_fsa.to_netcdf(os.path.join(outdir, 'GEWEX_FSA.nc'))"
   ]
  },
  {
   "cell_type": "markdown",
   "id": "00b7c438-80e8-4598-ada8-124b1616fe89",
   "metadata": {},
   "source": [
    "### Surface Upward LW Radiation"
   ]
  },
  {
   "cell_type": "code",
   "execution_count": null,
   "id": "421f4166-8ea4-465c-8ea4-c7def74a9688",
   "metadata": {},
   "outputs": [],
   "source": [
    "# CERESed4.1\n",
    "ceres_file = os.path.join(dir, 'rlus', 'CERESed4.1', 'rlus.nc')\n",
    "ceres = xr.open_dataset(ceres_file)\n",
    "\n",
    "ceres_fire = get_annual_obs(ceres, 'rlus', 1/365, mask).mean(dim='year')\n",
    "ceres_fire = ceres_fire.to_dataset(name='fire')\n",
    "\n",
    "ceres_fire['fire'].attrs['units'] = 'W m-2'\n",
    "ceres_fire['fire'].attrs['long_name'] = 'surface upward longwave radiation flux'\n",
    "\n",
    "ceres_fire.attrs['Original'] = ceres_file\n",
    "ceres_fire.attrs['Date'] = str(date.today())\n",
    "ceres_fire.attrs['Author'] = 'afoster@ucar.edu'\n",
    "ceres_fire.to_netcdf(os.path.join(outdir, 'CERES_FIRE.nc'))"
   ]
  },
  {
   "cell_type": "code",
   "execution_count": null,
   "id": "f5829ecb-5cdd-43c0-9fb1-95f4ee0b4db3",
   "metadata": {},
   "outputs": [],
   "source": [
    "# GEWEX.SRB\n",
    "gewex_file = os.path.join(dir, 'rlus', 'GEWEX.SRB', 'rlus_0.5x0.5.nc')\n",
    "gewex = xr.open_dataset(gewex_file)\n",
    "\n",
    "gewex_fire = get_annual_obs(gewex, 'rlus', 1/365, mask).mean(dim='year')\n",
    "gewex_fire = gewex_fire.to_dataset(name='fire')\n",
    "\n",
    "gewex_fire['fire'].attrs['units'] = 'W m-2'\n",
    "gewex_fire['fire'].attrs['long_name'] = 'surface upward longwave radiation flux'\n",
    "\n",
    "gewex_fire.attrs['Original'] = gewex_file\n",
    "gewex_fire.attrs['Date'] = str(date.today())\n",
    "gewex_fire.attrs['Author'] = 'afoster@ucar.edu'\n",
    "gewex_fire.to_netcdf(os.path.join(outdir, 'GEWEX_FIRE.nc'))"
   ]
  },
  {
   "cell_type": "markdown",
   "id": "808ad677-f23d-4c6d-b274-24b794e3fbcc",
   "metadata": {},
   "source": [
    "### Surface Net Longwave Radiation"
   ]
  },
  {
   "cell_type": "code",
   "execution_count": null,
   "id": "b84839ec-2da2-4e61-9b77-b171d3630377",
   "metadata": {},
   "outputs": [],
   "source": [
    "# CERESed4.1\n",
    "ceres_file = os.path.join(dir, 'rlns', 'CERESed4.1', 'rlns.nc')\n",
    "ceres = xr.open_dataset(ceres_file)\n",
    "\n",
    "ceres_rlns = get_annual_obs(ceres, 'rlns', 1/365, mask).mean(dim='year')\n",
    "ceres_rlns = ceres_rlns.to_dataset(name='rlns')\n",
    "\n",
    "ceres_rlns['rlns'].attrs['units'] = 'W m-2'\n",
    "ceres_rlns['rlns'].attrs['long_name'] = 'surface net longwave radiation flux'\n",
    "\n",
    "ceres_rlns.attrs['Original'] = ceres_file\n",
    "ceres_rlns.attrs['Date'] = str(date.today())\n",
    "ceres_rlns.attrs['Author'] = 'afoster@ucar.edu'\n",
    "ceres_rlns.to_netcdf(os.path.join(outdir, 'CERES_RLNS.nc'))"
   ]
  },
  {
   "cell_type": "code",
   "execution_count": null,
   "id": "8ce56c02-d601-4a3d-863b-83532fab1b6f",
   "metadata": {},
   "outputs": [],
   "source": [
    "# GEWEX.SRB\n",
    "gewex_file = os.path.join(dir, 'rlns', 'GEWEX.SRB', 'rlns_0.5x0.5.nc')\n",
    "gewex = xr.open_dataset(gewex_file)\n",
    "\n",
    "gewex_rlns = get_annual_obs(gewex, 'rlns', 1/365, mask).mean(dim='year')\n",
    "gewex_rlns = gewex_rlns.to_dataset(name='rlns')\n",
    "\n",
    "gewex_rlns['rlns'].attrs['units'] = 'W m-2'\n",
    "gewex_rlns['rlns'].attrs['long_name'] = 'surface upward longwave radiation flux'\n",
    "\n",
    "gewex_rlns.attrs['Original'] = gewex_file\n",
    "gewex_rlns.attrs['Date'] = str(date.today())\n",
    "gewex_rlns.attrs['Author'] = 'afoster@ucar.edu'\n",
    "gewex_rlns.to_netcdf(os.path.join(outdir, 'GEWEX_RLNS.nc'))"
   ]
  },
  {
   "cell_type": "markdown",
   "id": "9d7ffe7b-753e-47d2-a035-40b42ca216ea",
   "metadata": {},
   "source": [
    "### Surface Net Radiation"
   ]
  },
  {
   "cell_type": "code",
   "execution_count": null,
   "id": "dbab61b3-c5ca-4906-9089-5a416fdb1398",
   "metadata": {},
   "outputs": [],
   "source": [
    "# CERESed4.2\n",
    "ceres_file = os.path.join(dir, 'rns', 'CERESed4.2', 'rns.nc')\n",
    "ceres = xr.open_dataset(ceres_file)\n",
    "\n",
    "ceres_rn = get_annual_obs(ceres, 'rns', 1/365, mask).mean(dim='year')\n",
    "ceres_rn = ceres_rn.to_dataset(name='rn')\n",
    "\n",
    "ceres_rn['rn'].attrs['units'] = 'W m-2'\n",
    "ceres_rn['rn'].attrs['long_name'] = 'surface net radiation'\n",
    "\n",
    "ceres_rn.attrs['Original'] = ceres_file\n",
    "ceres_rn.attrs['Date'] = str(date.today())\n",
    "ceres_rn.attrs['Author'] = 'afoster@ucar.edu'\n",
    "ceres_rn.to_netcdf(os.path.join(outdir, 'CERES_RN.nc'))"
   ]
  },
  {
   "cell_type": "code",
   "execution_count": null,
   "id": "bd90fcc8-0a3b-4baf-8609-9316beb9d130",
   "metadata": {},
   "outputs": [],
   "source": [
    "# GEWEX.SRB\n",
    "gewex_file = os.path.join(dir, 'rns', 'GEWEX.SRB', 'rns_0.5x0.5.nc')\n",
    "gewex = xr.open_dataset(gewex_file)\n",
    "\n",
    "gewex_rn = get_annual_obs(gewex, 'rns', 1/365, mask).mean(dim='year')\n",
    "gewex_rn = gewex_rn.to_dataset(name='rn')\n",
    "\n",
    "gewex_rn['rn'].attrs['units'] = 'W m-2'\n",
    "gewex_rn['rn'].attrs['long_name'] = 'surface net radiation'\n",
    "\n",
    "gewex_rn.attrs['Original'] = gewex_file\n",
    "gewex_rn.attrs['Date'] = str(date.today())\n",
    "gewex_rn.attrs['Author'] = 'afoster@ucar.edu'\n",
    "gewex_rn.to_netcdf(os.path.join(outdir, 'GEWEX_RN.nc'))"
   ]
  },
  {
   "cell_type": "code",
   "execution_count": null,
   "id": "6d66bed6-7dda-4429-9676-2eb121c91df1",
   "metadata": {},
   "outputs": [],
   "source": [
    "# CLASS\n",
    "class_file = os.path.join(dir, 'rns', 'CLASS', 'rns.nc')\n",
    "class_dat = xr.open_dataset(class_file)\n",
    "\n",
    "class_rn = get_annual_obs(class_dat, 'rns', 1/365, mask).mean(dim='year')\n",
    "class_rn = class_rn.to_dataset(name='rn')\n",
    "\n",
    "class_rn['rn'].attrs['units'] = 'W m-2'\n",
    "class_rn['rn'].attrs['long_name'] = 'surface net radiation'\n",
    "\n",
    "class_rn.attrs['Original'] = class_file\n",
    "class_rn.attrs['Date'] = str(date.today())\n",
    "class_rn.attrs['Author'] = 'afoster@ucar.edu'\n",
    "class_rn.to_netcdf(os.path.join(outdir, 'CLASS_RN.nc'))"
   ]
  },
  {
   "cell_type": "markdown",
   "id": "465846d9-21b6-4575-9210-08da9198f28e",
   "metadata": {},
   "source": [
    "### Ground Heat Flux"
   ]
  },
  {
   "cell_type": "code",
   "execution_count": null,
   "id": "7b1101b7-15d7-4b8c-88f2-24fb1f1b24cb",
   "metadata": {},
   "outputs": [],
   "source": [
    "# CLASS\n",
    "class_file = os.path.join(dir, 'hfdsl', 'CLASS', 'hfdsl.nc')\n",
    "class_dat = xr.open_dataset(class_file)\n",
    "\n",
    "class_gr = get_annual_obs(class_dat, 'hfdsl', 1/365, mask).mean(dim='year')\n",
    "class_gr = class_gr.to_dataset(name='gr')\n",
    "\n",
    "class_gr['gr'].attrs['units'] = 'W m-2'\n",
    "class_gr['gr'].attrs['long_name'] = 'surface net radiation'\n",
    "\n",
    "class_gr.attrs['Original'] = class_file\n",
    "class_gr.attrs['Date'] = str(date.today())\n",
    "class_gr.attrs['Author'] = 'afoster@ucar.edu'\n",
    "class_gr.to_netcdf(os.path.join(outdir, 'CLASS_GR.nc'))"
   ]
  },
  {
   "cell_type": "code",
   "execution_count": null,
   "id": "9426f65b-bdc1-43ce-9796-e7182ae29cbc",
   "metadata": {},
   "outputs": [],
   "source": []
  }
 ],
 "metadata": {
  "kernelspec": {
   "display_name": "Python [conda env:ml_analysis]",
   "language": "python",
   "name": "conda-env-ml_analysis-py"
  },
  "language_info": {
   "codemirror_mode": {
    "name": "ipython",
    "version": 3
   },
   "file_extension": ".py",
   "mimetype": "text/x-python",
   "name": "python",
   "nbconvert_exporter": "python",
   "pygments_lexer": "ipython3",
   "version": "3.11.7"
  }
 },
 "nbformat": 4,
 "nbformat_minor": 5
}
