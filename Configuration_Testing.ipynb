{
 "cells": [
  {
   "cell_type": "code",
   "execution_count": 1,
   "id": "dd996c79-50a0-4ff7-b0c2-e5589c3ebbbe",
   "metadata": {},
   "outputs": [],
   "source": [
    "import os\n",
    "import numpy as np\n",
    "import xarray as xr\n",
    "import cftime\n",
    "import pandas as pd\n",
    "import glob\n",
    "from datetime import date\n",
    "import functools\n",
    "import dask\n",
    "from dask_jobqueue import PBSCluster\n",
    "from dask.distributed import Client\n",
    "\n",
    "import matplotlib\n",
    "import matplotlib.pyplot as plt\n",
    "import cartopy.crs as ccrs\n",
    "import cartopy.feature as cfeature\n",
    "from cartopy.util import add_cyclic_point"
   ]
  },
  {
   "cell_type": "code",
   "execution_count": 2,
   "id": "19dbe560-1f5c-4aa2-9138-0d135b2df56d",
   "metadata": {},
   "outputs": [
    {
     "name": "stderr",
     "output_type": "stream",
     "text": [
      "/glade/work/afoster/conda-envs/ml_analysis/lib/python3.11/site-packages/dask_jobqueue/pbs.py:82: FutureWarning: project has been renamed to account as this kwarg was used wit -A option. You are still using it (please also check config files). If you did not set account yet, project will be respected for now, but it will be removed in a future release. If you already set account, project is ignored and you can remove it.\n",
      "  warnings.warn(warn, FutureWarning)\n",
      "/glade/work/afoster/conda-envs/ml_analysis/lib/python3.11/site-packages/distributed/node.py:182: UserWarning: Port 8787 is already in use.\n",
      "Perhaps you already have a cluster running?\n",
      "Hosting the HTTP server on port 35145 instead\n",
      "  warnings.warn(\n"
     ]
    }
   ],
   "source": [
    "# Setup PBSCluster\n",
    "cluster = PBSCluster(\n",
    "    cores=1,                                      # The number of cores you want\n",
    "    memory='10GB',                                # Amount of memory\n",
    "    processes=1,                                  # How many processes\n",
    "    queue='casper',                               # The type of queue to utilize (/glade/u/apps/dav/opt/usr/bin/execcasper)\n",
    "    local_directory='/glade/work/afoster',        # Use your local directory\n",
    "    resource_spec='select=1:ncpus=1:mem=10GB',    # Specify resources\n",
    "    project='P93300041',                          # Input your project ID here\n",
    "    walltime='02:00:00',                          # Amount of wall time\n",
    "    interface='ext',                              # Interface to use\n",
    ")"
   ]
  },
  {
   "cell_type": "code",
   "execution_count": 3,
   "id": "212f1fc9-1025-48f5-8f0c-b36b09f2cce2",
   "metadata": {},
   "outputs": [
    {
     "name": "stderr",
     "output_type": "stream",
     "text": [
      "/glade/work/afoster/conda-envs/ml_analysis/lib/python3.11/site-packages/dask_jobqueue/pbs.py:82: FutureWarning: project has been renamed to account as this kwarg was used wit -A option. You are still using it (please also check config files). If you did not set account yet, project will be respected for now, but it will be removed in a future release. If you already set account, project is ignored and you can remove it.\n",
      "  warnings.warn(warn, FutureWarning)\n"
     ]
    }
   ],
   "source": [
    "cluster.scale(10)"
   ]
  },
  {
   "cell_type": "code",
   "execution_count": 4,
   "id": "a7a31f90-14b3-4983-b6c8-52462ba86996",
   "metadata": {},
   "outputs": [],
   "source": [
    "client = Client(cluster)"
   ]
  },
  {
   "cell_type": "code",
   "execution_count": 5,
   "id": "4c414e19-3420-497e-8bad-05f5f4d4b5ac",
   "metadata": {},
   "outputs": [],
   "source": [
    "def preprocess(ds, varset):\n",
    "    return ds[data_vars]"
   ]
  },
  {
   "cell_type": "code",
   "execution_count": 6,
   "id": "73a79a21-37ba-4cae-9e7c-11d1ba02d6d6",
   "metadata": {},
   "outputs": [],
   "source": [
    "def postprocess(top_dir, histdir, data_vars, postp_dir):\n",
    "\n",
    "    files = sorted(glob.glob(os.path.join(top_dir, histdir, 'lnd', 'hist/') + \n",
    "                             \"*clm2.h0*.nc\"))\n",
    "\n",
    "    ds = xr.open_mfdataset(files, combine='nested', concat_dim='time',\n",
    "                           preprocess=functools.partial(preprocess, varset=data_vars),\n",
    "                           parallel=True, autoclose=True)\n",
    "    \n",
    "    ds['time'] = xr.cftime_range(str(2005), periods=12*60, freq='MS')\n",
    "    ds = ds.sel(time=slice(\"2055-01-01\", \"2064-12-31\"))\n",
    "    ds['time'] = xr.cftime_range(str(2005), periods=12*10, freq='MS')\n",
    "    \n",
    "    # calculate some variables\n",
    "    ds['ASA'] = ds.FSR/ds.FSDS.where(ds.FSDS>0)\n",
    "    ds['ASA'].attrs['units'] = 'unitless'\n",
    "    ds['ASA'].attrs['long_name'] = 'All sky albedo'\n",
    "\n",
    "    ds['GPP'] = ds['FATES_GPP']*ds['FATES_FRACTION'] # kg m-2 s-1\n",
    "    ds['GPP'].attrs['units'] = ds['FATES_GPP'].attrs['units']\n",
    "    ds['GPP'].attrs['long_name'] = ds['FATES_GPP'].attrs['long_name']\n",
    "    \n",
    "    ds['Temp'] = ds.TSA-273.15\n",
    "    ds['Temp'].attrs['units'] = 'degrees C'\n",
    "    ds['Temp'].attrs['long_name'] = ds['TSA'].attrs['long_name']\n",
    "    \n",
    "    ds0 = xr.open_dataset(files[0])\n",
    "    extras = ['grid1d_lat','grid1d_lon']\n",
    "    for extra in extras:\n",
    "        ds[extra]=ds0[extra]\n",
    "    \n",
    "    key = int(os.path.basename(files[0]).split('_')[-1].split('.')[0])\n",
    "\n",
    "    ds['ensemble'] = key\n",
    "    ds.attrs['Date'] = str(date.today())\n",
    "    ds.attrs['Author'] = 'afoster@ucar.edu'\n",
    "    ds.attrs['Original'] = files[0]\n",
    "    \n",
    "    out_file = os.path.join(postp_dir, files[0].split('/')[-1].split('.')[0]+'.nc')\n",
    "    ds.to_netcdf(out_file)"
   ]
  },
  {
   "cell_type": "code",
   "execution_count": 7,
   "id": "efaa2092-3bd7-416f-9612-b5d6f57cc96b",
   "metadata": {},
   "outputs": [],
   "source": [
    "def annual_mean(da):\n",
    "\n",
    "    cf1, cf2 = cfs[da.name].values()\n",
    "\n",
    "    days_per_month = da['time.daysinmonth']\n",
    "    ann_mean = cf1*(days_per_month*da).groupby('time.year').sum()\n",
    "    ann_mean.name = da.name\n",
    "    return ann_mean"
   ]
  },
  {
   "cell_type": "code",
   "execution_count": 8,
   "id": "7d760794-978f-470f-8135-a524d15ed098",
   "metadata": {},
   "outputs": [],
   "source": [
    "def get_map(ds, da):\n",
    "    \n",
    "    thedir = '/glade/u/home/forrest/ppe_representativeness/output_v4/'\n",
    "    thefile = 'clusters.clm51_PPEn02ctsm51d021_2deg_GSWP3V1_leafbiomassesai_PPE3_hist.annual+sd.400.nc'\n",
    "    sg = xr.open_dataset(thedir + thefile)\n",
    "\n",
    "    #ds = ds.isel(ensemble=0)\n",
    "    out = np.zeros(sg.cclass.shape) + np.nan\n",
    "    for c, (o, a) in enumerate(sg.rcent_coords):\n",
    "        i = np.arange(400)[\n",
    "            (abs(ds.grid1d_lat - a) < 0.1) &\n",
    "            (abs(ds.grid1d_lon - o) < 0.1)]\n",
    "        out[sg.cclass == c + 1] = i\n",
    "    cclass = out.copy()\n",
    "    cclass[np.isnan(out)] = 0\n",
    "\n",
    "    sgmap = xr.Dataset()\n",
    "    sgmap['cclass'] = xr.DataArray(cclass.astype(int), dims=['lat', 'lon'])\n",
    "    sgmap['notnan'] = xr.DataArray(~np.isnan(out), dims=['lat', 'lon'])\n",
    "    sgmap['lat'] = sg.lat\n",
    "    sgmap['lon'] = sg.lon\n",
    "    \n",
    "    damap = da.sel(gridcell=sgmap.cclass).where(sgmap.notnan).compute()\n",
    "    \n",
    "    return damap"
   ]
  },
  {
   "cell_type": "code",
   "execution_count": 9,
   "id": "9043a5bb-1e0c-4855-98c6-6d2a0b0e8885",
   "metadata": {},
   "outputs": [],
   "source": [
    "def get_ensemble(files, whittaker_ds):\n",
    "\n",
    "    # read in dataset and attach other info\n",
    "    ds = xr.open_mfdataset(files, combine='nested', concat_dim='ensemble',\n",
    "                           parallel=True, chunks = {'time': 60, 'ensemble': 100,\n",
    "                                                    'gridcell': 200})\n",
    "\n",
    "    ds['biome'] = whittaker_ds.biome\n",
    "    ds['biome_name'] = whittaker_ds.biome_name\n",
    "\n",
    "    return ds"
   ]
  },
  {
   "cell_type": "code",
   "execution_count": 10,
   "id": "ac0eb044-531a-4ce0-ae97-4eeffed101df",
   "metadata": {},
   "outputs": [],
   "source": [
    "def get_difference(ds_default, ds_update, update_name):\n",
    "    \n",
    "    ds = xr.concat([ds_default, ds_update], 'ensemble_type', data_vars='all')\n",
    "    \n",
    "    ds = ds.assign_coords(ensemble_type=(\"ensemble_type\", ['default', update_name]))\n",
    "    \n",
    "    varDiff = ds.sel(ensemble_type=update_name) - ds.sel(ensemble_type='default')\n",
    "    return varDiff"
   ]
  },
  {
   "cell_type": "code",
   "execution_count": 11,
   "id": "222879e5-9f9e-45d5-a5b9-fb2645e28198",
   "metadata": {},
   "outputs": [],
   "source": [
    "def plot_map(da, title, cmap, units, vmin, vmax):\n",
    "\n",
    "    fig, ax = plt.subplots(figsize=(13, 6),\n",
    "                           subplot_kw=dict(projection=ccrs.Robinson()))\n",
    "    \n",
    "    ax.set_title(title, loc='left', fontsize='large', fontweight='bold')\n",
    "    \n",
    "    ax.coastlines()\n",
    "    ocean = ax.add_feature(cfeature.NaturalEarthFeature('physical', 'ocean', '110m',\n",
    "                                                        facecolor='white'))\n",
    "    \n",
    "    pcm = ax.pcolormesh(da.lon, da.lat, da,\n",
    "                        transform=ccrs.PlateCarree(), shading='auto',\n",
    "                        cmap=cmap, vmin = vmin, vmax = vmax)\n",
    "    ax.set_extent([-180,180,-56,85], crs=ccrs.PlateCarree())\n",
    "    cbar = fig.colorbar(pcm, ax=ax, pad=0.02, fraction = 0.03, orientation='horizontal')\n",
    "    cbar.set_label(units, size=12, fontweight='bold')"
   ]
  },
  {
   "cell_type": "code",
   "execution_count": 12,
   "id": "df3fdffa-12ce-49a9-a3b9-e3f9b7977079",
   "metadata": {},
   "outputs": [],
   "source": [
    "# conversion factors\n",
    "cfs = {'GPP': {'cf1': 24*60*60, 'cf2': 1e-6},\n",
    "       'EFLX_LH_TOT': {'cf1': 1/2.5e6*24*60*60, 'cf2': 1e-9},\n",
    "       'ASA': {'cf1': 1/365, 'cf2': 'intrinsic'},\n",
    "       'SOILWATER_10CM': {'cf1': 1/365, 'cf2': 1e-9},\n",
    "       'FSH': {'cf1': 1/365, 'cf2': 'intrinsic'},\n",
    "       'Temp': {'cf1': 1/365, 'cf2': 'intrinsic'}}\n",
    "units = {'GPP': 'PgC/yr',\n",
    "         'EFLX_LH_TOT': 'TtH2O/yr',\n",
    "         'ASA': '0-1',\n",
    "         'SOILWATER_10CM': 'TtH2O',\n",
    "         'FSH': 'W/m2',\n",
    "         'Temp': 'degrees C'}"
   ]
  },
  {
   "cell_type": "code",
   "execution_count": 13,
   "id": "563afa18-6449-4a71-9bd8-0de87fdf80db",
   "metadata": {},
   "outputs": [],
   "source": [
    "data_vars = ['FATES_GPP', 'EFLX_LH_TOT', 'FSR', 'FSDS', 'QRUNOFF', 'FATES_FRACTION', 'SNOWDP', \n",
    "             'SOILWATER_10CM', 'TV', 'FATES_LAI', 'TWS', 'FSH', 'QVEGE', 'TG', 'TSA', 'RAIN', 'SNOW', \n",
    "            'TBOT']"
   ]
  },
  {
   "cell_type": "code",
   "execution_count": 14,
   "id": "edac6cbe-dad1-4bd5-a902-9ea6df6a1ad1",
   "metadata": {},
   "outputs": [],
   "source": [
    "top_dir = '/glade/derecho/scratch/afoster/FATES_SP_configs/archive'\n",
    "postp_dir = '/glade/work/afoster/FATES_calibration/configuration_testing/hist/'\n",
    "dirs = sorted(os.listdir(top_dir))"
   ]
  },
  {
   "cell_type": "code",
   "execution_count": 15,
   "id": "8d9c6a3c-21b5-48a8-a1d7-ed9e6805bf83",
   "metadata": {},
   "outputs": [],
   "source": [
    "factorial_key = pd.read_csv('factorial_test_names.csv').set_index('ensemble')\n",
    "factorial_key['ensemble_name'] = factorial_key[['fates_rad_model', 'fates_maintresp_leaf_model', 'fates_leaf_stomatal_model', 'fates_leaf_photo_tempsens_model']].agg('_'.join, axis=1)\n",
    "fact = xr.Dataset(factorial_key)"
   ]
  },
  {
   "cell_type": "code",
   "execution_count": 16,
   "id": "1b6e163f-8d0e-46a0-ac48-1b4362657b4f",
   "metadata": {},
   "outputs": [],
   "source": [
    "# whittaker biomes\n",
    "whit = xr.open_dataset('/glade/work/afoster/FATES_calibration/CLM5PPE/pyth/whit/whitkey.nc')"
   ]
  },
  {
   "cell_type": "code",
   "execution_count": null,
   "id": "aa1399d2-f986-42f3-b9a9-426960214be1",
   "metadata": {},
   "outputs": [],
   "source": [
    "if False:\n",
    "    for dir in dirs:\n",
    "        postprocess(top_dir, dir, data_vars, postp_dir)"
   ]
  },
  {
   "cell_type": "code",
   "execution_count": 18,
   "id": "10eda0c6-058c-4406-9688-1d0e5d805207",
   "metadata": {},
   "outputs": [],
   "source": [
    "out_dir = '/glade/work/afoster/FATES_calibration/configuration_testing/ilamb_hist'\n",
    "files = [os.path.join(postp_dir, file) for file in os.listdir(postp_dir)]\n",
    "if True:\n",
    "    for file in files:\n",
    "        dat = xr.open_dataset(file)\n",
    "        dfs = []\n",
    "        for var in data_vars:\n",
    "            map = get_map(dat, dat[var])\n",
    "            dfs.append(map)\n",
    "        all_vars = xr.merge(dfs)\n",
    "        grid = os.path.basename(file).replace('.nc', '').split('_')[-2:]\n",
    "        subdir = '_'.join(grid)\n",
    "        all_vars.to_netcdf(os.path.join(out_dir, subdir, os.path.basename(file)))"
   ]
  },
  {
   "cell_type": "code",
   "execution_count": null,
   "id": "c2015c20-5f38-46dd-b636-1c0d5fb86057",
   "metadata": {},
   "outputs": [],
   "source": [
    "ds = get_ensemble(files, whit)\n",
    "ds = xr.merge([ds, fact])"
   ]
  },
  {
   "cell_type": "code",
   "execution_count": null,
   "id": "e359d8cf-23c6-41f2-a0a3-984acb53712e",
   "metadata": {},
   "outputs": [],
   "source": [
    "gpp_annual = annual_mean(ds.GPP).mean(dim='year')\n",
    "gpp_annual_map = get_map(ds, gpp_annual)\n",
    "gpp_map = gpp_annual_map.to_dataset(name='GPP')"
   ]
  },
  {
   "cell_type": "code",
   "execution_count": null,
   "id": "21749e90-8aa6-45a0-87af-be902fdaa330",
   "metadata": {},
   "outputs": [],
   "source": [
    "asa_annual = annual_mean(ds.ASA).mean(dim='year')\n",
    "asa_annual_map = get_map(ds, asa_annual)\n",
    "asa_map = asa_annual_map.to_dataset(name='ASA')"
   ]
  },
  {
   "cell_type": "code",
   "execution_count": null,
   "id": "74d1f6a9-5996-4266-a9e6-50d543d7ccb3",
   "metadata": {},
   "outputs": [],
   "source": [
    "i = 16\n",
    "default_name = factorial_key[factorial_key.index == 1]['ensemble_name'].values[0]\n",
    "name = factorial_key[factorial_key.index == i]['ensemble_name'].values[0]\n",
    "diff = get_difference(gpp_map.sel(ensemble=1), gpp_map.sel(ensemble=i), name)"
   ]
  },
  {
   "cell_type": "code",
   "execution_count": null,
   "id": "3361820f-ec44-4d21-a511-df9f478948ab",
   "metadata": {},
   "outputs": [],
   "source": [
    "vlim = abs(diff.GPP).max() + 0.1\n",
    "plot_map(diff.GPP, 'GPP', f'{name} - {default_name}' , 'bwr_r', 'GPP Difference (Pg C/m2/yr)', vmin = -1.0*vlim, vmax = vlim)"
   ]
  },
  {
   "cell_type": "code",
   "execution_count": null,
   "id": "269033f4-783a-429c-b4b2-e9ec16f43250",
   "metadata": {},
   "outputs": [],
   "source": [
    "i = 16\n",
    "default_name = factorial_key[factorial_key.index == 1]['ensemble_name'].values[0]\n",
    "name = factorial_key[factorial_key.index == i]['ensemble_name'].values[0]\n",
    "diff = get_difference(asa_map.sel(ensemble=1), asa_map.sel(ensemble=i), name)\n",
    "vlim = abs(diff.ASA).max() + 0.1\n",
    "plot_map(diff.ASA, 'ASA', f'{name} - {default_name}' , 'bwr_r', 'Albedo Difference (0-1)', vmin = -1.0*vlim, vmax = vlim)"
   ]
  }
 ],
 "metadata": {
  "kernelspec": {
   "display_name": "Python [conda env:ml_analysis]",
   "language": "python",
   "name": "conda-env-ml_analysis-py"
  },
  "language_info": {
   "codemirror_mode": {
    "name": "ipython",
    "version": 3
   },
   "file_extension": ".py",
   "mimetype": "text/x-python",
   "name": "python",
   "nbconvert_exporter": "python",
   "pygments_lexer": "ipython3",
   "version": "3.11.7"
  }
 },
 "nbformat": 4,
 "nbformat_minor": 5
}
