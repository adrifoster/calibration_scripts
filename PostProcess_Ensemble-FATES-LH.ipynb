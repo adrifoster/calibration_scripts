{
 "cells": [
  {
   "cell_type": "code",
   "execution_count": 1,
   "id": "dd996c79-50a0-4ff7-b0c2-e5589c3ebbbe",
   "metadata": {},
   "outputs": [],
   "source": [
    "import os\n",
    "import xarray as xr\n",
    "import glob\n",
    "from datetime import date\n",
    "import functools\n",
    "from dask_jobqueue import PBSCluster\n",
    "from dask.distributed import Client\n",
    "import pandas as pd"
   ]
  },
  {
   "cell_type": "code",
   "execution_count": 2,
   "id": "19dbe560-1f5c-4aa2-9138-0d135b2df56d",
   "metadata": {},
   "outputs": [
    {
     "name": "stderr",
     "output_type": "stream",
     "text": [
      "/glade/work/afoster/conda-envs/ml_analysis/lib/python3.11/site-packages/dask_jobqueue/pbs.py:82: FutureWarning: project has been renamed to account as this kwarg was used wit -A option. You are still using it (please also check config files). If you did not set account yet, project will be respected for now, but it will be removed in a future release. If you already set account, project is ignored and you can remove it.\n",
      "  warnings.warn(warn, FutureWarning)\n",
      "/glade/work/afoster/conda-envs/ml_analysis/lib/python3.11/site-packages/distributed/node.py:182: UserWarning: Port 8787 is already in use.\n",
      "Perhaps you already have a cluster running?\n",
      "Hosting the HTTP server on port 42357 instead\n",
      "  warnings.warn(\n"
     ]
    }
   ],
   "source": [
    "# Setup PBSCluster\n",
    "cluster = PBSCluster(\n",
    "    cores=1,                                      # The number of cores you want\n",
    "    memory='10GB',                                # Amount of memory\n",
    "    processes=1,                                  # How many processes\n",
    "    queue='casper',                               # The type of queue to utilize (/glade/u/apps/dav/opt/usr/bin/execcasper)\n",
    "    local_directory='/glade/work/afoster',        # Use your local directory\n",
    "    resource_spec='select=1:ncpus=1:mem=10GB',    # Specify resources\n",
    "    project='P93300041',                          # Input your project ID here\n",
    "    walltime='02:00:00',                          # Amount of wall time\n",
    "    interface='ext',                              # Interface to use\n",
    ")"
   ]
  },
  {
   "cell_type": "code",
   "execution_count": 3,
   "id": "212f1fc9-1025-48f5-8f0c-b36b09f2cce2",
   "metadata": {},
   "outputs": [
    {
     "name": "stderr",
     "output_type": "stream",
     "text": [
      "/glade/work/afoster/conda-envs/ml_analysis/lib/python3.11/site-packages/dask_jobqueue/pbs.py:82: FutureWarning: project has been renamed to account as this kwarg was used wit -A option. You are still using it (please also check config files). If you did not set account yet, project will be respected for now, but it will be removed in a future release. If you already set account, project is ignored and you can remove it.\n",
      "  warnings.warn(warn, FutureWarning)\n"
     ]
    }
   ],
   "source": [
    "cluster.scale(2)"
   ]
  },
  {
   "cell_type": "code",
   "execution_count": 4,
   "id": "a7a31f90-14b3-4983-b6c8-52462ba86996",
   "metadata": {},
   "outputs": [],
   "source": [
    "client = Client(cluster)"
   ]
  },
  {
   "cell_type": "code",
   "execution_count": 5,
   "id": "4c414e19-3420-497e-8bad-05f5f4d4b5ac",
   "metadata": {},
   "outputs": [],
   "source": [
    "def preprocess(ds, varset):\n",
    "    return ds[data_vars]"
   ]
  },
  {
   "cell_type": "code",
   "execution_count": 6,
   "id": "73a79a21-37ba-4cae-9e7c-11d1ba02d6d6",
   "metadata": {},
   "outputs": [],
   "source": [
    "def postprocess(top_dir, histdir, data_vars):\n",
    "\n",
    "    files = sorted(glob.glob(os.path.join(top_dir, histdir, 'lnd', 'hist/') +\n",
    "                             \"*clm2.h0*.nc\"))\n",
    "    flen = len(files)\n",
    "\n",
    "    if flen < 12:\n",
    "\n",
    "        return None\n",
    "\n",
    "    else:\n",
    "\n",
    "        ds = xr.open_mfdataset(files, combine='nested', concat_dim='time',\n",
    "                               preprocess=functools.partial(preprocess,\n",
    "                                                            varset=data_vars),\n",
    "                               parallel=True, autoclose=True)\n",
    "\n",
    "        # fix time bug\n",
    "        ds['time'] = xr.cftime_range(str(2005), periods=12*60, freq='MS')\n",
    "        ds = ds.sel(time=slice(\"2055-01-01\", \"2064-12-31\"))\n",
    "        ds['time'] = xr.cftime_range(str(2005), periods=12*10, freq='MS')\n",
    "\n",
    "        # calculate some variables\n",
    "        ds['ASA'] = ds.FSR/ds.FSDS.where(ds.FSDS > 0)\n",
    "        ds['ASA'].attrs['units'] = 'unitless'\n",
    "        ds['ASA'].attrs['long_name'] = 'All sky albedo'\n",
    "\n",
    "        ds['GPP'] = ds['FATES_GPP']*ds['FATES_FRACTION']  # kg m-2 s-1\n",
    "        ds['GPP'].attrs['units'] = ds['FATES_GPP'].attrs['units']\n",
    "        ds['GPP'].attrs['long_name'] = ds['FATES_GPP'].attrs['long_name']\n",
    "\n",
    "        ds['Temp'] = ds.TSA - 273.15\n",
    "        ds['Temp'].attrs['units'] = 'degrees C'\n",
    "        ds['Temp'].attrs['long_name'] = ds['TSA'].attrs['long_name']\n",
    "\n",
    "        ds0 = xr.open_dataset(files[0])\n",
    "        extras = ['grid1d_lat', 'grid1d_lon']\n",
    "        for extra in extras:\n",
    "            ds[extra] = ds0[extra]\n",
    "\n",
    "        ds['ensemble'] = histdir.split('_')[-1]\n",
    "\n",
    "        ds.attrs['Date'] = str(date.today())\n",
    "        ds.attrs['Author'] = 'afoster@ucar.edu'\n",
    "        ds.attrs['Original'] = files[0]\n",
    "\n",
    "        return ds"
   ]
  },
  {
   "cell_type": "code",
   "execution_count": 8,
   "id": "563afa18-6449-4a71-9bd8-0de87fdf80db",
   "metadata": {},
   "outputs": [],
   "source": [
    "data_vars = ['FATES_FRACTION', 'FATES_GPP', 'FATES_LAI', 'QVEGE', 'QVEGT',\n",
    "             'QSOIL', 'EFLX_LH_TOT', 'FSH', 'QRUNOFF', 'SOILWATER_10CM',\n",
    "             'FSR', 'FSDS', 'FSA', 'FIRE', 'FLDS', 'FGR12', 'RAIN',\n",
    "             'SNOW', 'H2OSNO', 'SNOWDP', 'TSOI', 'TSA', 'TREFMXAV',\n",
    "             'TREFMNAV', 'RH2M']"
   ]
  },
  {
   "cell_type": "code",
   "execution_count": 9,
   "id": "edac6cbe-dad1-4bd5-a902-9ea6df6a1ad1",
   "metadata": {},
   "outputs": [],
   "source": [
    "top_dir = '/glade/derecho/scratch/afoster/FATES_SP_LH_500_updated/archive'\n",
    "postp_dir = '/glade/work/afoster/FATES_calibration/FATES_SP_LH/hist_500_updated/'\n",
    "dirs = sorted(os.listdir(top_dir))"
   ]
  },
  {
   "cell_type": "code",
   "execution_count": 10,
   "id": "aa1399d2-f986-42f3-b9a9-426960214be1",
   "metadata": {},
   "outputs": [],
   "source": [
    "bad_ensembles = []\n",
    "good_ensembles = []\n",
    "for histdir in dirs:\n",
    "    ensemble = histdir.split('_')[-1]\n",
    "    ds = postprocess(top_dir, histdir, data_vars)\n",
    "    if ds is not None:\n",
    "        out_file = os.path.join(postp_dir, f\"{histdir}.nc\")\n",
    "        ds.to_netcdf(out_file)\n",
    "        good_ensembles.append(ensemble)\n",
    "    else:\n",
    "        bad_ensembles.append(ensemble)"
   ]
  },
  {
   "cell_type": "code",
   "execution_count": null,
   "id": "0c57513d-593a-49bf-b10b-52d01e9cd5ab",
   "metadata": {},
   "outputs": [],
   "source": [
    "with open('ensembles_good.txt', 'w') as f:\n",
    "    for line in good_ensembles:\n",
    "        f.write(f\"{line}\\n\")"
   ]
  },
  {
   "cell_type": "code",
   "execution_count": 12,
   "id": "c1a7ac67-d9fe-45cf-b625-2a36e07cee46",
   "metadata": {},
   "outputs": [
    {
     "data": {
      "text/plain": [
       "['416']"
      ]
     },
     "execution_count": 12,
     "metadata": {},
     "output_type": "execute_result"
    }
   ],
   "source": [
    "bad_ensembles"
   ]
  },
  {
   "cell_type": "code",
   "execution_count": null,
   "id": "8954360e-8565-4d00-8cbd-4e75e6a0b6dc",
   "metadata": {},
   "outputs": [],
   "source": []
  }
 ],
 "metadata": {
  "kernelspec": {
   "display_name": "Python [conda env:ml_analysis]",
   "language": "python",
   "name": "conda-env-ml_analysis-py"
  },
  "language_info": {
   "codemirror_mode": {
    "name": "ipython",
    "version": 3
   },
   "file_extension": ".py",
   "mimetype": "text/x-python",
   "name": "python",
   "nbconvert_exporter": "python",
   "pygments_lexer": "ipython3",
   "version": "3.11.7"
  }
 },
 "nbformat": 4,
 "nbformat_minor": 5
}
