{
 "cells": [
  {
   "cell_type": "code",
   "execution_count": 17,
   "id": "31191dfa-2e83-403d-a14d-179655fc169d",
   "metadata": {},
   "outputs": [
    {
     "data": {
      "text/plain": [
       "<module 'compile_LH_ensemble' from '/glade/u/home/afoster/FATES_Calibration/FATES_SP/workflow/compile_LH_ensemble.py'>"
      ]
     },
     "execution_count": 17,
     "metadata": {},
     "output_type": "execute_result"
    }
   ],
   "source": [
    "import importlib\n",
    "import os\n",
    "\n",
    "from dask_jobqueue import PBSCluster\n",
    "from dask.distributed import Client\n",
    "\n",
    "import post_process_LH_ensemble\n",
    "import compile_LH_ensemble\n",
    "importlib.reload(compile_LH_ensemble)"
   ]
  },
  {
   "cell_type": "code",
   "execution_count": 24,
   "id": "fc96eb3e-21fd-407b-8595-59df5078f90a",
   "metadata": {},
   "outputs": [
    {
     "name": "stderr",
     "output_type": "stream",
     "text": [
      "/glade/work/afoster/conda-envs/ml_analysis/lib/python3.11/site-packages/distributed/node.py:182: UserWarning: Port 8787 is already in use.\n",
      "Perhaps you already have a cluster running?\n",
      "Hosting the HTTP server on port 37281 instead\n",
      "  warnings.warn(\n"
     ]
    }
   ],
   "source": [
    "# Setup PBSCluster\n",
    "cluster = PBSCluster(\n",
    "    cores=1,                                     # The number of cores you want\n",
    "    memory='25GB',                               # Amount of memory\n",
    "    processes=1,                                 # How many processes\n",
    "    queue='casper',                              # The type of queue to utilize\n",
    "    local_directory='/glade/work/afoster',       # Use your local directory\n",
    "    resource_spec='select=1:ncpus=1:mem=25GB',   # Specify resources\n",
    "    account='P08010000',                         # Input your project ID here\n",
    "    walltime='02:00:00',                         # Amount of wall time\n",
    "    interface='ext')                             # Interface to use"
   ]
  },
  {
   "cell_type": "code",
   "execution_count": 19,
   "id": "f3371244-3090-49bf-8681-3e617a684529",
   "metadata": {},
   "outputs": [],
   "source": [
    "cluster.scale(10)\n",
    "client = Client(cluster)"
   ]
  },
  {
   "cell_type": "code",
   "execution_count": 21,
   "id": "8946dea9-f342-4c69-b199-96209d887464",
   "metadata": {},
   "outputs": [],
   "source": [
    "dir_name = 'dompft_ensembles'"
   ]
  },
  {
   "cell_type": "code",
   "execution_count": 25,
   "id": "91f1e5da-52e0-44d7-a524-bd03a1f845ac",
   "metadata": {},
   "outputs": [],
   "source": [
    "top_dir = f'/glade/derecho/scratch/afoster/dompft_ensembles/archive'\n",
    "postp_dir = f'/glade/work/afoster/FATES_calibration/FATES_SP_LH/dompft_hist'\n",
    "out_dir = '/glade/work/afoster/FATES_calibration/FATES_SP_LH/'"
   ]
  },
  {
   "cell_type": "code",
   "execution_count": 26,
   "id": "f7929ccc-dc8a-43b9-8da1-80dcc35e4c3c",
   "metadata": {},
   "outputs": [],
   "source": [
    "# postprocess the individual jobs\n",
    "post_process_LH_ensemble.postprocess_files(top_dir, postp_dir)"
   ]
  },
  {
   "cell_type": "code",
   "execution_count": 27,
   "id": "e9c7b2e9-9b2b-4086-99ff-de18638288cc",
   "metadata": {},
   "outputs": [
    {
     "name": "stderr",
     "output_type": "stream",
     "text": [
      "/glade/work/afoster/conda-envs/ml_analysis/lib/python3.11/site-packages/distributed/client.py:3162: UserWarning: Sending large graph of size 55.27 MiB.\n",
      "This may cause some slowdown.\n",
      "Consider scattering data ahead of time and using futures.\n",
      "  warnings.warn(\n"
     ]
    }
   ],
   "source": [
    "# combine into one file, calculate some output variables\n",
    "out_file = os.path.join(out_dir, 'dompft_ensemble_out.nc')\n",
    "compile_LH_ensemble.compile_ensemble(postp_dir, out_file)"
   ]
  },
  {
   "cell_type": "code",
   "execution_count": null,
   "id": "115aab89-19d9-429a-8f5a-55c99449ba4e",
   "metadata": {},
   "outputs": [],
   "source": []
  }
 ],
 "metadata": {
  "kernelspec": {
   "display_name": "Python [conda env:ml_analysis]",
   "language": "python",
   "name": "conda-env-ml_analysis-py"
  },
  "language_info": {
   "codemirror_mode": {
    "name": "ipython",
    "version": 3
   },
   "file_extension": ".py",
   "mimetype": "text/x-python",
   "name": "python",
   "nbconvert_exporter": "python",
   "pygments_lexer": "ipython3",
   "version": "3.11.7"
  }
 },
 "nbformat": 4,
 "nbformat_minor": 5
}
