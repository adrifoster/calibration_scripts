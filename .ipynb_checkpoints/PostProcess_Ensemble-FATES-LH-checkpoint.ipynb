{
 "cells": [
  {
   "cell_type": "code",
   "execution_count": 1,
   "id": "dd996c79-50a0-4ff7-b0c2-e5589c3ebbbe",
   "metadata": {},
   "outputs": [
    {
     "ename": "KeyboardInterrupt",
     "evalue": "",
     "output_type": "error",
     "traceback": [
      "\u001b[0;31m---------------------------------------------------------------------------\u001b[0m",
      "\u001b[0;31mKeyboardInterrupt\u001b[0m                         Traceback (most recent call last)",
      "Cell \u001b[0;32mIn[1], line 6\u001b[0m\n\u001b[1;32m      4\u001b[0m \u001b[38;5;28;01mfrom\u001b[39;00m \u001b[38;5;21;01mdatetime\u001b[39;00m \u001b[38;5;28;01mimport\u001b[39;00m date\n\u001b[1;32m      5\u001b[0m \u001b[38;5;28;01mimport\u001b[39;00m \u001b[38;5;21;01mfunctools\u001b[39;00m\n\u001b[0;32m----> 6\u001b[0m \u001b[38;5;28;01mfrom\u001b[39;00m \u001b[38;5;21;01mdask_jobqueue\u001b[39;00m \u001b[38;5;28;01mimport\u001b[39;00m PBSCluster\n\u001b[1;32m      7\u001b[0m \u001b[38;5;28;01mfrom\u001b[39;00m \u001b[38;5;21;01mdask\u001b[39;00m\u001b[38;5;21;01m.\u001b[39;00m\u001b[38;5;21;01mdistributed\u001b[39;00m \u001b[38;5;28;01mimport\u001b[39;00m Client\n\u001b[1;32m      8\u001b[0m \u001b[38;5;28;01mimport\u001b[39;00m \u001b[38;5;21;01mpandas\u001b[39;00m \u001b[38;5;28;01mas\u001b[39;00m \u001b[38;5;21;01mpd\u001b[39;00m\n",
      "File \u001b[0;32m/glade/work/afoster/conda-envs/ml_analysis/lib/python3.11/site-packages/dask_jobqueue/__init__.py:3\u001b[0m\n\u001b[1;32m      1\u001b[0m \u001b[38;5;66;03m# flake8: noqa\u001b[39;00m\n\u001b[1;32m      2\u001b[0m \u001b[38;5;28;01mfrom\u001b[39;00m \u001b[38;5;21;01m.\u001b[39;00m \u001b[38;5;28;01mimport\u001b[39;00m config\n\u001b[0;32m----> 3\u001b[0m \u001b[38;5;28;01mfrom\u001b[39;00m \u001b[38;5;21;01m.\u001b[39;00m\u001b[38;5;21;01mcore\u001b[39;00m \u001b[38;5;28;01mimport\u001b[39;00m JobQueueCluster\n\u001b[1;32m      4\u001b[0m \u001b[38;5;28;01mfrom\u001b[39;00m \u001b[38;5;21;01m.\u001b[39;00m\u001b[38;5;21;01mmoab\u001b[39;00m \u001b[38;5;28;01mimport\u001b[39;00m MoabCluster\n\u001b[1;32m      5\u001b[0m \u001b[38;5;28;01mfrom\u001b[39;00m \u001b[38;5;21;01m.\u001b[39;00m\u001b[38;5;21;01mpbs\u001b[39;00m \u001b[38;5;28;01mimport\u001b[39;00m PBSCluster\n",
      "File \u001b[0;32m/glade/work/afoster/conda-envs/ml_analysis/lib/python3.11/site-packages/dask_jobqueue/core.py:19\u001b[0m\n\u001b[1;32m     15\u001b[0m \u001b[38;5;28;01mimport\u001b[39;00m \u001b[38;5;21;01mdask\u001b[39;00m\n\u001b[1;32m     17\u001b[0m \u001b[38;5;28;01mfrom\u001b[39;00m \u001b[38;5;21;01mdask\u001b[39;00m\u001b[38;5;21;01m.\u001b[39;00m\u001b[38;5;21;01mutils\u001b[39;00m \u001b[38;5;28;01mimport\u001b[39;00m format_bytes, parse_bytes, tmpfile\n\u001b[0;32m---> 19\u001b[0m \u001b[38;5;28;01mfrom\u001b[39;00m \u001b[38;5;21;01mdistributed\u001b[39;00m\u001b[38;5;21;01m.\u001b[39;00m\u001b[38;5;21;01mcore\u001b[39;00m \u001b[38;5;28;01mimport\u001b[39;00m Status\n\u001b[1;32m     20\u001b[0m \u001b[38;5;28;01mfrom\u001b[39;00m \u001b[38;5;21;01mdistributed\u001b[39;00m\u001b[38;5;21;01m.\u001b[39;00m\u001b[38;5;21;01mdeploy\u001b[39;00m\u001b[38;5;21;01m.\u001b[39;00m\u001b[38;5;21;01mspec\u001b[39;00m \u001b[38;5;28;01mimport\u001b[39;00m ProcessInterface, SpecCluster\n\u001b[1;32m     21\u001b[0m \u001b[38;5;28;01mfrom\u001b[39;00m \u001b[38;5;21;01mdistributed\u001b[39;00m\u001b[38;5;21;01m.\u001b[39;00m\u001b[38;5;21;01mdeploy\u001b[39;00m\u001b[38;5;21;01m.\u001b[39;00m\u001b[38;5;21;01mlocal\u001b[39;00m \u001b[38;5;28;01mimport\u001b[39;00m nprocesses_nthreads\n",
      "File \u001b[0;32m/glade/work/afoster/conda-envs/ml_analysis/lib/python3.11/site-packages/distributed/__init__.py:23\u001b[0m\n\u001b[1;32m     20\u001b[0m \u001b[38;5;28;01mfrom\u001b[39;00m \u001b[38;5;21;01mdask\u001b[39;00m\u001b[38;5;21;01m.\u001b[39;00m\u001b[38;5;21;01mconfig\u001b[39;00m \u001b[38;5;28;01mimport\u001b[39;00m config  \u001b[38;5;66;03m# type: ignore\u001b[39;00m\n\u001b[1;32m     22\u001b[0m \u001b[38;5;28;01mfrom\u001b[39;00m \u001b[38;5;21;01mdistributed\u001b[39;00m\u001b[38;5;21;01m.\u001b[39;00m\u001b[38;5;21;01m_version\u001b[39;00m \u001b[38;5;28;01mimport\u001b[39;00m get_versions\n\u001b[0;32m---> 23\u001b[0m \u001b[38;5;28;01mfrom\u001b[39;00m \u001b[38;5;21;01mdistributed\u001b[39;00m\u001b[38;5;21;01m.\u001b[39;00m\u001b[38;5;21;01mactor\u001b[39;00m \u001b[38;5;28;01mimport\u001b[39;00m Actor, ActorFuture, BaseActorFuture\n\u001b[1;32m     24\u001b[0m \u001b[38;5;28;01mfrom\u001b[39;00m \u001b[38;5;21;01mdistributed\u001b[39;00m\u001b[38;5;21;01m.\u001b[39;00m\u001b[38;5;21;01mclient\u001b[39;00m \u001b[38;5;28;01mimport\u001b[39;00m (\n\u001b[1;32m     25\u001b[0m     Client,\n\u001b[1;32m     26\u001b[0m     CompatibleExecutor,\n\u001b[0;32m   (...)\u001b[0m\n\u001b[1;32m     35\u001b[0m     wait,\n\u001b[1;32m     36\u001b[0m )\n\u001b[1;32m     37\u001b[0m \u001b[38;5;28;01mfrom\u001b[39;00m \u001b[38;5;21;01mdistributed\u001b[39;00m\u001b[38;5;21;01m.\u001b[39;00m\u001b[38;5;21;01mcore\u001b[39;00m \u001b[38;5;28;01mimport\u001b[39;00m Status, connect, rpc\n",
      "File \u001b[0;32m/glade/work/afoster/conda-envs/ml_analysis/lib/python3.11/site-packages/distributed/actor.py:13\u001b[0m\n\u001b[1;32m      9\u001b[0m \u001b[38;5;28;01mfrom\u001b[39;00m \u001b[38;5;21;01mtyping\u001b[39;00m \u001b[38;5;28;01mimport\u001b[39;00m Generic, Literal, NoReturn, TypeVar\n\u001b[1;32m     11\u001b[0m \u001b[38;5;28;01mfrom\u001b[39;00m \u001b[38;5;21;01mtornado\u001b[39;00m\u001b[38;5;21;01m.\u001b[39;00m\u001b[38;5;21;01mioloop\u001b[39;00m \u001b[38;5;28;01mimport\u001b[39;00m IOLoop\n\u001b[0;32m---> 13\u001b[0m \u001b[38;5;28;01mfrom\u001b[39;00m \u001b[38;5;21;01mdistributed\u001b[39;00m\u001b[38;5;21;01m.\u001b[39;00m\u001b[38;5;21;01mclient\u001b[39;00m \u001b[38;5;28;01mimport\u001b[39;00m Future\n\u001b[1;32m     14\u001b[0m \u001b[38;5;28;01mfrom\u001b[39;00m \u001b[38;5;21;01mdistributed\u001b[39;00m\u001b[38;5;21;01m.\u001b[39;00m\u001b[38;5;21;01mprotocol\u001b[39;00m \u001b[38;5;28;01mimport\u001b[39;00m to_serialize\n\u001b[1;32m     15\u001b[0m \u001b[38;5;28;01mfrom\u001b[39;00m \u001b[38;5;21;01mdistributed\u001b[39;00m\u001b[38;5;21;01m.\u001b[39;00m\u001b[38;5;21;01mutils\u001b[39;00m \u001b[38;5;28;01mimport\u001b[39;00m LateLoopEvent, iscoroutinefunction, sync, thread_state\n",
      "File \u001b[0;32m/glade/work/afoster/conda-envs/ml_analysis/lib/python3.11/site-packages/distributed/client.py:91\u001b[0m\n\u001b[1;32m     89\u001b[0m \u001b[38;5;28;01mfrom\u001b[39;00m \u001b[38;5;21;01mdistributed\u001b[39;00m\u001b[38;5;21;01m.\u001b[39;00m\u001b[38;5;21;01mpublish\u001b[39;00m \u001b[38;5;28;01mimport\u001b[39;00m Datasets\n\u001b[1;32m     90\u001b[0m \u001b[38;5;28;01mfrom\u001b[39;00m \u001b[38;5;21;01mdistributed\u001b[39;00m\u001b[38;5;21;01m.\u001b[39;00m\u001b[38;5;21;01mpubsub\u001b[39;00m \u001b[38;5;28;01mimport\u001b[39;00m PubSubClientExtension\n\u001b[0;32m---> 91\u001b[0m \u001b[38;5;28;01mfrom\u001b[39;00m \u001b[38;5;21;01mdistributed\u001b[39;00m\u001b[38;5;21;01m.\u001b[39;00m\u001b[38;5;21;01msecurity\u001b[39;00m \u001b[38;5;28;01mimport\u001b[39;00m Security\n\u001b[1;32m     92\u001b[0m \u001b[38;5;28;01mfrom\u001b[39;00m \u001b[38;5;21;01mdistributed\u001b[39;00m\u001b[38;5;21;01m.\u001b[39;00m\u001b[38;5;21;01msizeof\u001b[39;00m \u001b[38;5;28;01mimport\u001b[39;00m sizeof\n\u001b[1;32m     93\u001b[0m \u001b[38;5;28;01mfrom\u001b[39;00m \u001b[38;5;21;01mdistributed\u001b[39;00m\u001b[38;5;21;01m.\u001b[39;00m\u001b[38;5;21;01mthreadpoolexecutor\u001b[39;00m \u001b[38;5;28;01mimport\u001b[39;00m rejoin\n",
      "File \u001b[0;32m<frozen importlib._bootstrap>:1176\u001b[0m, in \u001b[0;36m_find_and_load\u001b[0;34m(name, import_)\u001b[0m\n",
      "File \u001b[0;32m<frozen importlib._bootstrap>:1147\u001b[0m, in \u001b[0;36m_find_and_load_unlocked\u001b[0;34m(name, import_)\u001b[0m\n",
      "File \u001b[0;32m<frozen importlib._bootstrap>:690\u001b[0m, in \u001b[0;36m_load_unlocked\u001b[0;34m(spec)\u001b[0m\n",
      "File \u001b[0;32m<frozen importlib._bootstrap_external>:936\u001b[0m, in \u001b[0;36mexec_module\u001b[0;34m(self, module)\u001b[0m\n",
      "File \u001b[0;32m<frozen importlib._bootstrap_external>:1032\u001b[0m, in \u001b[0;36mget_code\u001b[0;34m(self, fullname)\u001b[0m\n",
      "File \u001b[0;32m<frozen importlib._bootstrap_external>:1131\u001b[0m, in \u001b[0;36mget_data\u001b[0;34m(self, path)\u001b[0m\n",
      "\u001b[0;31mKeyboardInterrupt\u001b[0m: "
     ]
    }
   ],
   "source": [
    "import os\n",
    "import xarray as xr\n",
    "import glob\n",
    "from datetime import date\n",
    "import functools\n",
    "from dask_jobqueue import PBSCluster\n",
    "from dask.distributed import Client\n",
    "import pandas as pd"
   ]
  },
  {
   "cell_type": "code",
   "execution_count": null,
   "id": "19dbe560-1f5c-4aa2-9138-0d135b2df56d",
   "metadata": {},
   "outputs": [],
   "source": [
    "# Setup PBSCluster\n",
    "cluster = PBSCluster(\n",
    "    cores=1,                                      # The number of cores you want\n",
    "    memory='10GB',                                # Amount of memory\n",
    "    processes=1,                                  # How many processes\n",
    "    queue='casper',                               # The type of queue to utilize (/glade/u/apps/dav/opt/usr/bin/execcasper)\n",
    "    local_directory='/glade/work/afoster',        # Use your local directory\n",
    "    resource_spec='select=1:ncpus=1:mem=10GB',    # Specify resources\n",
    "    project='P93300041',                          # Input your project ID here\n",
    "    walltime='02:00:00',                          # Amount of wall time\n",
    "    interface='ext',                              # Interface to use\n",
    ")"
   ]
  },
  {
   "cell_type": "code",
   "execution_count": null,
   "id": "212f1fc9-1025-48f5-8f0c-b36b09f2cce2",
   "metadata": {},
   "outputs": [],
   "source": [
    "cluster.scale(2)"
   ]
  },
  {
   "cell_type": "code",
   "execution_count": null,
   "id": "a7a31f90-14b3-4983-b6c8-52462ba86996",
   "metadata": {},
   "outputs": [],
   "source": [
    "client = Client(cluster)"
   ]
  },
  {
   "cell_type": "code",
   "execution_count": null,
   "id": "4c414e19-3420-497e-8bad-05f5f4d4b5ac",
   "metadata": {},
   "outputs": [],
   "source": [
    "def preprocess(ds, varset):\n",
    "    return ds[data_vars]"
   ]
  },
  {
   "cell_type": "code",
   "execution_count": null,
   "id": "73a79a21-37ba-4cae-9e7c-11d1ba02d6d6",
   "metadata": {},
   "outputs": [],
   "source": [
    "def postprocess(top_dir, histdir, data_vars):\n",
    "\n",
    "    files = sorted(glob.glob(os.path.join(top_dir, histdir, 'lnd', 'hist/') +\n",
    "                             \"*clm2.h0*.nc\"))\n",
    "    flen = len(files)\n",
    "\n",
    "    if flen < 12:\n",
    "\n",
    "        return None\n",
    "\n",
    "    else:\n",
    "\n",
    "        ds = xr.open_mfdataset(files, combine='nested', concat_dim='time',\n",
    "                               preprocess=functools.partial(preprocess,\n",
    "                                                            varset=data_vars),\n",
    "                               parallel=True, autoclose=True)\n",
    "\n",
    "        # fix time bug\n",
    "        ds['time'] = xr.cftime_range(str(2005), periods=12*60, freq='MS')\n",
    "        ds = ds.sel(time=slice(\"2055-01-01\", \"2064-12-31\"))\n",
    "        ds['time'] = xr.cftime_range(str(2005), periods=12*10, freq='MS')\n",
    "\n",
    "        # calculate some variables\n",
    "        ds['ASA'] = ds.FSR/ds.FSDS.where(ds.FSDS > 0)\n",
    "        ds['ASA'].attrs['units'] = 'unitless'\n",
    "        ds['ASA'].attrs['long_name'] = 'All sky albedo'\n",
    "\n",
    "        ds['GPP'] = ds['FATES_GPP']*ds['FATES_FRACTION']  # kg m-2 s-1\n",
    "        ds['GPP'].attrs['units'] = ds['FATES_GPP'].attrs['units']\n",
    "        ds['GPP'].attrs['long_name'] = ds['FATES_GPP'].attrs['long_name']\n",
    "\n",
    "        ds['Temp'] = ds.TSA - 273.15\n",
    "        ds['Temp'].attrs['units'] = 'degrees C'\n",
    "        ds['Temp'].attrs['long_name'] = ds['TSA'].attrs['long_name']\n",
    "\n",
    "        ds0 = xr.open_dataset(files[0])\n",
    "        extras = ['grid1d_lat', 'grid1d_lon']\n",
    "        for extra in extras:\n",
    "            ds[extra] = ds0[extra]\n",
    "\n",
    "        ds['ensemble'] = histdir.split('_')[-1]\n",
    "\n",
    "        ds.attrs['Date'] = str(date.today())\n",
    "        ds.attrs['Author'] = 'afoster@ucar.edu'\n",
    "        ds.attrs['Original'] = files[0]\n",
    "\n",
    "        return ds"
   ]
  },
  {
   "cell_type": "code",
   "execution_count": null,
   "id": "563afa18-6449-4a71-9bd8-0de87fdf80db",
   "metadata": {},
   "outputs": [],
   "source": [
    "data_vars = ['FATES_GPP', 'EFLX_LH_TOT', 'FSR', 'FSDS', 'QRUNOFF',\n",
    "             'FATES_FRACTION', 'SNOWDP', 'SOILWATER_10CM', 'TV',\n",
    "             'FATES_LAI', 'TWS', 'FSH', 'QVEGE', 'TG', 'TSA', 'RAIN', 'SNOW',\n",
    "             'TBOT']"
   ]
  },
  {
   "cell_type": "code",
   "execution_count": null,
   "id": "edac6cbe-dad1-4bd5-a902-9ea6df6a1ad1",
   "metadata": {},
   "outputs": [],
   "source": [
    "top_dir = '/glade/derecho/scratch/afoster/FATES_SP_LH_500/archive'\n",
    "postp_dir = '/glade/work/afoster/FATES_calibration/FATES_SP_LH/hist_500/'\n",
    "dirs = sorted(os.listdir(top_dir))"
   ]
  },
  {
   "cell_type": "code",
   "execution_count": null,
   "id": "aa1399d2-f986-42f3-b9a9-426960214be1",
   "metadata": {},
   "outputs": [],
   "source": [
    "bad_ensembles = []\n",
    "good_ensembles = []\n",
    "for histdir in dirs:\n",
    "    ensemble = histdir.split('_')[-1]\n",
    "    ds = postprocess(top_dir, histdir, data_vars)\n",
    "    if ds is not None:\n",
    "        out_file = os.path.join(postp_dir, f\"{histdir}.nc\")\n",
    "        ds.to_netcdf(out_file)\n",
    "        good_ensembles.append(ensemble)\n",
    "    else:\n",
    "        bad_ensembles.append(ensemble)"
   ]
  },
  {
   "cell_type": "code",
   "execution_count": null,
   "id": "0c57513d-593a-49bf-b10b-52d01e9cd5ab",
   "metadata": {},
   "outputs": [],
   "source": [
    "with open('ensembles_good.txt', 'w') as f:\n",
    "    for line in good_ensembles:\n",
    "        f.write(f\"{line}\\n\")"
   ]
  }
 ],
 "metadata": {
  "kernelspec": {
   "display_name": "Python [conda env:ml_analysis]",
   "language": "python",
   "name": "conda-env-ml_analysis-py"
  },
  "language_info": {
   "codemirror_mode": {
    "name": "ipython",
    "version": 3
   },
   "file_extension": ".py",
   "mimetype": "text/x-python",
   "name": "python",
   "nbconvert_exporter": "python",
   "pygments_lexer": "ipython3",
   "version": "3.11.7"
  }
 },
 "nbformat": 4,
 "nbformat_minor": 5
}
