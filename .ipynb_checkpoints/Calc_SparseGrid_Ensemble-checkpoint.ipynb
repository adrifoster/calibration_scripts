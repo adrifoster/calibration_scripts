{
 "cells": [
  {
   "cell_type": "markdown",
   "id": "e4805c39-ce78-4795-9b84-4b50197e96b8",
   "metadata": {},
   "source": [
    "# Calculate CLM Output for Sparse Grid"
   ]
  },
  {
   "cell_type": "code",
   "execution_count": 1,
   "id": "0698f0d2-29ed-47f8-8b9e-1fa30b11603b",
   "metadata": {
    "scrolled": true
   },
   "outputs": [],
   "source": [
    "import os\n",
    "import copy\n",
    "import glob\n",
    "\n",
    "import xarray as xr\n",
    "import pandas as pd\n",
    "import numpy as np\n",
    "import matplotlib\n",
    "import dask\n",
    "\n",
    "import matplotlib.pyplot as plt\n",
    "from dask_jobqueue import PBSCluster\n",
    "from dask.distributed import Client"
   ]
  },
  {
   "cell_type": "markdown",
   "id": "cbb48f82-b4a3-4605-8da0-de43a6c2e45a",
   "metadata": {},
   "source": [
    "## PBS Cluster Setup"
   ]
  },
  {
   "cell_type": "code",
   "execution_count": 2,
   "id": "054108ba-40ce-40b5-b8b9-6a193667a4a3",
   "metadata": {},
   "outputs": [
    {
     "name": "stderr",
     "output_type": "stream",
     "text": [
      "/glade/work/afoster/conda-envs/ml_analysis/lib/python3.11/site-packages/dask_jobqueue/pbs.py:82: FutureWarning: project has been renamed to account as this kwarg was used wit -A option. You are still using it (please also check config files). If you did not set account yet, project will be respected for now, but it will be removed in a future release. If you already set account, project is ignored and you can remove it.\n",
      "  warnings.warn(warn, FutureWarning)\n",
      "/glade/work/afoster/conda-envs/ml_analysis/lib/python3.11/site-packages/distributed/node.py:182: UserWarning: Port 8787 is already in use.\n",
      "Perhaps you already have a cluster running?\n",
      "Hosting the HTTP server on port 35815 instead\n",
      "  warnings.warn(\n"
     ]
    }
   ],
   "source": [
    "# Setup PBSCluster\n",
    "cluster = PBSCluster(\n",
    "    cores=1,                                     # The number of cores you want\n",
    "    memory='25GB',                               # Amount of memory\n",
    "    processes=1,                                 # How many processes\n",
    "    queue='casper',                              # The type of queue to utilize\n",
    "    local_directory='/glade/work/afoster',       # Use your local directory\n",
    "    resource_spec='select=1:ncpus=1:mem=25GB',   # Specify resources\n",
    "    project='P93300041',                         # Input your project ID here\n",
    "    walltime='08:00:00',                         # Amount of wall time\n",
    "    interface='ext',                             # Interface to use\n",
    ")"
   ]
  },
  {
   "cell_type": "code",
   "execution_count": 3,
   "id": "f70eec6c-32da-43bc-9c4d-b9321548b1d3",
   "metadata": {},
   "outputs": [
    {
     "name": "stderr",
     "output_type": "stream",
     "text": [
      "/glade/work/afoster/conda-envs/ml_analysis/lib/python3.11/site-packages/dask_jobqueue/pbs.py:82: FutureWarning: project has been renamed to account as this kwarg was used wit -A option. You are still using it (please also check config files). If you did not set account yet, project will be respected for now, but it will be removed in a future release. If you already set account, project is ignored and you can remove it.\n",
      "  warnings.warn(warn, FutureWarning)\n"
     ]
    }
   ],
   "source": [
    "cluster.scale(30)"
   ]
  },
  {
   "cell_type": "code",
   "execution_count": 4,
   "id": "e3f6a584-85f7-45ae-bb1a-32a31b038844",
   "metadata": {},
   "outputs": [],
   "source": [
    "client = Client(cluster)"
   ]
  },
  {
   "cell_type": "markdown",
   "id": "8f2ff79b-4ae5-4bbe-a4af-2c2809fc3aad",
   "metadata": {},
   "source": [
    "## Helper Functions"
   ]
  },
  {
   "cell_type": "code",
   "execution_count": 5,
   "id": "3e2465a6-ba87-433f-afdd-22f6cbb98434",
   "metadata": {},
   "outputs": [],
   "source": [
    "def get_ensemble(files):\n",
    "    # read in dataset and attach other info\n",
    "    ds = xr.open_mfdataset(files, combine='nested', concat_dim='ensemble', \n",
    "                           parallel=True, chunks = {'time': 60, 'ensemble': 250, 'gridcell': 200})\n",
    "    return ds"
   ]
  },
  {
   "cell_type": "code",
   "execution_count": 6,
   "id": "351b9757-0132-479d-ba0f-096b381a87d1",
   "metadata": {},
   "outputs": [],
   "source": [
    "def annual_mean(da, cf):\n",
    "\n",
    "    days_per_month = da['time.daysinmonth']\n",
    "    ann_mean = cf*(days_per_month*da).groupby('time.year').sum()\n",
    "    ann_mean.name = da.name\n",
    "\n",
    "    return ann_mean"
   ]
  },
  {
   "cell_type": "code",
   "execution_count": 7,
   "id": "68bcd1e9-8412-44f7-95cd-d79bdb9de2e8",
   "metadata": {},
   "outputs": [],
   "source": [
    "def calculate_vars(ds):\n",
    "    # GPP in kg/m2/yr\n",
    "    gpp_ens = annual_mean(ds.GPP, 24*60*60).mean(dim='year')\n",
    "    \n",
    "    # ET in kg/m2/yr\n",
    "    et_ens = annual_mean(ds.EFLX_LH_TOT, 1/2.5e6*24*60*60).mean(dim='year')\n",
    "\n",
    "    # LH in W/m2\n",
    "    lh_ens = annual_mean(ds.FSH, 1/365).mean(dim='year')\n",
    "\n",
    "    # albedo (unitless)\n",
    "    alb_ens = annual_mean(ds.ASA, 1/365).mean(dim='year')\n",
    "\n",
    "    ensemble_ds = xr.merge([gpp_ens, et_ens, lh_ens, alb_ens])\n",
    "\n",
    "    return ensemble_ds"
   ]
  },
  {
   "cell_type": "code",
   "execution_count": 8,
   "id": "9ccc93dd-f8a2-4ea4-b9ab-e5bf1a902c3e",
   "metadata": {},
   "outputs": [],
   "source": [
    "def calc_all_pfts(ds, pfts, grid_pfts):\n",
    "\n",
    "    pft_ds = []\n",
    "    for pft in pfts:\n",
    "        grid = grid_pfts[grid_pfts.pft == pft]\n",
    "        if grid.num_gridcells.values[0] > 0:\n",
    "            gridcells = [int(f) for f in grid.gridcells.values[0].split(',')]\n",
    "            ds_pft = ds.where(ds.gridcell.isin(gridcells), drop=True)\n",
    "\n",
    "            ensemble_ds = calculate_vars(ds_pft)\n",
    "            ensemble_ds['pft'] = pft\n",
    "            pft_ds.append(ensemble_ds)\n",
    "\n",
    "    pft_dat = xr.concat(pft_ds, dim = 'pft')\n",
    "\n",
    "    return pft_dat"
   ]
  },
  {
   "cell_type": "markdown",
   "id": "b120a9d7-3841-4aad-9eb4-74eb8cb03b87",
   "metadata": {},
   "source": [
    "## Read in Ensemble"
   ]
  },
  {
   "cell_type": "code",
   "execution_count": 9,
   "id": "a37b5973-d375-40fa-91c2-c6d953d72aab",
   "metadata": {},
   "outputs": [],
   "source": [
    "topdir = '/glade/work/afoster/FATES_calibration/FATES_SP_LH/hist'"
   ]
  },
  {
   "cell_type": "code",
   "execution_count": 10,
   "id": "85a9c18e-ca15-42c1-a58a-07091649855a",
   "metadata": {},
   "outputs": [],
   "source": [
    "files = sorted([os.path.join(topdir, file) for file in os.listdir(topdir)])\n",
    "ds = get_ensemble(files)"
   ]
  },
  {
   "cell_type": "code",
   "execution_count": 11,
   "id": "0b23b58d-6adf-420d-aff3-50239ce7737b",
   "metadata": {},
   "outputs": [],
   "source": [
    "annual_vals = calculate_vars(ds)"
   ]
  },
  {
   "cell_type": "code",
   "execution_count": null,
   "id": "68b5b617-3120-4c47-9743-2565d996559f",
   "metadata": {},
   "outputs": [],
   "source": [
    "annual_vals.to_netcdf('LH300_sparsegrid_output.nc')"
   ]
  },
  {
   "cell_type": "code",
   "execution_count": null,
   "id": "b30304f3-de4d-4d61-9871-9d770a6b7ed9",
   "metadata": {},
   "outputs": [],
   "source": []
  }
 ],
 "metadata": {
  "kernelspec": {
   "display_name": "Python [conda env:ml_analysis]",
   "language": "python",
   "name": "conda-env-ml_analysis-py"
  },
  "language_info": {
   "codemirror_mode": {
    "name": "ipython",
    "version": 3
   },
   "file_extension": ".py",
   "mimetype": "text/x-python",
   "name": "python",
   "nbconvert_exporter": "python",
   "pygments_lexer": "ipython3",
   "version": "3.11.7"
  }
 },
 "nbformat": 4,
 "nbformat_minor": 5
}
