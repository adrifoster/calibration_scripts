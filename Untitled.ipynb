{
 "cells": [
  {
   "cell_type": "code",
   "execution_count": 1,
   "id": "cb97c2b8-b728-4840-86d9-dd772dabe1a0",
   "metadata": {},
   "outputs": [],
   "source": [
    "import glob\n",
    "import math\n",
    "import os\n",
    "\n",
    "import cftime\n",
    "import matplotlib.pyplot as plt\n",
    "import numpy as np\n",
    "import pandas as pd\n",
    "import xarray as xr\n",
    "import dask\n",
    "from dask.distributed import Client\n",
    "from dask_jobqueue import PBSCluster"
   ]
  },
  {
   "cell_type": "code",
   "execution_count": 2,
   "id": "daf42e29-961e-4fd5-8785-bfea8a63d9c8",
   "metadata": {},
   "outputs": [
    {
     "data": {
      "text/html": [
       "<div>\n",
       "    <div style=\"width: 24px; height: 24px; background-color: #e1e1e1; border: 3px solid #9D9D9D; border-radius: 5px; position: absolute;\"> </div>\n",
       "    <div style=\"margin-left: 48px;\">\n",
       "        <h3 style=\"margin-bottom: 0px;\">Client</h3>\n",
       "        <p style=\"color: #9D9D9D; margin-bottom: 0px;\">Client-1efbf682-f524-11ef-8b3f-3cecef1aca66</p>\n",
       "        <table style=\"width: 100%; text-align: left;\">\n",
       "\n",
       "        <tr>\n",
       "        \n",
       "            <td style=\"text-align: left;\"><strong>Connection method:</strong> Cluster object</td>\n",
       "            <td style=\"text-align: left;\"><strong>Cluster type:</strong> dask_jobqueue.PBSCluster</td>\n",
       "        \n",
       "        </tr>\n",
       "\n",
       "        \n",
       "            <tr>\n",
       "                <td style=\"text-align: left;\">\n",
       "                    <strong>Dashboard: </strong> <a href=\"https://jupyterhub.hpc.ucar.edu/stable/user/afoster/proxy/8787/status\" target=\"_blank\">https://jupyterhub.hpc.ucar.edu/stable/user/afoster/proxy/8787/status</a>\n",
       "                </td>\n",
       "                <td style=\"text-align: left;\"></td>\n",
       "            </tr>\n",
       "        \n",
       "\n",
       "        </table>\n",
       "\n",
       "        \n",
       "\n",
       "        \n",
       "            <details>\n",
       "            <summary style=\"margin-bottom: 20px;\"><h3 style=\"display: inline;\">Cluster Info</h3></summary>\n",
       "            <div class=\"jp-RenderedHTMLCommon jp-RenderedHTML jp-mod-trusted jp-OutputArea-output\">\n",
       "    <div style=\"width: 24px; height: 24px; background-color: #e1e1e1; border: 3px solid #9D9D9D; border-radius: 5px; position: absolute;\">\n",
       "    </div>\n",
       "    <div style=\"margin-left: 48px;\">\n",
       "        <h3 style=\"margin-bottom: 0px; margin-top: 0px;\">PBSCluster</h3>\n",
       "        <p style=\"color: #9D9D9D; margin-bottom: 0px;\">ebd5b145</p>\n",
       "        <table style=\"width: 100%; text-align: left;\">\n",
       "            <tr>\n",
       "                <td style=\"text-align: left;\">\n",
       "                    <strong>Dashboard:</strong> <a href=\"https://jupyterhub.hpc.ucar.edu/stable/user/afoster/proxy/8787/status\" target=\"_blank\">https://jupyterhub.hpc.ucar.edu/stable/user/afoster/proxy/8787/status</a>\n",
       "                </td>\n",
       "                <td style=\"text-align: left;\">\n",
       "                    <strong>Workers:</strong> 0\n",
       "                </td>\n",
       "            </tr>\n",
       "            <tr>\n",
       "                <td style=\"text-align: left;\">\n",
       "                    <strong>Total threads:</strong> 0\n",
       "                </td>\n",
       "                <td style=\"text-align: left;\">\n",
       "                    <strong>Total memory:</strong> 0 B\n",
       "                </td>\n",
       "            </tr>\n",
       "            \n",
       "        </table>\n",
       "\n",
       "        <details>\n",
       "            <summary style=\"margin-bottom: 20px;\">\n",
       "                <h3 style=\"display: inline;\">Scheduler Info</h3>\n",
       "            </summary>\n",
       "\n",
       "            <div style=\"\">\n",
       "    <div>\n",
       "        <div style=\"width: 24px; height: 24px; background-color: #FFF7E5; border: 3px solid #FF6132; border-radius: 5px; position: absolute;\"> </div>\n",
       "        <div style=\"margin-left: 48px;\">\n",
       "            <h3 style=\"margin-bottom: 0px;\">Scheduler</h3>\n",
       "            <p style=\"color: #9D9D9D; margin-bottom: 0px;\">Scheduler-8f1b9f54-b1a1-43a8-949d-261f44c48fcb</p>\n",
       "            <table style=\"width: 100%; text-align: left;\">\n",
       "                <tr>\n",
       "                    <td style=\"text-align: left;\">\n",
       "                        <strong>Comm:</strong> tcp://128.117.208.88:44377\n",
       "                    </td>\n",
       "                    <td style=\"text-align: left;\">\n",
       "                        <strong>Workers:</strong> 0\n",
       "                    </td>\n",
       "                </tr>\n",
       "                <tr>\n",
       "                    <td style=\"text-align: left;\">\n",
       "                        <strong>Dashboard:</strong> <a href=\"https://jupyterhub.hpc.ucar.edu/stable/user/afoster/proxy/8787/status\" target=\"_blank\">https://jupyterhub.hpc.ucar.edu/stable/user/afoster/proxy/8787/status</a>\n",
       "                    </td>\n",
       "                    <td style=\"text-align: left;\">\n",
       "                        <strong>Total threads:</strong> 0\n",
       "                    </td>\n",
       "                </tr>\n",
       "                <tr>\n",
       "                    <td style=\"text-align: left;\">\n",
       "                        <strong>Started:</strong> Just now\n",
       "                    </td>\n",
       "                    <td style=\"text-align: left;\">\n",
       "                        <strong>Total memory:</strong> 0 B\n",
       "                    </td>\n",
       "                </tr>\n",
       "            </table>\n",
       "        </div>\n",
       "    </div>\n",
       "\n",
       "    <details style=\"margin-left: 48px;\">\n",
       "        <summary style=\"margin-bottom: 20px;\">\n",
       "            <h3 style=\"display: inline;\">Workers</h3>\n",
       "        </summary>\n",
       "\n",
       "        \n",
       "\n",
       "    </details>\n",
       "</div>\n",
       "\n",
       "        </details>\n",
       "    </div>\n",
       "</div>\n",
       "            </details>\n",
       "        \n",
       "\n",
       "    </div>\n",
       "</div>"
      ],
      "text/plain": [
       "<Client: 'tcp://128.117.208.88:44377' processes=0 threads=0, memory=0 B>"
      ]
     },
     "execution_count": 2,
     "metadata": {},
     "output_type": "execute_result"
    }
   ],
   "source": [
    "# Setup PBSCluster\n",
    "cluster = PBSCluster(\n",
    "    cores=1,                                                   # The number of cores you want\n",
    "    memory='25GB',                                             # Amount of memory\n",
    "    processes=1,                                               # How many processes\n",
    "    queue='casper',                                            # The type of queue to utilize\n",
    "    local_directory='/glade/work/afoster',                     # Use your local directory\n",
    "    resource_spec='select=1:ncpus=1:mem=25GB',                 # Specify resources\n",
    "    log_directory='/glade/derecho/scratch/afoster/dask_logs',  # log directory\n",
    "    account='P93300041',                                       # Input your project ID here\n",
    "    walltime='02:00:00',                                       # Amount of wall time\n",
    "    interface='ext')                                           # Interface to use\n",
    "\n",
    "cluster.scale(30)\n",
    "dask.config.set({\n",
    "    'distributed.dashboard.link': 'https://jupyterhub.hpc.ucar.edu/stable/user/{USER}/proxy/{port}/status'\n",
    "})\n",
    "client = Client(cluster)\n",
    "client"
   ]
  },
  {
   "cell_type": "code",
   "execution_count": 3,
   "id": "5d27ca7a-73d6-406b-b64c-d4c4aae60611",
   "metadata": {},
   "outputs": [],
   "source": [
    "def get_raw_neon_obs(obs_dir, site):\n",
    "    \n",
    "    obs_files = sorted(glob.glob(obs_dir + \"/\" + f\"*{site}*.nc\"))\n",
    "    obs = xr.open_mfdataset(obs_files, combine='nested',\n",
    "                            concat_dim='time', parallel=True, autoclose=True)\n",
    "    \n",
    "    sec_per_day = 24*60*60\n",
    "    gpp_gc_m2_s = obs.GPP*1E-6*12.011\n",
    "    \n",
    "    gpp = (gpp_gc_m2_s.resample(time='D').mean())*sec_per_day # gC/m2/ms to gC/m2/d\n",
    "    lh = obs.EFLX_LH_TOT.resample(time='D').mean()            # W/m2\n",
    "    sh = obs.FSH.resample(time='D').mean()                    # W/m2\n",
    "    rnet = obs.Rnet.resample(time='D').mean()                 # W/m2\n",
    "    \n",
    "    neon_dat = xr.merge([gpp, lh, sh, rnet])\n",
    "    neon_dat = neon_dat.convert_calendar(\"standard\", use_cftime=True)\n",
    "    neon_dat = neon_dat.isel(lat=0).isel(lon=0)\n",
    "\n",
    "    return neon_dat"
   ]
  },
  {
   "cell_type": "code",
   "execution_count": 5,
   "id": "cbc8645b-150b-403c-8b28-fb86326170b1",
   "metadata": {},
   "outputs": [],
   "source": [
    "def get_climatology(dat):\n",
    "    \n",
    "    daily_gpp = dat.GPP.groupby(\"time.dayofyear\").mean().to_dataset(name='GPP')\n",
    "    daily_gpp_var = dat.GPP.groupby('time.dayofyear').var().to_dataset(name='GPPvar')\n",
    "    daily_lh = dat.EFLX_LH_TOT.groupby('time.dayofyear').mean().to_dataset(name='EFLX_LH_TOT')\n",
    "    daily_lh_var = dat.EFLX_LH_TOT.groupby('time.dayofyear').var().to_dataset(name='EFLX_LH_TOTvar')\n",
    "    daily_sh = dat.FSH.groupby('time.dayofyear').mean().to_dataset(name='FSH')\n",
    "    daily_sh_var = dat.FSH.groupby('time.dayofyear').var().to_dataset(name='FSHvar')\n",
    "    daily_rnet = dat.Rnet.groupby('time.dayofyear').mean().to_dataset(name='Rnet')\n",
    "    daily_rnet_var = dat.Rnet.groupby('time.dayofyear').var().to_dataset(name='Rnetvar')\n",
    "\n",
    "    out = xr.merge([daily_gpp, daily_gpp_var, daily_lh, daily_lh_var, daily_sh, daily_sh_var,\n",
    "                   daily_rnet, daily_rnet_var])\n",
    "\n",
    "   # out = out.sel(\n",
    "\n",
    "    return out"
   ]
  },
  {
   "cell_type": "code",
   "execution_count": 6,
   "id": "e755994b-4f17-4549-9c33-b9f97eeb4046",
   "metadata": {},
   "outputs": [
    {
     "data": {
      "text/plain": [
       "41"
      ]
     },
     "execution_count": 6,
     "metadata": {},
     "output_type": "execute_result"
    }
   ],
   "source": [
    "# observations\n",
    "obs_dir = \"/glade/work/afoster/NEON_calibration/NEON_eval_files\"\n",
    "sites = np.unique([os.path.basename(f)[0:4] for f in sorted(glob.glob(obs_dir + \"/\" + \"*.nc\"))])\n",
    "len(sites)"
   ]
  },
  {
   "cell_type": "code",
   "execution_count": 9,
   "id": "7053ec88-9a1f-461a-abef-8de837555a07",
   "metadata": {},
   "outputs": [
    {
     "name": "stdout",
     "output_type": "stream",
     "text": [
      "SERC\n",
      "SOAP\n",
      "SRER\n",
      "STEI\n",
      "STER\n",
      "TALL\n",
      "TOOL\n",
      "TREE\n",
      "UNDE\n",
      "WOOD\n"
     ]
    }
   ],
   "source": [
    "for site in sites:\n",
    "    file = os.path.join(obs_dir, 'climatology', f\"{site}_climatology.nc\")\n",
    "    if not os.path.exists(file):\n",
    "        obs = get_raw_neon_obs(obs_dir, site)\n",
    "        clim = get_climatology(obs)\n",
    "        clim.to_netcdf(os.path.join(obs_dir, 'climatology', f\"{site}_climatology.nc\"))"
   ]
  },
  {
   "cell_type": "code",
   "execution_count": 14,
   "id": "86c06f0f-0e06-4151-8256-7b87df4841b2",
   "metadata": {},
   "outputs": [],
   "source": [
    "clim_dir = os.path.join(obs_dir, 'climatology')\n",
    "files = [os.path.join(clim_dir, f) for f in sorted(os.listdir(clim_dir))]"
   ]
  },
  {
   "cell_type": "code",
   "execution_count": 25,
   "id": "ec96d52d-5d4a-492a-8942-b1cd86818301",
   "metadata": {},
   "outputs": [],
   "source": [
    "obs_dat = []\n",
    "for file in files:\n",
    "    obs_dat.append(xr.open_dataset(file))"
   ]
  },
  {
   "cell_type": "code",
   "execution_count": 30,
   "id": "8bf11625-4502-483e-9865-7c709c85b879",
   "metadata": {},
   "outputs": [],
   "source": [
    "sites = np.unique([os.path.basename(f)[0:4] for f in sorted(glob.glob(obs_dir + \"/\" + \"*.nc\"))])"
   ]
  },
  {
   "cell_type": "code",
   "execution_count": 35,
   "id": "e5246b55-6651-41ad-bcc1-2b7af7edefdc",
   "metadata": {},
   "outputs": [],
   "source": [
    "obs = xr.concat(obs_dat, dim='site')\n",
    "obs = obs.assign_coords(site=(\"site\", sites))"
   ]
  },
  {
   "cell_type": "code",
   "execution_count": 39,
   "id": "eee58767-4b7b-4bf3-bb98-2fc3489b670d",
   "metadata": {},
   "outputs": [
    {
     "data": {
      "text/plain": [
       "41"
      ]
     },
     "execution_count": 39,
     "metadata": {},
     "output_type": "execute_result"
    }
   ],
   "source": [
    "len(sites)"
   ]
  },
  {
   "cell_type": "code",
   "execution_count": 21,
   "id": "dfa707c4-4339-4ac5-8bab-52288b2fbf9e",
   "metadata": {},
   "outputs": [
    {
     "data": {
      "text/plain": [
       "<matplotlib.collections.PolyCollection at 0x14860aba6850>"
      ]
     },
     "execution_count": 21,
     "metadata": {},
     "output_type": "execute_result"
    },
    {
     "data": {
      "image/png": "[encoded data removed]",
      "text/plain": [
       "<Figure size 800x400 with 1 Axes>"
      ]
     },
     "metadata": {},
     "output_type": "display_data"
    }
   ],
   "source": [
    "fig, ax = plt.subplots(figsize=(8, 4))\n",
    "ax.plot(dat.dayofyear, dat.GPP, color='blue')\n",
    "ax.fill_between(dat.dayofyear, dat.GPP - np.sqrt(dat.GPPvar), \n",
    "                dat.GPP + np.sqrt(dat.GPPvar), color='blue', alpha=0.2)"
   ]
  },
  {
   "cell_type": "code",
   "execution_count": null,
   "id": "c93d1196-2bfe-465e-865d-76535c11db04",
   "metadata": {},
   "outputs": [],
   "source": []
  }
 ],
 "metadata": {
  "kernelspec": {
   "display_name": "Python [conda env:fates_calibration]",
   "language": "python",
   "name": "conda-env-fates_calibration-py"
  },
  "language_info": {
   "codemirror_mode": {
    "name": "ipython",
    "version": 3
   },
   "file_extension": ".py",
   "mimetype": "text/x-python",
   "name": "python",
   "nbconvert_exporter": "python",
   "pygments_lexer": "ipython3",
   "version": "3.11.10"
  }
 },
 "nbformat": 4,
 "nbformat_minor": 5
}
