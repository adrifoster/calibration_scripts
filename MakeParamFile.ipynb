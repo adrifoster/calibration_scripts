{
 "cells": [
  {
   "cell_type": "code",
   "execution_count": 9,
   "id": "c1627735-540f-46c9-af35-836cb182d441",
   "metadata": {},
   "outputs": [],
   "source": [
    "import os\n",
    "import xarray as xr\n",
    "import pandas as pd\n",
    "import numpy as np"
   ]
  },
  {
   "cell_type": "code",
   "execution_count": 20,
   "id": "a425e5dd-e2ab-47d9-8fb0-7993eb29c9fd",
   "metadata": {},
   "outputs": [],
   "source": [
    "# parameter directory\n",
    "param_dir = '/glade/work/afoster/FATES_calibration/parameter_files'\n",
    "\n",
    "# default parameter file\n",
    "fates_param_name = \"fates_param_default.nc\"\n",
    "\n",
    "# csv with updated values for each pft and parameter\n",
    "updated_values = '/glade/u/home/afoster/FATES_Calibration/final_parameters.csv'"
   ]
  },
  {
   "cell_type": "code",
   "execution_count": 35,
   "id": "608fbb73-945f-4e37-8353-1517a57ee28a",
   "metadata": {},
   "outputs": [],
   "source": [
    "# pfts were updated since I did this, plus no crops so dictionary to map between\n",
    "\n",
    "FATES_INDEX = {\"broadleaf_evergreen_tropical_tree\": 1,\n",
    "                \"needleleaf_evergreen_extratrop_tree\": 2,\n",
    "                \"needleleaf_colddecid_extratrop_tree\": 3,\n",
    "                \"broadleaf_evergreen_extratrop_tree\": 4,\n",
    "                \"broadleaf_hydrodecid_tropical_tree\": 5,\n",
    "                \"broadleaf_colddecid_extratrop_tree\": 6,\n",
    "                \"broadleaf_evergreen_extratrop_shrub\": 7,\n",
    "                \"broadleaf_hydrodecid_extratrop_shrub\": 8,\n",
    "                \"broadleaf_colddecid_extratrop_shrub\": 9,\n",
    "                \"arctic_c3_grass\": 10,\n",
    "                \"cool_c3_grass\": 11,\n",
    "                \"c4_grass\": 12,\n",
    "                \"c3_crop\": 13,\n",
    "                \"c3_irrigated\": 14}\n",
    "\n",
    "FATES_INDEX_new = {\"broadleaf_evergreen_tropical_tree\": 1,\n",
    "                \"needleleaf_evergreen_extratrop_tree\": 2,\n",
    "                \"needleleaf_colddecid_extratrop_tree\": 3,\n",
    "                \"broadleaf_evergreen_extratrop_tree\": 4,\n",
    "                \"broadleaf_hydrodecid_tropical_tree\": 5,\n",
    "                \"broadleaf_colddecid_extratrop_tree\": 6,\n",
    "                \"broadleaf_evergreen_extratrop_shrub\": 7,\n",
    "                \"broadleaf_hydrodecid_extratrop_shrub\": 8,\n",
    "                \"broadleaf_colddecid_extratrop_shrub\": 9,\n",
    "                \"broadleaf_evergreen_arctic_shrub\": 10,\n",
    "                \"broadleaf_colddecid_arctic_shrub\": 11,\n",
    "                \"arctic_c3_grass\": 12,\n",
    "                \"cool_c3_grass\": 13,\n",
    "                \"c4_grass\": 14}\n",
    "\n",
    "# skip crops\n",
    "skip_pfts = ['c3_crop', 'c3_irrigated']"
   ]
  },
  {
   "cell_type": "code",
   "execution_count": 72,
   "id": "8acd42f2-ba70-4748-a915-3b4cdf788720",
   "metadata": {},
   "outputs": [],
   "source": [
    "# open default parameter\n",
    "default_param_data = xr.open_dataset(os.path.join(param_dir, fates_param_name))"
   ]
  },
  {
   "cell_type": "code",
   "execution_count": 88,
   "id": "3ca4b985-1aab-45a5-a0b4-4a8dd6bdbaeb",
   "metadata": {},
   "outputs": [],
   "source": [
    "# copy new parameter file\n",
    "new_param = default_param_data.copy(deep=False)"
   ]
  },
  {
   "cell_type": "code",
   "execution_count": 89,
   "id": "d0b9f1fa-6ff3-4047-a187-09a13d48fd39",
   "metadata": {},
   "outputs": [],
   "source": [
    "# update global variables first\n",
    "new_param.fates_leaf_stomatal_model.values = 2  # mendlyn\n",
    "new_param.fates_rad_model.values = 2  # two-stream\n",
    "new_param.fates_maintresp_leaf_model.values = 2  # atkin"
   ]
  },
  {
   "cell_type": "code",
   "execution_count": 90,
   "id": "476a80ce-8472-4c48-b5c4-3e54690d0153",
   "metadata": {},
   "outputs": [],
   "source": [
    "# now update pft-specific values from csv file\n",
    "new_values = pd.read_csv(updated_values, index_col=[0])\n",
    "params = sorted(np.unique(new_values.parameter.values))"
   ]
  },
  {
   "cell_type": "code",
   "execution_count": 91,
   "id": "ba7930da-c177-4248-b0a8-d87957bc8c36",
   "metadata": {},
   "outputs": [],
   "source": [
    "for param in params:\n",
    "    sub = new_values[new_values.parameter == param]\n",
    "\n",
    "    default_val = new_param[param].values\n",
    "    new_val = default_val\n",
    "    pfts = sorted([pft for pft in np.unique(sub.pft) if pft not in skip_pfts])\n",
    "    for pft in pfts:\n",
    "        sub_val = sub[sub.pft == pft].value.values[0]\n",
    "        pft_ind = FATES_INDEX_new[pft]-1\n",
    "        if param == 'fates_leaf_vcmax25top':\n",
    "            new_val[0, pft_ind] = round(sub_val, 3)\n",
    "        else:\n",
    "            new_val[pft_ind] = round(sub_val, 3)\n",
    "    new_param[param].values = new_val"
   ]
  },
  {
   "cell_type": "code",
   "execution_count": 95,
   "id": "09608400-f879-4b2f-a877-301172f04590",
   "metadata": {},
   "outputs": [],
   "source": [
    "new_param.to_netcdf(os.path.join(param_dir, 'updated_param_file.nc'))"
   ]
  },
  {
   "cell_type": "code",
   "execution_count": null,
   "id": "057f9a5d-5eeb-49ca-980c-7fa4575d0fb8",
   "metadata": {},
   "outputs": [],
   "source": []
  }
 ],
 "metadata": {
  "kernelspec": {
   "display_name": "Python [conda env:fates_calibration]",
   "language": "python",
   "name": "conda-env-fates_calibration-py"
  },
  "language_info": {
   "codemirror_mode": {
    "name": "ipython",
    "version": 3
   },
   "file_extension": ".py",
   "mimetype": "text/x-python",
   "name": "python",
   "nbconvert_exporter": "python",
   "pygments_lexer": "ipython3",
   "version": "3.11.10"
  }
 },
 "nbformat": 4,
 "nbformat_minor": 5
}
